{
 "cells": [
  {
   "cell_type": "markdown",
   "id": "2cc80807",
   "metadata": {},
   "source": [
    "- Linear Data Structure\n",
    "- Replacement of Array\n",
    "- it is a collection of node\n",
    "- structure contains data and it value"
   ]
  },
  {
   "cell_type": "code",
   "execution_count": 1,
   "id": "7779ddf2",
   "metadata": {},
   "outputs": [],
   "source": [
    "#Creating Linked List\n",
    "#Inset - head, tail(append), middle\n",
    "#traverse - print\n",
    "#delete - from head, tail(pop), value(remove), index\n",
    "#search - searching an element\n",
    "class Node:\n",
    "    \n",
    "    #Creating node object.\n",
    "    def __init__(self, value):\n",
    "        self.data = value\n",
    "        self.next = None"
   ]
  },
  {
   "cell_type": "code",
   "execution_count": 50,
   "id": "57f0ab77",
   "metadata": {},
   "outputs": [],
   "source": [
    "class LinkedList:\n",
    "    \n",
    "    def __init__(self):\n",
    "        \n",
    "        #empty linkedlist (0 nodes)\n",
    "        #head = None (condition for empty linkedlist)\n",
    "        self.head = None\n",
    "        self.n = 0 #(Count of node in a list)\n",
    "        \n",
    "    def __len__(self):\n",
    "        return self.n\n",
    "        \n",
    "    #inserting the new head\n",
    "    def insert_head(self, value):\n",
    "        \n",
    "        #creating new node\n",
    "        new_node = Node(value)\n",
    "        \n",
    "        #create connection\n",
    "        new_node.next = self.head\n",
    "        \n",
    "        #assign new_node as new head\n",
    "        self.head = new_node\n",
    "        \n",
    "        #increament n:\n",
    "        self.n += 1\n",
    "        \n",
    "    #Insert from tail\n",
    "    def  append(self, value):\n",
    "        new_node = Node(value)\n",
    "        \n",
    "        #if list is already empty\n",
    "        if self.head == None:\n",
    "            self.head = new_node\n",
    "            self.n += 1\n",
    "            return\n",
    "        \n",
    "        #else\n",
    "        #traverse the list and add item to last\n",
    "        curr = self.head\n",
    "        while curr.next != None:\n",
    "            curr = curr.next\n",
    "        \n",
    "        curr.next = new_node\n",
    "    \n",
    "    #Insert in middle of the list\n",
    "    def insert_after(self, after, value):\n",
    "        \n",
    "        new_node = Node(value)\n",
    "        #Loop through the list for searching\n",
    "        curr = self.head\n",
    "        \n",
    "        while curr != None:\n",
    "            if curr.data == after:\n",
    "                break\n",
    "            curr = curr.next\n",
    "        \n",
    "        if curr != None:\n",
    "            new_node.next = curr.next\n",
    "            curr.next = new_node\n",
    "            self.n += 1\n",
    "        else:\n",
    "            return \"Item not found\"\n",
    "            \n",
    "            \n",
    "    #Traverse (print the data/values)\n",
    "    def traverse(self):\n",
    "        \n",
    "        curr = self.head\n",
    "        while curr != None:\n",
    "            print(curr.data)\n",
    "            curr = curr.next\n",
    "            \n",
    "            \n",
    "    #Empty the linked list\n",
    "    def clear_list(self):\n",
    "        self.head = None\n",
    "        self.n = 0\n",
    "        \n",
    "    #Deleting head:\n",
    "    def delete_head(self):\n",
    "        \n",
    "        if self.head == None:\n",
    "            return \"Empty LL\"\n",
    "        else:\n",
    "            self.head = self.head.next\n",
    "            self.n -= 1\n",
    "    \n",
    "    #Deleting from tail (pop)\n",
    "    def pop(self):\n",
    "        \n",
    "        if self.head == None:\n",
    "            #empty LL\n",
    "            return \"Empty LL\"\n",
    "    \n",
    "        curr = self.head\n",
    "        \n",
    "        #condition if there is already one element/node\n",
    "        if curr.next == None:\n",
    "            return self.delete_head()\n",
    "        \n",
    "        while curr.next.next != None:\n",
    "            curr = curr.next #increament condition\n",
    "        \n",
    "        #Curr -> 2nd last node\n",
    "        curr.next = None\n",
    "        self.n -= 1\n",
    "    \n",
    "    \n",
    "    #Deleting a value\n",
    "    def remove(self, value):\n",
    "        \n",
    "        if self.head == None:\n",
    "            return \"Empty LL\"\n",
    "        \n",
    "        if self.head.data == value:\n",
    "            return self.delete_head()\n",
    "        \n",
    "        curr = self.head\n",
    "        while curr.next != None:\n",
    "            if curr.next.data == value:\n",
    "                break #means value found and stored in current\n",
    "            curr = curr.next\n",
    "            \n",
    "        if curr.next == None:\n",
    "            return \"value not found\"\n",
    "        else:\n",
    "            curr.next = curr.next.next\n",
    "    \n",
    "    #Searching the element\n",
    "    def search(self, item):\n",
    "        \n",
    "        curr = self.head\n",
    "        pos = 0\n",
    "        \n",
    "        while curr != None:\n",
    "            if curr.data == item:\n",
    "                return pos\n",
    "            curr = curr.next\n",
    "            pos += 1\n",
    "        return \"Not Found\"\n",
    "    \n",
    "    #Fucntion that replace maximum value in a list with a new value\n",
    "    def replace_max(self,value):\n",
    "        \n",
    "        temp = self.head\n",
    "        maxi = temp\n",
    "        \n",
    "        while temp != None:\n",
    "            if temp.data > maxi.data:\n",
    "                maxi = temp\n",
    "            temp = temp.next\n",
    "        \n",
    "        maxi.data = value\n",
    "            \n",
    "    def sum_of_odd(self):\n",
    "        \n",
    "        pos = 0\n",
    "        sum_o = 0\n",
    "        curr = self.head\n",
    "        while curr != None:\n",
    "            if pos%2!=0:\n",
    "                sum_o += curr.data\n",
    "            pos+=1\n",
    "            curr = curr.next\n",
    "        print(\"sum: \", sum_o)\n",
    "        \n",
    "    def reverse(self):\n",
    "        \n",
    "        prev_node = None\n",
    "        curr_node = self.head\n",
    "        \n",
    "        while curr_node != None:\n",
    "            prev_node = curr_node.next\n",
    "            curr_node.next = prev_node\n",
    "            prev_node = curr_node\n",
    "            curr_node = new_node\n",
    "        self.head = prev_node\n",
    "    "
   ]
  },
  {
   "cell_type": "code",
   "execution_count": 37,
   "id": "00cb4dd5",
   "metadata": {},
   "outputs": [],
   "source": [
    "l = LinkedList()"
   ]
  },
  {
   "cell_type": "code",
   "execution_count": 38,
   "id": "03d1b542",
   "metadata": {},
   "outputs": [
    {
     "name": "stdout",
     "output_type": "stream",
     "text": [
      "None\n"
     ]
    }
   ],
   "source": [
    "print(l.head)"
   ]
  },
  {
   "cell_type": "code",
   "execution_count": 39,
   "id": "d7df90e8",
   "metadata": {},
   "outputs": [],
   "source": [
    "l.insert_head(1)\n",
    "l.insert_head(2)\n",
    "l.insert_head(3)\n",
    "l.insert_head(4)"
   ]
  },
  {
   "cell_type": "code",
   "execution_count": 40,
   "id": "eef70078",
   "metadata": {},
   "outputs": [
    {
     "data": {
      "text/plain": [
       "4"
      ]
     },
     "execution_count": 40,
     "metadata": {},
     "output_type": "execute_result"
    }
   ],
   "source": [
    "l.head\n",
    "l.n"
   ]
  },
  {
   "cell_type": "code",
   "execution_count": 41,
   "id": "63805948",
   "metadata": {},
   "outputs": [],
   "source": [
    "# l.clear_list()"
   ]
  },
  {
   "cell_type": "code",
   "execution_count": 42,
   "id": "3e22d91d",
   "metadata": {},
   "outputs": [
    {
     "data": {
      "text/plain": [
       "4"
      ]
     },
     "execution_count": 42,
     "metadata": {},
     "output_type": "execute_result"
    }
   ],
   "source": [
    "l.n"
   ]
  },
  {
   "cell_type": "code",
   "execution_count": 43,
   "id": "8dca6141",
   "metadata": {
    "scrolled": true
   },
   "outputs": [
    {
     "name": "stdout",
     "output_type": "stream",
     "text": [
      "4\n",
      "3\n",
      "2\n",
      "1\n"
     ]
    }
   ],
   "source": [
    "l.traverse()"
   ]
  },
  {
   "cell_type": "code",
   "execution_count": 44,
   "id": "033a68cd",
   "metadata": {},
   "outputs": [
    {
     "name": "stdout",
     "output_type": "stream",
     "text": [
      "sum:  4\n"
     ]
    }
   ],
   "source": [
    "l.sum_of_odd()"
   ]
  },
  {
   "cell_type": "code",
   "execution_count": 34,
   "id": "0d966214",
   "metadata": {},
   "outputs": [],
   "source": [
    "l.replace_max(10)"
   ]
  },
  {
   "cell_type": "code",
   "execution_count": 10,
   "id": "5102a1e1",
   "metadata": {},
   "outputs": [],
   "source": [
    "l.remove(4)"
   ]
  },
  {
   "cell_type": "code",
   "execution_count": 11,
   "id": "e0fcb043",
   "metadata": {},
   "outputs": [],
   "source": [
    "l.delete_head()"
   ]
  },
  {
   "cell_type": "code",
   "execution_count": 35,
   "id": "8a5468b4",
   "metadata": {},
   "outputs": [
    {
     "name": "stdout",
     "output_type": "stream",
     "text": [
      "10\n",
      "3\n",
      "2\n",
      "1\n"
     ]
    }
   ],
   "source": [
    "l.traverse()"
   ]
  },
  {
   "cell_type": "code",
   "execution_count": 13,
   "id": "05233772",
   "metadata": {},
   "outputs": [],
   "source": [
    "l.pop()"
   ]
  },
  {
   "cell_type": "code",
   "execution_count": 14,
   "id": "b65db292",
   "metadata": {},
   "outputs": [
    {
     "name": "stdout",
     "output_type": "stream",
     "text": [
      "2\n"
     ]
    }
   ],
   "source": [
    "l.traverse()"
   ]
  },
  {
   "cell_type": "code",
   "execution_count": null,
   "id": "33931b73",
   "metadata": {},
   "outputs": [],
   "source": []
  },
  {
   "cell_type": "code",
   "execution_count": null,
   "id": "b00bddff",
   "metadata": {},
   "outputs": [],
   "source": []
  },
  {
   "cell_type": "code",
   "execution_count": 47,
   "id": "b3f6e31d",
   "metadata": {},
   "outputs": [],
   "source": [
    "l.append(6)"
   ]
  },
  {
   "cell_type": "code",
   "execution_count": 48,
   "id": "faa7b430",
   "metadata": {},
   "outputs": [
    {
     "name": "stdout",
     "output_type": "stream",
     "text": [
      "4\n",
      "3\n",
      "2\n",
      "1\n",
      "5\n",
      "6\n"
     ]
    }
   ],
   "source": [
    "l.traverse()"
   ]
  },
  {
   "cell_type": "code",
   "execution_count": 49,
   "id": "c67f8207",
   "metadata": {},
   "outputs": [
    {
     "name": "stdout",
     "output_type": "stream",
     "text": [
      "sum:  10\n"
     ]
    }
   ],
   "source": [
    "l.sum_of_odd()"
   ]
  },
  {
   "cell_type": "code",
   "execution_count": 17,
   "id": "93f76e1c",
   "metadata": {},
   "outputs": [],
   "source": [
    "l.insert_after(2,150)"
   ]
  },
  {
   "cell_type": "code",
   "execution_count": 18,
   "id": "74cd7936",
   "metadata": {},
   "outputs": [],
   "source": [
    "l.insert_after(5,20)"
   ]
  },
  {
   "cell_type": "code",
   "execution_count": 19,
   "id": "466f5fd7",
   "metadata": {
    "scrolled": true
   },
   "outputs": [
    {
     "name": "stdout",
     "output_type": "stream",
     "text": [
      "2\n",
      "150\n",
      "5\n",
      "20\n"
     ]
    }
   ],
   "source": [
    "l.traverse()"
   ]
  },
  {
   "cell_type": "code",
   "execution_count": null,
   "id": "81b2f824",
   "metadata": {},
   "outputs": [],
   "source": []
  },
  {
   "cell_type": "code",
   "execution_count": null,
   "id": "bbdc485c",
   "metadata": {},
   "outputs": [],
   "source": []
  },
  {
   "cell_type": "code",
   "execution_count": 20,
   "id": "3411f253",
   "metadata": {},
   "outputs": [],
   "source": [
    "#------------------------------------------------------------#"
   ]
  },
  {
   "cell_type": "code",
   "execution_count": 21,
   "id": "b93349df",
   "metadata": {},
   "outputs": [],
   "source": [
    "a = Node(1)\n",
    "b = Node(2)\n",
    "c = Node(3)"
   ]
  },
  {
   "cell_type": "code",
   "execution_count": 22,
   "id": "9b294af6",
   "metadata": {},
   "outputs": [
    {
     "name": "stdout",
     "output_type": "stream",
     "text": [
      "1\n",
      "None\n",
      "2\n",
      "3\n"
     ]
    }
   ],
   "source": [
    "print(a.data)\n",
    "print(a.next)\n",
    "print(b.data)\n",
    "print(c.data)"
   ]
  },
  {
   "cell_type": "code",
   "execution_count": 23,
   "id": "838e19f9",
   "metadata": {},
   "outputs": [
    {
     "name": "stdout",
     "output_type": "stream",
     "text": [
      "1679563037744\n",
      "1679563037504\n"
     ]
    }
   ],
   "source": [
    "print(id(b))\n",
    "print(id(c))"
   ]
  },
  {
   "cell_type": "code",
   "execution_count": 24,
   "id": "7e67b936",
   "metadata": {},
   "outputs": [
    {
     "name": "stdout",
     "output_type": "stream",
     "text": [
      "1679563037744\n",
      "1679563037504\n",
      "None\n"
     ]
    }
   ],
   "source": [
    "a.next = b\n",
    "b.next = c\n",
    "print(int(id(a.next)))\n",
    "print(int(id(b.next)))\n",
    "print(c.next)#tail node"
   ]
  },
  {
   "cell_type": "code",
   "execution_count": null,
   "id": "f57d0df4",
   "metadata": {},
   "outputs": [],
   "source": []
  }
 ],
 "metadata": {
  "kernelspec": {
   "display_name": "Python (demo)",
   "language": "python",
   "name": "demo"
  },
  "language_info": {
   "codemirror_mode": {
    "name": "ipython",
    "version": 3
   },
   "file_extension": ".py",
   "mimetype": "text/x-python",
   "name": "python",
   "nbconvert_exporter": "python",
   "pygments_lexer": "ipython3",
   "version": "3.10.2"
  }
 },
 "nbformat": 4,
 "nbformat_minor": 5
}
