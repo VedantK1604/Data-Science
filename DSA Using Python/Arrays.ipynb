{
 "cells": [
  {
   "cell_type": "markdown",
   "id": "8de15739",
   "metadata": {},
   "source": [
    "- Data Structure - A way to store data\n",
    "- Linear DS - Array, Linked list,Searching, Sorting, Stack, Queue, Hashing.\n",
    "- Non-Linear DS - Tree & Graphs"
   ]
  },
  {
   "cell_type": "markdown",
   "id": "bc3cc7c9",
   "metadata": {},
   "source": [
    "### Array"
   ]
  },
  {
   "cell_type": "markdown",
   "id": "1035b980",
   "metadata": {},
   "source": [
    "- Array - A linear DS used to store the multiple items in a continuous memory location"
   ]
  },
  {
   "cell_type": "code",
   "execution_count": 2,
   "id": "7955317d",
   "metadata": {},
   "outputs": [],
   "source": [
    "#Creating a class for Dynamic array:\n",
    "import ctypes"
   ]
  },
  {
   "cell_type": "code",
   "execution_count": null,
   "id": "6d6f0bdd",
   "metadata": {},
   "outputs": [],
   "source": [
    "class MyList:\n",
    "    \n",
    "    def __init__(self):\n",
    "        self.size = 1\n",
    "        self.n = 0\n",
    "        "
   ]
  }
 ],
 "metadata": {
  "kernelspec": {
   "display_name": "Python 3 (ipykernel)",
   "language": "python",
   "name": "python3"
  },
  "language_info": {
   "codemirror_mode": {
    "name": "ipython",
    "version": 3
   },
   "file_extension": ".py",
   "mimetype": "text/x-python",
   "name": "python",
   "nbconvert_exporter": "python",
   "pygments_lexer": "ipython3",
   "version": "3.10.2"
  }
 },
 "nbformat": 4,
 "nbformat_minor": 5
}
