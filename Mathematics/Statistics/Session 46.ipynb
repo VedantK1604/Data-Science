{
 "cells": [
  {
   "cell_type": "markdown",
   "id": "1454025f",
   "metadata": {},
   "source": [
    "### Calculating CDF for t-test"
   ]
  },
  {
   "cell_type": "code",
   "execution_count": 1,
   "id": "0e5b1609",
   "metadata": {},
   "outputs": [
    {
     "name": "stdout",
     "output_type": "stream",
     "text": [
      "2.2563697469332243e-06\n"
     ]
    }
   ],
   "source": [
    "from scipy.stats import t\n",
    "\n",
    "# Set the t-value and degrees of freedom\n",
    "t_value = -5.25\n",
    "df = 58  # Replace this with your specific degrees of freedom\n",
    "\n",
    "# Calculate the CDF value\n",
    "cdf_value = t.cdf(t_value, df)\n",
    "print(cdf_value*2)\n",
    "#Can say it is very close to 0"
   ]
  },
  {
   "cell_type": "markdown",
   "id": "28a9c10c",
   "metadata": {},
   "source": [
    "### Shafiro-Wilk test for checking normality in t-test"
   ]
  },
  {
   "cell_type": "code",
   "execution_count": 2,
   "id": "99b4dc78",
   "metadata": {},
   "outputs": [
    {
     "name": "stdout",
     "output_type": "stream",
     "text": [
      "Shapiro-Wilk test for desktop users: ShapiroResult(statistic=0.9783114194869995, pvalue=0.7790969014167786)\n",
      "Shapiro-Wilk test for mobile users: ShapiroResult(statistic=0.9714356064796448, pvalue=0.5791608691215515)\n"
     ]
    }
   ],
   "source": [
    "# The Shapiro-Wilk test returns two values: the test statistic (W) and the p-value. \n",
    "# If the p-value is greater than your chosen significance level (α = 0.05), \n",
    "# you can assume the data comes from a normally distributed population. \n",
    "# If the p-value is less than or equal to the significance level, the normality assumption is not met, \n",
    "# and you should consider applying a data transformation or using a non-parametric test like the Mann-Whitney U test.\n",
    "\n",
    "\n",
    "from scipy.stats import shapiro\n",
    "\n",
    "# Input the data as lists\n",
    "desktop_users = [12, 15, 18, 16, 20, 17, 14, 22, 19, 21, 23, 18, 25, 17, 16, 24, 20, 19, 22, 18, 15, 14, 23, 16, 12, 21, 19, 17, 20, 14]\n",
    "mobile_users = [10, 12, 14, 13, 16, 15, 11, 17, 14, 16, 18, 14, 20, 15, 14, 19, 16, 15, 17, 14, 12, 11, 18, 15, 10, 16, 15, 13, 16, 11]\n",
    "\n",
    "# Perform the Shapiro-Wilk test for both desktop and mobile users\n",
    "shapiro_desktop = shapiro(desktop_users)\n",
    "shapiro_mobile = shapiro(mobile_users)\n",
    "\n",
    "print(\"Shapiro-Wilk test for desktop users:\", shapiro_desktop)\n",
    "print(\"Shapiro-Wilk test for mobile users:\", shapiro_mobile)\n",
    "\n"
   ]
  },
  {
   "cell_type": "markdown",
   "id": "40c27d0a",
   "metadata": {},
   "source": [
    "### Levene test for checking Homoscedaticity(equal variance)"
   ]
  },
  {
   "cell_type": "code",
   "execution_count": 3,
   "id": "c84af106",
   "metadata": {},
   "outputs": [
    {
     "name": "stdout",
     "output_type": "stream",
     "text": [
      "LeveneResult(statistic=2.94395488191752, pvalue=0.09153720526741756)\n"
     ]
    }
   ],
   "source": [
    "# If the p-value from Levene's test is greater than your chosen significance level (α = 0.05), you can assume equal variances\n",
    "#  If the p-value is less than or equal to the significance level, the assumption of equal variances is not met, \n",
    "# and you should consider using Welch's t-test instead of the regular independent two-sample t-test.\n",
    "\n",
    "from scipy.stats import levene\n",
    "\n",
    "# Input the data as lists\n",
    "desktop_users = [12, 15, 18, 16, 20, 17, 14, 22, 19, 21, 23, 18, 25, 17, 16, 24, 20, 19, 22, 18, 15, 14, 23, 16, 12, 21, 19, 17, 20, 14]\n",
    "mobile_users = [10, 12, 14, 13, 16, 15, 11, 17, 14, 16, 18, 14, 20, 15, 14, 19, 16, 15, 17, 14, 12, 11, 18, 15, 10, 16, 15, 13, 16, 11]\n",
    "\n",
    "# Perform Levene's test\n",
    "levene_test = levene(desktop_users, mobile_users)\n",
    "print(levene_test)\n",
    "\n",
    "#in this case, since p-value > 0.05, it normally distributed"
   ]
  },
  {
   "cell_type": "markdown",
   "id": "601179f1",
   "metadata": {},
   "source": [
    "### Paired t-test"
   ]
  },
  {
   "cell_type": "code",
   "execution_count": 4,
   "id": "71171b95",
   "metadata": {},
   "outputs": [],
   "source": [
    "import numpy as np\n",
    "import scipy.stats as stats\n",
    "import matplotlib.pyplot as plt\n",
    "\n",
    "before = np.array([80, 92, 75, 68, 85, 78, 73, 90, 70, 88, 76, 84, 82, 77, 91])\n",
    "after = np.array([78, 93, 81, 67, 88, 76, 74, 91, 69, 88, 77, 81, 80, 79, 88])"
   ]
  },
  {
   "cell_type": "code",
   "execution_count": 5,
   "id": "5c046169",
   "metadata": {},
   "outputs": [],
   "source": [
    "differences = after - before"
   ]
  },
  {
   "cell_type": "code",
   "execution_count": 6,
   "id": "48c6695d",
   "metadata": {},
   "outputs": [
    {
     "data": {
      "image/png": "[encoded data removed]",
      "text/plain": [
       "<Figure size 432x288 with 1 Axes>"
      ]
     },
     "metadata": {
      "needs_background": "light"
     },
     "output_type": "display_data"
    },
    {
     "name": "stdout",
     "output_type": "stream",
     "text": [
      "Shapiro-Wilk test: ShapiroResult(statistic=0.9220570921897888, pvalue=0.20704729855060577)\n"
     ]
    }
   ],
   "source": [
    "plt.hist(differences)\n",
    "plt.title(\"Histogram of Weight Differences\")\n",
    "plt.xlabel(\"Weight Differences (kg)\")\n",
    "plt.ylabel(\"Frequency\")\n",
    "plt.show()\n",
    "\n",
    "shapiro_test = stats.shapiro(differences)\n",
    "print(\"Shapiro-Wilk test:\", shapiro_test)\n"
   ]
  },
  {
   "cell_type": "code",
   "execution_count": 7,
   "id": "b5c2dddd",
   "metadata": {},
   "outputs": [],
   "source": [
    "mean_diff = np.mean(differences)\n",
    "std_diff = np.std(differences, ddof=1)"
   ]
  },
  {
   "cell_type": "code",
   "execution_count": 8,
   "id": "6a3c635d",
   "metadata": {},
   "outputs": [],
   "source": [
    "n = len(differences)\n",
    "t_statistic = mean_diff / (std_diff / np.sqrt(n))\n",
    "df = n - 1"
   ]
  },
  {
   "cell_type": "code",
   "execution_count": 9,
   "id": "e953701c",
   "metadata": {},
   "outputs": [
    {
     "data": {
      "text/plain": [
       "0.10482848367219182"
      ]
     },
     "execution_count": 9,
     "metadata": {},
     "output_type": "execute_result"
    }
   ],
   "source": [
    "t_statistic"
   ]
  },
  {
   "cell_type": "code",
   "execution_count": 10,
   "id": "61b92d80",
   "metadata": {},
   "outputs": [],
   "source": [
    "alpha = 0.05\n",
    "p_value = stats.t.cdf(t_statistic, df)"
   ]
  },
  {
   "cell_type": "code",
   "execution_count": 11,
   "id": "69e6198a",
   "metadata": {},
   "outputs": [
    {
     "data": {
      "text/plain": [
       "0.5410005146857456"
      ]
     },
     "execution_count": 11,
     "metadata": {},
     "output_type": "execute_result"
    }
   ],
   "source": [
    "p_value"
   ]
  },
  {
   "cell_type": "code",
   "execution_count": 12,
   "id": "b6e15f01",
   "metadata": {},
   "outputs": [],
   "source": [
    "#Since p-value is greater than alpha, we will not reject Null hypothesis"
   ]
  }
 ],
 "metadata": {
  "kernelspec": {
   "display_name": "Python 3 (ipykernel)",
   "language": "python",
   "name": "python3"
  },
  "language_info": {
   "codemirror_mode": {
    "name": "ipython",
    "version": 3
   },
   "file_extension": ".py",
   "mimetype": "text/x-python",
   "name": "python",
   "nbconvert_exporter": "python",
   "pygments_lexer": "ipython3",
   "version": "3.10.2"
  }
 },
 "nbformat": 4,
 "nbformat_minor": 5
}
