{
 "cells": [
  {
   "cell_type": "markdown",
   "id": "21a7a0f3",
   "metadata": {},
   "source": [
    "### What is Recursion ?\n",
    "\n",
    "- Recursion is a technique, where a function calls itself.\n",
    "- QUESTION: For creating a recursion in a new language we will use stack data structure."
   ]
  },
  {
   "cell_type": "code",
   "execution_count": 2,
   "id": "6fd8f0e8",
   "metadata": {},
   "outputs": [
    {
     "name": "stdout",
     "output_type": "stream",
     "text": [
      "15\n"
     ]
    }
   ],
   "source": [
    "# Writing a code for a*b using funcition and loop.\n",
    "\n",
    "def multiply(a,b):\n",
    "    \n",
    "    result = 0\n",
    "    for i in range(b):\n",
    "        result = result + a\n",
    "        \n",
    "    print(result)\n",
    "    \n",
    "multiply(3,5)"
   ]
  },
  {
   "cell_type": "code",
   "execution_count": 3,
   "id": "dafff69a",
   "metadata": {},
   "outputs": [
    {
     "name": "stdout",
     "output_type": "stream",
     "text": [
      "12\n"
     ]
    }
   ],
   "source": [
    "# By using Recursion:\n",
    "\n",
    "def mul(a,b):\n",
    "    \n",
    "    if b == 1:\n",
    "        return a\n",
    "    else:\n",
    "        return a + mul(a,b-1)\n",
    "    \n",
    "print(mul(3,4))"
   ]
  },
  {
   "cell_type": "code",
   "execution_count": 4,
   "id": "4944236f",
   "metadata": {},
   "outputs": [
    {
     "name": "stdout",
     "output_type": "stream",
     "text": [
      "120\n"
     ]
    }
   ],
   "source": [
    "# Factorial of a number:\n",
    "\n",
    "def fact(number):\n",
    "    \n",
    "    if number == 1:\n",
    "        return 1\n",
    "    else:\n",
    "        # 5 = 5*4!\n",
    "        return number * fact(number - 1)\n",
    "\n",
    "print(fact(5))"
   ]
  },
  {
   "cell_type": "code",
   "execution_count": 7,
   "id": "74653bfa",
   "metadata": {},
   "outputs": [
    {
     "name": "stdout",
     "output_type": "stream",
     "text": [
      "Palindrome\n",
      "Palindrome\n",
      "Not a Palindrome\n"
     ]
    }
   ],
   "source": [
    "def palin(text):\n",
    "     \n",
    "    if len(text) <= 1:\n",
    "        print(\"Palindrome\")\n",
    "    else:\n",
    "        if text[0] == text[-1]:\n",
    "            return palin(text[1:-1])\n",
    "        else: \n",
    "            print(\"Not a Palindrome\")\n",
    "\n",
    "palin(\"madam\")\n",
    "palin(\"malayalam\")\n",
    "palin(\"Python\")"
   ]
  },
  {
   "cell_type": "code",
   "execution_count": null,
   "id": "f8435675",
   "metadata": {},
   "outputs": [],
   "source": []
  }
 ],
 "metadata": {
  "kernelspec": {
   "display_name": "Python 3 (ipykernel)",
   "language": "python",
   "name": "python3"
  },
  "language_info": {
   "codemirror_mode": {
    "name": "ipython",
    "version": 3
   },
   "file_extension": ".py",
   "mimetype": "text/x-python",
   "name": "python",
   "nbconvert_exporter": "python",
   "pygments_lexer": "ipython3",
   "version": "3.10.2"
  }
 },
 "nbformat": 4,
 "nbformat_minor": 5
}
