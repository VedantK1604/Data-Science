{
 "cells": [
  {
   "cell_type": "markdown",
   "id": "9bf647df",
   "metadata": {},
   "source": [
    "### What is Iteration?\n",
    "\n",
    "- Iteration is a general term for taking each item of something, one after other. Any time you use loop, explicit or implicit, to go over a group of item, that is iteration.\n",
    "\n",
    "- In simple words, the process of traversing one by one item of an object is called as Iteration."
   ]
  },
  {
   "cell_type": "code",
   "execution_count": 1,
   "id": "36dfceea",
   "metadata": {},
   "outputs": [
    {
     "name": "stdout",
     "output_type": "stream",
     "text": [
      "1\n",
      "2\n",
      "3\n",
      "4\n"
     ]
    }
   ],
   "source": [
    "# Example:\n",
    "\n",
    "l = [1,2,3,4]\n",
    "\n",
    "for i in l:    #traversing items of object l one by one and printing it.\n",
    "    print(i)"
   ]
  },
  {
   "cell_type": "markdown",
   "id": "8cb20dc9",
   "metadata": {},
   "source": [
    "### What is Iterator?\n",
    "\n",
    "- An iterator is an object that allows the programmer to traverse through a sequence of data without having to store the entire data in the memory.\n",
    "- Iterator is an object, through which iteration is performed.\n",
    "- Here, iterator takes an item one by one and performs the operation over it.\n",
    "- The main point of iterator is that, it doest not load all the items in a memory at once, which tends to less usage of memory."
   ]
  },
  {
   "cell_type": "code",
   "execution_count": 5,
   "id": "122ab8c5",
   "metadata": {},
   "outputs": [
    {
     "name": "stdout",
     "output_type": "stream",
     "text": [
      "782.2109375\n",
      "0.046875\n"
     ]
    }
   ],
   "source": [
    "#Example:\n",
    "\n",
    "l = [x for x in range(1,100000)]\n",
    "\n",
    "# for i in l:\n",
    "#     print(i*2)\n",
    "\n",
    "import sys\n",
    "\n",
    "print(sys.getsizeof(l)/1024)\n",
    "\n",
    "x = range(1, 100000)\n",
    "# for i in x:\n",
    "#     print(i*2)\n",
    "\n",
    "print(sys.getsizeof(x)/1024)"
   ]
  },
  {
   "cell_type": "markdown",
   "id": "54091346",
   "metadata": {},
   "source": [
    "### What is Iterable?\n",
    "\n",
    "- Iterable is an object on which iteration can be performed.\n",
    "- L = [1,2,3,4], l is an object or iterable\n",
    "- It generatesan iterator when passed to iter() method."
   ]
  },
  {
   "cell_type": "code",
   "execution_count": 8,
   "id": "bc32b80c",
   "metadata": {},
   "outputs": [
    {
     "data": {
      "text/plain": [
       "list_iterator"
      ]
     },
     "execution_count": 8,
     "metadata": {},
     "output_type": "execute_result"
    }
   ],
   "source": [
    "#Example:\n",
    "\n",
    "L = [1,2,3,4]\n",
    "type(L) #list: it is an iterable\n",
    "\n",
    "type(iter(L)) #it is an iterator(iter(L))"
   ]
  },
  {
   "cell_type": "markdown",
   "id": "3d6e2932",
   "metadata": {},
   "source": [
    "### Points to remember:\n",
    "\n",
    "- Not all iterable is an iterator.\n",
    "- Every Iterator can be a iterable."
   ]
  },
  {
   "cell_type": "markdown",
   "id": "e8e9bf26",
   "metadata": {},
   "source": [
    "#### How to check whether an object is an iterable or not?\n",
    "\n",
    "- first method: loop through an object, if it does not give error then it is iterable\n",
    "- second method: To use dir() method, pass the object in dir(), if '__iter__' found in list output, then it is iterable."
   ]
  },
  {
   "cell_type": "code",
   "execution_count": 10,
   "id": "40db27d6",
   "metadata": {},
   "outputs": [
    {
     "ename": "TypeError",
     "evalue": "'int' object is not iterable",
     "output_type": "error",
     "traceback": [
      "\u001b[1;31m---------------------------------------------------------------------------\u001b[0m",
      "\u001b[1;31mTypeError\u001b[0m                                 Traceback (most recent call last)",
      "Input \u001b[1;32mIn [10]\u001b[0m, in \u001b[0;36m<cell line: 5>\u001b[1;34m()\u001b[0m\n\u001b[0;32m      1\u001b[0m \u001b[38;5;66;03m#Examples:\u001b[39;00m\n\u001b[0;32m      2\u001b[0m \u001b[38;5;66;03m# a is not an iterable object\u001b[39;00m\n\u001b[0;32m      3\u001b[0m a \u001b[38;5;241m=\u001b[39m \u001b[38;5;241m2\u001b[39m\n\u001b[1;32m----> 5\u001b[0m \u001b[38;5;28;01mfor\u001b[39;00m i \u001b[38;5;129;01min\u001b[39;00m a:\n\u001b[0;32m      6\u001b[0m     \u001b[38;5;28mprint\u001b[39m(i)\n",
      "\u001b[1;31mTypeError\u001b[0m: 'int' object is not iterable"
     ]
    }
   ],
   "source": [
    "#Examples:\n",
    "# a is not an iterable object\n",
    "a = 2\n",
    "\n",
    "for i in a:\n",
    "    print(i)"
   ]
  },
  {
   "cell_type": "code",
   "execution_count": 11,
   "id": "491f2fe8",
   "metadata": {
    "scrolled": true
   },
   "outputs": [
    {
     "data": {
      "text/plain": [
       "['__add__',\n",
       " '__class__',\n",
       " '__class_getitem__',\n",
       " '__contains__',\n",
       " '__delattr__',\n",
       " '__dir__',\n",
       " '__doc__',\n",
       " '__eq__',\n",
       " '__format__',\n",
       " '__ge__',\n",
       " '__getattribute__',\n",
       " '__getitem__',\n",
       " '__getnewargs__',\n",
       " '__gt__',\n",
       " '__hash__',\n",
       " '__init__',\n",
       " '__init_subclass__',\n",
       " '__iter__',\n",
       " '__le__',\n",
       " '__len__',\n",
       " '__lt__',\n",
       " '__mul__',\n",
       " '__ne__',\n",
       " '__new__',\n",
       " '__reduce__',\n",
       " '__reduce_ex__',\n",
       " '__repr__',\n",
       " '__rmul__',\n",
       " '__setattr__',\n",
       " '__sizeof__',\n",
       " '__str__',\n",
       " '__subclasshook__',\n",
       " 'count',\n",
       " 'index']"
      ]
     },
     "execution_count": 11,
     "metadata": {},
     "output_type": "execute_result"
    }
   ],
   "source": [
    "#Tuple T is an iterable\n",
    "T = (1,2,3)\n",
    "dir(T)"
   ]
  },
  {
   "cell_type": "code",
   "execution_count": 12,
   "id": "eb04b305",
   "metadata": {
    "scrolled": true
   },
   "outputs": [
    {
     "data": {
      "text/plain": [
       "['__class__',\n",
       " '__class_getitem__',\n",
       " '__contains__',\n",
       " '__delattr__',\n",
       " '__delitem__',\n",
       " '__dir__',\n",
       " '__doc__',\n",
       " '__eq__',\n",
       " '__format__',\n",
       " '__ge__',\n",
       " '__getattribute__',\n",
       " '__getitem__',\n",
       " '__gt__',\n",
       " '__hash__',\n",
       " '__init__',\n",
       " '__init_subclass__',\n",
       " '__ior__',\n",
       " '__iter__',\n",
       " '__le__',\n",
       " '__len__',\n",
       " '__lt__',\n",
       " '__ne__',\n",
       " '__new__',\n",
       " '__or__',\n",
       " '__reduce__',\n",
       " '__reduce_ex__',\n",
       " '__repr__',\n",
       " '__reversed__',\n",
       " '__ror__',\n",
       " '__setattr__',\n",
       " '__setitem__',\n",
       " '__sizeof__',\n",
       " '__str__',\n",
       " '__subclasshook__',\n",
       " 'clear',\n",
       " 'copy',\n",
       " 'fromkeys',\n",
       " 'get',\n",
       " 'items',\n",
       " 'keys',\n",
       " 'pop',\n",
       " 'popitem',\n",
       " 'setdefault',\n",
       " 'update',\n",
       " 'values']"
      ]
     },
     "execution_count": 12,
     "metadata": {},
     "output_type": "execute_result"
    }
   ],
   "source": [
    "#dictionary d is an iterable\n",
    "d = {1:2,3:4}\n",
    "dir(d)"
   ]
  },
  {
   "cell_type": "markdown",
   "id": "9fe0327c",
   "metadata": {},
   "source": [
    "#### How to check whether an object is an iterator?\n",
    "\n",
    "- chect in dir(), if __iter__ as well as __next__ found in list, then it is an iterator.\n",
    "- we know that, every iterator can be an iterable. So we can convert the iterable into an iterator.\n",
    "- By using iter()."
   ]
  },
  {
   "cell_type": "code",
   "execution_count": 16,
   "id": "40016d4e",
   "metadata": {},
   "outputs": [
    {
     "data": {
      "text/plain": [
       "['__class__',\n",
       " '__delattr__',\n",
       " '__dir__',\n",
       " '__doc__',\n",
       " '__eq__',\n",
       " '__format__',\n",
       " '__ge__',\n",
       " '__getattribute__',\n",
       " '__gt__',\n",
       " '__hash__',\n",
       " '__init__',\n",
       " '__init_subclass__',\n",
       " '__iter__',\n",
       " '__le__',\n",
       " '__length_hint__',\n",
       " '__lt__',\n",
       " '__ne__',\n",
       " '__new__',\n",
       " '__next__',\n",
       " '__reduce__',\n",
       " '__reduce_ex__',\n",
       " '__repr__',\n",
       " '__setattr__',\n",
       " '__setstate__',\n",
       " '__sizeof__',\n",
       " '__str__',\n",
       " '__subclasshook__']"
      ]
     },
     "execution_count": 16,
     "metadata": {},
     "output_type": "execute_result"
    }
   ],
   "source": [
    "L = [1,2,3,4] # L is an iterable but not an iterator.\n",
    "dir(L)\n",
    "\n",
    "#Now,\n",
    "iter_L = iter(L)  #iterator is an iterable\n",
    "#iter(L) is an iterator\n",
    "dir(iter_L)"
   ]
  },
  {
   "cell_type": "markdown",
   "id": "e12017e0",
   "metadata": {},
   "source": [
    "### How For Loop works?"
   ]
  },
  {
   "cell_type": "code",
   "execution_count": 21,
   "id": "a43104ed",
   "metadata": {},
   "outputs": [
    {
     "data": {
      "text/plain": [
       "3"
      ]
     },
     "execution_count": 21,
     "metadata": {},
     "output_type": "execute_result"
    }
   ],
   "source": [
    "num = [1,2,3]\n",
    "\n",
    "# Step 1: Fetch the iterator\n",
    "iter_num = iter(num)\n",
    "\n",
    "# Step_2: next function(gives the position of iterator in loop)\n",
    "next(iter_num) #1\n",
    "next(iter_num) #2\n",
    "next(iter_num) #3"
   ]
  },
  {
   "cell_type": "markdown",
   "id": "78996916",
   "metadata": {},
   "source": [
    "### Making our own for loop"
   ]
  },
  {
   "cell_type": "code",
   "execution_count": 22,
   "id": "621be14d",
   "metadata": {},
   "outputs": [],
   "source": [
    "def my_loop(iterable):  #Iterable-> list,tuple,set,dictionary\n",
    "    \n",
    "    iterator = iter(iterable)\n",
    "    \n",
    "    while True:\n",
    "        \n",
    "        try:\n",
    "            print(next(iterator))\n",
    "        except StopIteration:\n",
    "            break"
   ]
  },
  {
   "cell_type": "code",
   "execution_count": 25,
   "id": "435f1226",
   "metadata": {},
   "outputs": [
    {
     "name": "stdout",
     "output_type": "stream",
     "text": [
      "1\n",
      "2\n",
      "3\n",
      "4\n",
      "5\n",
      "6\n",
      "7\n",
      "8\n",
      "9\n",
      "10\n"
     ]
    }
   ],
   "source": [
    "a = [1,2,3,4]\n",
    "b = (5,6,7,8)\n",
    "c = {10,11,12,13}\n",
    "d = range(1,11)\n",
    "e = {1:2,4:8}\n",
    "\n",
    "my_loop(d)"
   ]
  },
  {
   "cell_type": "markdown",
   "id": "0411e945",
   "metadata": {},
   "source": [
    "### A confusing point"
   ]
  },
  {
   "cell_type": "code",
   "execution_count": 27,
   "id": "5caee420",
   "metadata": {},
   "outputs": [
    {
     "name": "stdout",
     "output_type": "stream",
     "text": [
      "1496175759504 Address of iter_obj1\n",
      "1496175759504 Address of iter_obj2\n"
     ]
    }
   ],
   "source": [
    "num = [1,2,3]\n",
    "iter_obj = iter(num)\n",
    "\n",
    "print(id(iter_obj), \"Address of iter_obj1\")\n",
    "\n",
    "iter_obj2 = iter(iter_obj)\n",
    "print(id(iter_obj2), \"Address of iter_obj2\")"
   ]
  },
  {
   "cell_type": "markdown",
   "id": "09690f97",
   "metadata": {},
   "source": [
    "### Creating our own range function:"
   ]
  },
  {
   "cell_type": "code",
   "execution_count": 28,
   "id": "18c32795",
   "metadata": {},
   "outputs": [],
   "source": [
    "#Iterable\n",
    "\n",
    "class mera_range:\n",
    "    \n",
    "    def __init__(self,start,end):\n",
    "        \n",
    "        self.start = start\n",
    "        self.end = end\n",
    "        \n",
    "    def __iter__(self):\n",
    "        return range_iterator(self)  #self transfers the start and the end to the range_iterator class as an input"
   ]
  },
  {
   "cell_type": "code",
   "execution_count": 33,
   "id": "90e3792b",
   "metadata": {},
   "outputs": [],
   "source": [
    "#Iterator\n",
    "\n",
    "class range_iterator:\n",
    "    \n",
    "    def __init__(self,iterable_obj):  #iterable_obj: taken from mera_range class as a range to tranverse\n",
    "        \n",
    "        self.iterable = iterable_obj  #Starting point and ending point\n",
    "    \n",
    "    def __iter__(self):#We know that, when we iterate to an iterator, it returns iteself, so returning itself as 'self'\n",
    "        return self\n",
    "        \n",
    "    def __next__(self):\n",
    "        if self.iterable.start >= self.iterable.end:\n",
    "            raise StopIteration\n",
    "            \n",
    "        current = self.iterable.start\n",
    "        self.iterable.start += 1\n",
    "        return current"
   ]
  },
  {
   "cell_type": "code",
   "execution_count": 34,
   "id": "51958876",
   "metadata": {
    "scrolled": true
   },
   "outputs": [
    {
     "name": "stdout",
     "output_type": "stream",
     "text": [
      "1\n",
      "2\n",
      "3\n",
      "4\n",
      "5\n",
      "6\n",
      "7\n",
      "8\n",
      "9\n",
      "10\n"
     ]
    }
   ],
   "source": [
    "for i in mera_range(1,11):\n",
    "    print(i)"
   ]
  },
  {
   "cell_type": "markdown",
   "id": "a126f2e3",
   "metadata": {},
   "source": [
    "# Generators\n",
    "\n",
    "- Generators are the simple way of generating iterators"
   ]
  },
  {
   "cell_type": "code",
   "execution_count": 35,
   "id": "09397b80",
   "metadata": {},
   "outputs": [],
   "source": [
    "# A small example:\n",
    "\n",
    "def gen_demo():\n",
    "    \n",
    "    yield \"First\"\n",
    "    yield \"second\"\n",
    "    yield \"third\""
   ]
  },
  {
   "cell_type": "code",
   "execution_count": 37,
   "id": "e9516e14",
   "metadata": {},
   "outputs": [
    {
     "name": "stdout",
     "output_type": "stream",
     "text": [
      "<generator object gen_demo at 0x0000015C5D70B840>\n",
      "First\n",
      "second\n",
      "third\n"
     ]
    }
   ],
   "source": [
    "gen = gen_demo() #Gives generator object\n",
    "print(gen)\n",
    "\n",
    "for i in gen:\n",
    "    print(i)"
   ]
  },
  {
   "cell_type": "code",
   "execution_count": 43,
   "id": "9d9eef15",
   "metadata": {},
   "outputs": [],
   "source": [
    "#Example 2:\n",
    "# simply, generator is a way for writing iterators.\n",
    "# iterator takes 1 item, perform operations on it, prints it, and delete it from the memory.\n",
    "\n",
    "def square(num):\n",
    "    for i in range(1, num+1):\n",
    "        yield i**2"
   ]
  },
  {
   "cell_type": "code",
   "execution_count": 46,
   "id": "95a0daee",
   "metadata": {
    "scrolled": true
   },
   "outputs": [
    {
     "name": "stdout",
     "output_type": "stream",
     "text": [
      "1\n",
      "4\n",
      "9\n",
      "16\n",
      "25\n",
      "36\n",
      "49\n",
      "64\n",
      "81\n",
      "100\n"
     ]
    }
   ],
   "source": [
    "gen = square(10)\n",
    "\n",
    "print(next(gen))\n",
    "print(next(gen))\n",
    "print(next(gen))\n",
    "\n",
    "for i in gen:\n",
    "    print(i)"
   ]
  },
  {
   "cell_type": "markdown",
   "id": "d6a9c73f",
   "metadata": {},
   "source": [
    "### Range function using generator"
   ]
  },
  {
   "cell_type": "code",
   "execution_count": 47,
   "id": "c50ab3c3",
   "metadata": {},
   "outputs": [],
   "source": [
    "def mera_range(start, end):\n",
    "    \n",
    "    for i in range(start, end):\n",
    "        yield(i)"
   ]
  },
  {
   "cell_type": "code",
   "execution_count": 48,
   "id": "81f3a1e0",
   "metadata": {},
   "outputs": [
    {
     "name": "stdout",
     "output_type": "stream",
     "text": [
      "10\n",
      "11\n",
      "12\n",
      "13\n",
      "14\n",
      "15\n",
      "16\n",
      "17\n",
      "18\n",
      "19\n"
     ]
    }
   ],
   "source": [
    "for i in mera_range(10,20):\n",
    "    print(i)"
   ]
  },
  {
   "cell_type": "markdown",
   "id": "c0c6bcf3",
   "metadata": {},
   "source": [
    "### Generator Expression"
   ]
  },
  {
   "cell_type": "code",
   "execution_count": 2,
   "id": "4de34b2b",
   "metadata": {},
   "outputs": [],
   "source": [
    "gen = (i**2 for i in range(10,20)) #It works like generator function"
   ]
  },
  {
   "cell_type": "code",
   "execution_count": 3,
   "id": "151e6f93",
   "metadata": {},
   "outputs": [
    {
     "name": "stdout",
     "output_type": "stream",
     "text": [
      "100\n",
      "121\n",
      "144\n",
      "169\n",
      "196\n",
      "225\n",
      "256\n",
      "289\n",
      "324\n",
      "361\n"
     ]
    }
   ],
   "source": [
    "for i in gen:\n",
    "    print(i)"
   ]
  },
  {
   "cell_type": "markdown",
   "id": "f8132239",
   "metadata": {},
   "source": [
    "### Practical Example"
   ]
  },
  {
   "cell_type": "markdown",
   "id": "528f166d",
   "metadata": {},
   "source": [
    "### Benefits of using a Generator"
   ]
  },
  {
   "cell_type": "markdown",
   "id": "7455619b",
   "metadata": {},
   "source": [
    "#### 1. Ease of Implementation"
   ]
  },
  {
   "cell_type": "code",
   "execution_count": 53,
   "id": "69fab48a",
   "metadata": {},
   "outputs": [],
   "source": [
    "def mera_range(start,end):\n",
    "    \n",
    "    for i in range(start,end):\n",
    "        yield i"
   ]
  },
  {
   "cell_type": "markdown",
   "id": "cbea75d5",
   "metadata": {},
   "source": [
    "#### 2. Memory Efficient"
   ]
  },
  {
   "cell_type": "code",
   "execution_count": 54,
   "id": "2e0bffd6",
   "metadata": {},
   "outputs": [
    {
     "name": "stdout",
     "output_type": "stream",
     "text": [
      "Size of L in memory 800984\n",
      "Size of gen in memory 104\n"
     ]
    }
   ],
   "source": [
    "L = [x for x in range(100000)]\n",
    "gen = (x for x in range(100000))\n",
    "\n",
    "import sys\n",
    "\n",
    "print('Size of L in memory',sys.getsizeof(L))\n",
    "print('Size of gen in memory',sys.getsizeof(gen))"
   ]
  },
  {
   "cell_type": "markdown",
   "id": "1b35ace3",
   "metadata": {},
   "source": [
    "#### 3. Representing Infinite Streams"
   ]
  },
  {
   "cell_type": "code",
   "execution_count": 55,
   "id": "f3a08df7",
   "metadata": {},
   "outputs": [],
   "source": [
    "def all_even():\n",
    "    n = 0\n",
    "    while True:\n",
    "        yield n\n",
    "        n += 2"
   ]
  },
  {
   "cell_type": "code",
   "execution_count": 56,
   "id": "50a8cc35",
   "metadata": {},
   "outputs": [
    {
     "data": {
      "text/plain": [
       "2"
      ]
     },
     "execution_count": 56,
     "metadata": {},
     "output_type": "execute_result"
    }
   ],
   "source": [
    "even_num_gen = all_even()\n",
    "next(even_num_gen)\n",
    "next(even_num_gen)"
   ]
  },
  {
   "cell_type": "markdown",
   "id": "8f305daf",
   "metadata": {},
   "source": [
    "#### 4. Chaining Generators"
   ]
  },
  {
   "cell_type": "code",
   "execution_count": 57,
   "id": "33edc68e",
   "metadata": {},
   "outputs": [
    {
     "name": "stdout",
     "output_type": "stream",
     "text": [
      "4895\n"
     ]
    }
   ],
   "source": [
    "def fibonacci_numbers(nums):\n",
    "    x, y = 0, 1\n",
    "    for _ in range(nums):\n",
    "        x, y = y, x+y\n",
    "        yield x\n",
    "\n",
    "def square(nums):\n",
    "    for num in nums:\n",
    "        yield num**2\n",
    "\n",
    "print(sum(square(fibonacci_numbers(10))))"
   ]
  },
  {
   "cell_type": "code",
   "execution_count": null,
   "id": "066ff535",
   "metadata": {},
   "outputs": [],
   "source": []
  }
 ],
 "metadata": {
  "kernelspec": {
   "display_name": "Python 3 (ipykernel)",
   "language": "python",
   "name": "python3"
  },
  "language_info": {
   "codemirror_mode": {
    "name": "ipython",
    "version": 3
   },
   "file_extension": ".py",
   "mimetype": "text/x-python",
   "name": "python",
   "nbconvert_exporter": "python",
   "pygments_lexer": "ipython3",
   "version": "3.10.2"
  }
 },
 "nbformat": 4,
 "nbformat_minor": 5
}
