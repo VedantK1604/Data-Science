{
 "cells": [
  {
   "cell_type": "markdown",
   "id": "28aa4453",
   "metadata": {},
   "source": [
    "### 1. What is python ? What are the benefits of using python?\n",
    "\n",
    "- Python is a high level(code written in english language and converted into binary), interpreted(has interpreter not compiler),\n",
    "    and general purpose prgramming language.\n",
    "- Being a general purpose programming language, it used to build any type of application and tools/libraries.\n",
    "- Additionally, Python supports objects, modules, threads, exception handling, and automatic memory management which help in modelling real world problems and building applications in to solve these problems.\n",
    "\n",
    "`Benefits:`\n",
    "\n",
    "- It is simple, easy to learn syntax that emphasizes readability.\n",
    "- The language is capable of scripting, is completely open source, and supports third party packages encouraging modularity,and code reuse.\n",
    "- It has advance libraries django for development, scikit-learn for ml, tensorflow for dl, etc."
   ]
  },
  {
   "cell_type": "markdown",
   "id": "2b2096c6",
   "metadata": {},
   "source": [
    "### 2. What is a dynamically typed language?\n",
    "\n",
    "- Before we understand a dynamically typed language, we should learn about what typing is. **Typing** refers to type-checking in programming languages. In a **strongly-typed** language, such as Python, **\"1\" + 2** will result in a type error since these languages don't allow for \"type-coercion\" (implicit conversion of data types). On the other hand, a **weakly-typed** language, such as Javascript, will simply output **\"12\"** as result.\n",
    "\n",
    "- Type-checking can be done at two stages:\n",
    "    - **Static -** Data Types are checked before execution.\n",
    "    - **Dynamic -** Data Types are checked during execution.\n",
    "- Python is an interpreted language, executes each statement line by line and thus type-checking is done on the fly, during execution. Hence, Python is a Dynamically Typed Language.\n",
    "\n",
    "- Read more - https://www.techtarget.com/whatis/definition/strongly-typed#:~:text=In%20computer%20programming%2C%20a%20programming,types%20of%20objects%20and%20variables."
   ]
  },
  {
   "cell_type": "markdown",
   "id": "61a614ab",
   "metadata": {},
   "source": [
    "### 3. What is interpreted language? How it is different from compiled language?\n",
    "\n",
    "- Firstly, we need to understand that the code is written into english language, but computer understand the binary language. So language should be converted into binary language.\n",
    "- For this, to convert English language into binary code there are the software called Interpreter and Complier.\n",
    "- Some language c++/java has compiler, where as python has interpreter.\n",
    "- The main difference between complier and interpreter is that, compiler reads the code in one go and then convert the code into binary and gives the output. In Interpreted language, interpreter reads the code line by line, execute it and gives the output.\n",
    "- Another difference between compiled and interpreted language is that, compiled type language is fast as it read tha code in one go.\n",
    "- Thus, we can say that python is slow as compared to c++ and java.\n",
    "- Hence, Python is a interpreted language."
   ]
  },
  {
   "cell_type": "markdown",
   "id": "0eee4ed0",
   "metadata": {},
   "source": [
    "### 4. What is PEP 8 and why is it important?\n",
    "\n",
    "- PEP stands for **Python Enhancement Proposal**. A PEP is an official design document providing information to the Python community, or describing a new feature for Python or its processes. **PEP 8** is especially important since it documents the style guidelines for Python Code. Apparently contributing to the Python open-source community requires you to follow these style guidelines sincerely and strictly.\n",
    "\n",
    "- Basically, PEP 8 is a document with set of rules or the guideline for the programmers to guide how to write the code properly in a company or in a open source contibution.\n",
    "- It guides how to improve the readability of the code.\n",
    "\n",
    "- Read more - https://realpython.com/python-pep8/#:~:text=PEP%208%2C%20sometimes%20spelled%20PEP8,and%20consistency%20of%20Python%20code."
   ]
  },
  {
   "cell_type": "markdown",
   "id": "08e0c7ab",
   "metadata": {},
   "source": [
    "### 5. What are the common built-in data types in Python?\n",
    "\n",
    "There are several built-in data types in Python. Although, Python doesn't require data types to be defined explicitly during variable declarations type errors are likely to occur if the knowledge of data types and their compatibility with each other are neglected. Python provides `type()` and `isinstance()` functions to check the type of these variables. These data types can be grouped into the following categories-\n",
    "\n",
    "1. **None Type:** **None** keywork represents the null values in Python. Boolean equality operation can be performed using these NoneType objects.\n",
    "\n",
    "2. **Numeric Type:** There are three distinct numeric types - `integers`, `floating-point numbers` and `complex numbers`. Additionally, `booleans` are a sub-type of integers.\n",
    "\n",
    "3. **Sequence Types:** According to Python Docs, there are three basic Sequence Types - `lists`, `tuples`, and `range` objects. Sequence types have the `in` and `not in` operators defined for their traversing their elements. These operators share the same priority as the comparison operations.\n",
    "\n",
    "4. **Mapping Types:** A mapping object can map hashable values to random objects in Python. Mappings objects are mutable and there is currently only one standard mapping type, the `dictionary`.\n",
    "\n",
    "5. **Set Types:** Currently, Python has two built-in set types - `set` and `frozenset`. `set` type is mutable and supports methods like *add()* and *remove()*. `frozenset` type is immutable and can't be modified after creation.\n",
    "\n",
    "6. **Callable Types:** Callable types are the types to which function call can be applied. They can be **user-defined functions, instance methods, generator functions**, and some other **built-in functions, methods** and **classes**.\n",
    "Refer to the documentation at [docs.python.org](https://docs.python.org/3/reference/datamodel.html) for a detailed view of the callable types.\n"
   ]
  },
  {
   "cell_type": "markdown",
   "id": "89d0995e",
   "metadata": {},
   "source": [
    "### 6. Operator Precedence.\n",
    "https://www.programiz.com/python-programming/precedence-associativity"
   ]
  },
  {
   "cell_type": "markdown",
   "id": "8bb0f5e6",
   "metadata": {},
   "source": [
    "### 7. Explain the ternary operator in Python.\n",
    "\n",
    "Unlike C++, we don’t have ?: in Python, but we have this:\n",
    "\n",
    "\n",
    "> [on true] if [expression] else [on false]\n",
    "\n",
    "\n",
    "\n",
    "If the expression is True, the statement under [on true] is executed. Else, that under [on false] is executed.\n",
    "\n",
    "Below is how you would use it:\n",
    "\n",
    "\n",
    "```\n",
    "a,b=2,3\n",
    "min=a if a<b else b\n",
    "print(min)\n",
    "```\n",
    "\n",
    "Above will print 2."
   ]
  },
  {
   "cell_type": "code",
   "execution_count": 1,
   "id": "62c0bddb",
   "metadata": {},
   "outputs": [
    {
     "name": "stdout",
     "output_type": "stream",
     "text": [
      "Bye\n"
     ]
    }
   ],
   "source": [
    "# Run this cell to see result.\n",
    "a,b=14,12\n",
    "print(\"Hi\") if a<b else print(\"Bye\")"
   ]
  },
  {
   "cell_type": "markdown",
   "id": "253aabaf",
   "metadata": {},
   "source": [
    "### 8. What Does the ‘is’ Operator Do?\n",
    "\n",
    "- Identity operators\n",
    "- In Python, is and is not are used to check if two values are located on the same part of the memory. Two variables that are equal does not imply that they are identical."
   ]
  },
  {
   "cell_type": "code",
   "execution_count": 1,
   "id": "a5ea94fd",
   "metadata": {},
   "outputs": [
    {
     "data": {
      "text/plain": [
       "3266179956976"
      ]
     },
     "execution_count": 1,
     "metadata": {},
     "output_type": "execute_result"
    }
   ],
   "source": [
    "a = 1\n",
    "id(a)"
   ]
  },
  {
   "cell_type": "code",
   "execution_count": 3,
   "id": "1599a01a",
   "metadata": {},
   "outputs": [
    {
     "data": {
      "text/plain": [
       "2900582334736"
      ]
     },
     "execution_count": 3,
     "metadata": {},
     "output_type": "execute_result"
    }
   ],
   "source": [
    "a = 2\n",
    "id(a)"
   ]
  },
  {
   "cell_type": "code",
   "execution_count": 4,
   "id": "7037f821",
   "metadata": {},
   "outputs": [
    {
     "data": {
      "text/plain": [
       "True"
      ]
     },
     "execution_count": 4,
     "metadata": {},
     "output_type": "execute_result"
    }
   ],
   "source": [
    "a = 1\n",
    "b = 1\n",
    "\n",
    "a is b"
   ]
  },
  {
   "cell_type": "code",
   "execution_count": 5,
   "id": "20e7b41e",
   "metadata": {},
   "outputs": [
    {
     "data": {
      "text/plain": [
       "2900582334704"
      ]
     },
     "execution_count": 5,
     "metadata": {},
     "output_type": "execute_result"
    }
   ],
   "source": [
    "id(a)"
   ]
  },
  {
   "cell_type": "code",
   "execution_count": 6,
   "id": "ebdda55e",
   "metadata": {},
   "outputs": [
    {
     "data": {
      "text/plain": [
       "2900582334704"
      ]
     },
     "execution_count": 6,
     "metadata": {},
     "output_type": "execute_result"
    }
   ],
   "source": [
    "id(b)"
   ]
  },
  {
   "cell_type": "code",
   "execution_count": 7,
   "id": "7d6fab20",
   "metadata": {},
   "outputs": [
    {
     "data": {
      "text/plain": [
       "False"
      ]
     },
     "execution_count": 7,
     "metadata": {},
     "output_type": "execute_result"
    }
   ],
   "source": [
    "# Weird behaviour of python.\n",
    "# python store the numbers between -5 to 256 in same memory address, but if the range exceded they are\n",
    "# not in same address.\n",
    "\n",
    "a = 257\n",
    "b = 257\n",
    "\n",
    "a is b  #'is' checks that the equality of memory address"
   ]
  },
  {
   "cell_type": "code",
   "execution_count": 8,
   "id": "7f7fc4a0",
   "metadata": {},
   "outputs": [
    {
     "data": {
      "text/plain": [
       "2900661681744"
      ]
     },
     "execution_count": 8,
     "metadata": {},
     "output_type": "execute_result"
    }
   ],
   "source": [
    "id(a)"
   ]
  },
  {
   "cell_type": "code",
   "execution_count": 9,
   "id": "522b4790",
   "metadata": {},
   "outputs": [
    {
     "data": {
      "text/plain": [
       "True"
      ]
     },
     "execution_count": 9,
     "metadata": {},
     "output_type": "execute_result"
    }
   ],
   "source": [
    "a == b  # 'equality (==)' operator checks the equality of values."
   ]
  },
  {
   "cell_type": "code",
   "execution_count": 10,
   "id": "8bae9603",
   "metadata": {},
   "outputs": [
    {
     "data": {
      "text/plain": [
       "False"
      ]
     },
     "execution_count": 10,
     "metadata": {},
     "output_type": "execute_result"
    }
   ],
   "source": [
    "# -5 to 256\n",
    "\n",
    "a = -14\n",
    "b = -14\n",
    "\n",
    "a is b"
   ]
  },
  {
   "cell_type": "markdown",
   "id": "e4fc522c",
   "metadata": {},
   "source": [
    "### 9. Disadvantages of Python.\n",
    "\n",
    "https://www.geeksforgeeks.org/disadvantages-of-python"
   ]
  },
  {
   "cell_type": "markdown",
   "id": "0261a248",
   "metadata": {},
   "source": [
    "### Q. 10 How strings are stored in Python?\n",
    "- https://stackoverflow.com/questions/19224059/how-strings-are-stored-in-python-memory-model\n",
    "- https://www.quora.com/How-are-strings-stored-internally-in-Python-3\n",
    "- https://betterprogramming.pub/an-interviewers-favorite-question-how-are-python-strings-stored-in-internal-memory-ac0eaef9d9c2"
   ]
  },
  {
   "cell_type": "markdown",
   "id": "cbe3480f",
   "metadata": {},
   "source": [
    "### Q. 10 What is Zen of Python?\n",
    "\n",
    "The Zen of Python is a collection of 19 \"guiding principles\" for writing computer programs that influence the design of the Python programming language.\n",
    "https://en.wikipedia.org/wiki/Zen_of_Python\n",
    "\n",
    "* Beautiful is better than ugly.\n",
    "* Explicit is better than implicit.\n",
    "* Simple is better than complex.\n",
    "* Complex is better than complicated.\n",
    "* Flat is better than nested.\n",
    "* Sparse is better than dense.\n",
    "* Readability counts.\n",
    "* Special cases aren't special enough to break the rules.\n",
    "* Although practicality beats purity.\n",
    "* Errors should never pass silently.\n",
    "* Unless explicitly silenced.\n",
    "* In the face of ambiguity, refuse the temptation to guess.\n",
    "* There should be one-- and preferably only one --obvious way to do it.\n",
    "* Although that way may not be obvious at first unless you're Dutch.\n",
    "* Now is better than never.\n",
    "* Although never is often better than *right* now.\n",
    "* If the implementation is hard to explain, it's a bad idea.\n",
    "* If the implementation is easy to explain, it may be a good idea.\n",
    "* Namespaces are one honking great idea -- let's do more of those!\n",
    "\n",
    "Explained in detail here - https://inventwithpython.com/blog/2018/08/17/the-zen-of-python-explained/"
   ]
  },
  {
   "cell_type": "markdown",
   "id": "83ba2a09",
   "metadata": {},
   "source": [
    "### Q. 11 Identity operator (is) vs ==?\n",
    "\n",
    "- Here’s the main difference between python “==” vs “is:”\n",
    "\n",
    "- Identity operators: The “is” and “is not” keywords are called identity operators that compare objects based on their identity.\n",
    "- Equality operator: The “==” and “!=” are called equality operators that compare the objects based on their values. \n"
   ]
  },
  {
   "cell_type": "code",
   "execution_count": 11,
   "id": "135def09",
   "metadata": {},
   "outputs": [
    {
     "name": "stdout",
     "output_type": "stream",
     "text": [
      "id of p 2900662369792\n",
      "Id of s 2900662369792\n",
      "id of q 2900662370176\n",
      "Comapare- s == q True\n",
      "Identity- s is q False\n",
      "Identity- s is p True\n",
      "Comapare- s == p True\n"
     ]
    }
   ],
   "source": [
    "# Case 4:\n",
    "# Here variable s is assigned a list, \n",
    "# and q assigned a list values same as s but on slicing of list a new list is generated\n",
    "s=[1,2,3]\n",
    "p=s\n",
    "# cloning\n",
    "q=s[:]\n",
    "print(\"id of p\", id(p))\n",
    "print(\"Id of s\", id(s))\n",
    "print(\"id of q\", id(q))\n",
    "print(\"Comapare- s == q\", s==q)\n",
    "print(\"Identity- s is q\", s is q)\n",
    "print(\"Identity- s is p\", s is p)\n",
    "print(\"Comapare- s == p\", s==p)"
   ]
  },
  {
   "cell_type": "code",
   "execution_count": 12,
   "id": "2788507c",
   "metadata": {},
   "outputs": [
    {
     "name": "stdout",
     "output_type": "stream",
     "text": [
      "[1, 2, 3, 4]\n",
      "[1, 2, 3]\n"
     ]
    }
   ],
   "source": [
    "#Why to use cloning?\n",
    "# When we are doing 'a = b' it copies the all the content of 'a' including memory address, means 'b'\n",
    "# is now also pointing to the same memory adrress. when we make changes in 'a', 'b' also changes.\n",
    "# So to overcome this problem we use cloning. It means that, take the content of 'a' but store in \n",
    "# different memory address.\n",
    "\n",
    "a = [1,2,3]\n",
    "b = a[:]\n",
    "\n",
    "a.append(4)\n",
    "print(a)\n",
    "print(b)"
   ]
  },
  {
   "cell_type": "markdown",
   "id": "4000c3cb",
   "metadata": {},
   "source": [
    "### Q. 12 What does _ variables represent in Python?\n",
    "\n",
    "[GssksForGeeks Article](https://www.geeksforgeeks.org/underscore-_-python)\n",
    "\n",
    "- Underscore _ is considered as \"I don't Care\" or \"Throwaway\" variable in Python\n",
    "\n",
    "\n",
    "* The underscore _ is used for ignoring the specific values. If you don’t need the specific values or the values are not used, just assign the values to underscore.\n",
    "\n",
    "** Ignore a value when unpacking\n",
    "\n",
    "** Ignore the index\n",
    "\n",
    "- It consume the memory like other variable, but is just use for code readability."
   ]
  },
  {
   "cell_type": "code",
   "execution_count": 13,
   "id": "1106f2f8",
   "metadata": {},
   "outputs": [
    {
     "name": "stdout",
     "output_type": "stream",
     "text": [
      "x- 1\n",
      "y- 3\n"
     ]
    }
   ],
   "source": [
    "# Ignore a value when unpacking\n",
    "x, _, y = (1, 2, 3)\n",
    "\n",
    "print(\"x-\",x)\n",
    "print(\"y-\", y)"
   ]
  },
  {
   "cell_type": "code",
   "execution_count": 14,
   "id": "a5f4e53b",
   "metadata": {},
   "outputs": [
    {
     "name": "stdout",
     "output_type": "stream",
     "text": [
      "hello\n",
      "hello\n",
      "hello\n",
      "hello\n",
      "hello\n"
     ]
    }
   ],
   "source": [
    "#Ignore the index\n",
    "\n",
    "# Say we want to print hello 5 times, we don't need index value\n",
    "\n",
    "for _ in range(5):\n",
    "    print('hello')"
   ]
  },
  {
   "cell_type": "markdown",
   "id": "fc91cb7e",
   "metadata": {},
   "source": [
    "### Q. 13 Modules vs packages vs Library\n",
    "\n",
    "Python uses some terms that you may not be familiar with if you’re coming from a different language. Among these are modules, packages, and libraries.\n",
    "\n",
    "- A module is a Python file that’s intended to be imported into scripts or other modules. It often defines members like classes, functions, and variables intended to be used in other files that import it.\n",
    "\n",
    "- A package is a collection of related modules that work together to provide certain functionality. These modules are contained within a folder and can be imported just like any other modules. This folder will often contain a special __init__ file that tells Python it’s a package, potentially containing more modules nested within subfolders\n",
    "\n",
    "- A library is an umbrella term that loosely means “a bundle of code.” These can have tens or even hundreds of individual modules that can provide a wide range of functionality. Matplotlib is a plotting library. The Python Standard Library contains hundreds of modules for performing common tasks, like sending emails or reading JSON data. What’s special about the Standard Library is that it comes bundled with your installation of Python, so you can use its modules without having to download them from anywhere.\n",
    "\n",
    "These are not strict definitions. Many people feel these terms are somewhat open to interpretation. Script and module are terms that you may hear used interchangeably.\n",
    "\n",
    "https://stackoverflow.com/questions/19198166/whats-the-difference-between-a-module-and-a-library-in-python\n",
    "\n",
    "https://www.geeksforgeeks.org/what-is-the-difference-between-pythons-module-package-and-library/\n",
    "\n"
   ]
  },
  {
   "cell_type": "markdown",
   "id": "b8870a4d",
   "metadata": {},
   "source": [
    "###  14. Why 0.3 – 0.2 is not equal to 0.1 in Python?\n",
    "\n",
    "The reason behind it is called “precision”, and it’s due to the fact that computers do not compute in Decimal, but in Binary. Computers do not use a base 10 system, they use a base 2 system (also called Binary code).\n",
    "\n",
    "https://www.geeksforgeeks.org/why-0-3-0-2-is-not-equal-to-0-1-in-python/"
   ]
  },
  {
   "cell_type": "code",
   "execution_count": 15,
   "id": "5743b058",
   "metadata": {},
   "outputs": [
    {
     "name": "stdout",
     "output_type": "stream",
     "text": [
      "0.09999999999999998\n",
      "False\n"
     ]
    }
   ],
   "source": [
    "# code\n",
    "print(0.3 - 0.2)\n",
    "print(0.3 - 0.2 == 0.1)"
   ]
  },
  {
   "cell_type": "markdown",
   "id": "fcfbf1af",
   "metadata": {},
   "source": [
    "### Q. 15 - Python Docstrings\n",
    "\n",
    "https://www.geeksforgeeks.org/python-docstrings"
   ]
  },
  {
   "cell_type": "code",
   "execution_count": 16,
   "id": "2e7bdd64",
   "metadata": {},
   "outputs": [
    {
     "name": "stdout",
     "output_type": "stream",
     "text": [
      "hello\n"
     ]
    }
   ],
   "source": [
    "print('hello')"
   ]
  },
  {
   "cell_type": "code",
   "execution_count": 17,
   "id": "a6f75ad6",
   "metadata": {},
   "outputs": [
    {
     "data": {
      "text/plain": [
       "int"
      ]
     },
     "execution_count": 17,
     "metadata": {},
     "output_type": "execute_result"
    }
   ],
   "source": [
    "type(3)"
   ]
  },
  {
   "cell_type": "code",
   "execution_count": 18,
   "id": "3806f647",
   "metadata": {},
   "outputs": [
    {
     "name": "stdout",
     "output_type": "stream",
     "text": [
      "Forward raw_input to frontends\n",
      "\n",
      "        Raises\n",
      "        ------\n",
      "        StdinNotImplementedError if active frontend doesn't support stdin.\n",
      "        \n"
     ]
    }
   ],
   "source": [
    "print(input.__doc__)"
   ]
  },
  {
   "cell_type": "code",
   "execution_count": 19,
   "id": "3023fe19",
   "metadata": {},
   "outputs": [
    {
     "name": "stdout",
     "output_type": "stream",
     "text": [
      "type(object) -> the object's type\n",
      "type(name, bases, dict, **kwds) -> a new type\n"
     ]
    }
   ],
   "source": [
    "print(type.__doc__)"
   ]
  },
  {
   "cell_type": "code",
   "execution_count": 23,
   "id": "82588973",
   "metadata": {},
   "outputs": [
    {
     "name": "stdout",
     "output_type": "stream",
     "text": [
      "2900662401200\n",
      "2900662304688\n"
     ]
    }
   ],
   "source": [
    "s = 'have'\n",
    "print(id(s))\n",
    "s = s.capitalize() #it does not change the original s as string is immutable, but it make the change\n",
    "# and store and store it in a different memory address.\n",
    "print(id(s))"
   ]
  },
  {
   "cell_type": "code",
   "execution_count": 21,
   "id": "04d3d1ec",
   "metadata": {},
   "outputs": [
    {
     "name": "stdout",
     "output_type": "stream",
     "text": [
      "hello\n",
      "world\n"
     ]
    }
   ],
   "source": [
    "a,b = print('hello'),print('world')"
   ]
  },
  {
   "cell_type": "code",
   "execution_count": 22,
   "id": "0c19aee1",
   "metadata": {},
   "outputs": [
    {
     "name": "stdout",
     "output_type": "stream",
     "text": [
      "3 3 3 3 "
     ]
    }
   ],
   "source": [
    "for i in range(1, 5):\n",
    "    i = 3\n",
    "    print(i, end=' ')\n"
   ]
  },
  {
   "cell_type": "code",
   "execution_count": null,
   "id": "dd2db63f",
   "metadata": {},
   "outputs": [],
   "source": []
  }
 ],
 "metadata": {
  "kernelspec": {
   "display_name": "Python (myenv)",
   "language": "python",
   "name": "myenv"
  },
  "language_info": {
   "codemirror_mode": {
    "name": "ipython",
    "version": 3
   },
   "file_extension": ".py",
   "mimetype": "text/x-python",
   "name": "python",
   "nbconvert_exporter": "python",
   "pygments_lexer": "ipython3",
   "version": "3.10.2"
  }
 },
 "nbformat": 4,
 "nbformat_minor": 5
}
