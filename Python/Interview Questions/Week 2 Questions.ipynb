{
 "cells": [
  {
   "cell_type": "markdown",
   "id": "bfe4bd91",
   "metadata": {},
   "source": [
    "| Question No. | Question |\n",
    "| :--: | :-- |\n",
    "| 1 | What is aliasing?  |\n",
    "| 2 | What is garbage collection?  |\n",
    "| 3 | What is mutability and why is it dangerous in certain scenarios? |\n",
    "| 4 | What is cloning? |\n",
    "| 5 | Differentiate between deep and shallow copies |\n",
    "| 6 | How nested lists are stored in memory? |\n",
    "| 7 | How strings are stored in memory |\n",
    "| 8 | Why tuples take less memory than lists? |\n",
    "| 9 | How set index position is decided? |\n",
    "| 10 | Why mutable types are not allowed in sets/dicts |"
   ]
  },
  {
   "cell_type": "markdown",
   "id": "6444aa71",
   "metadata": {},
   "source": [
    "### 1. What is aliasing?\n",
    "\n",
    "- Basically, Aliasing is the way of optimizing memory\n",
    "- Syntax of aliasing -> a = b\n",
    "- Explained in detailed in Notebook."
   ]
  },
  {
   "cell_type": "code",
   "execution_count": 2,
   "id": "df92acb8",
   "metadata": {},
   "outputs": [],
   "source": [
    "a = 4"
   ]
  },
  {
   "cell_type": "code",
   "execution_count": 3,
   "id": "a7cde754",
   "metadata": {},
   "outputs": [
    {
     "data": {
      "text/plain": [
       "1375626527056"
      ]
     },
     "execution_count": 3,
     "metadata": {},
     "output_type": "execute_result"
    }
   ],
   "source": [
    "id(a)"
   ]
  },
  {
   "cell_type": "code",
   "execution_count": 4,
   "id": "91cb25c6",
   "metadata": {},
   "outputs": [
    {
     "data": {
      "text/plain": [
       "1375626527056"
      ]
     },
     "execution_count": 4,
     "metadata": {},
     "output_type": "execute_result"
    }
   ],
   "source": [
    "id(4)"
   ]
  },
  {
   "cell_type": "code",
   "execution_count": 5,
   "id": "67fc8ded",
   "metadata": {},
   "outputs": [
    {
     "data": {
      "text/plain": [
       "'0xa9c800'"
      ]
     },
     "execution_count": 5,
     "metadata": {},
     "output_type": "execute_result"
    }
   ],
   "source": [
    "hex(11126784)"
   ]
  },
  {
   "cell_type": "code",
   "execution_count": 6,
   "id": "64bc89ba",
   "metadata": {},
   "outputs": [],
   "source": [
    "a = 4\n",
    "b = a"
   ]
  },
  {
   "cell_type": "code",
   "execution_count": 7,
   "id": "103d2719",
   "metadata": {},
   "outputs": [
    {
     "name": "stdout",
     "output_type": "stream",
     "text": [
      "1375626527056\n",
      "1375626527056\n"
     ]
    }
   ],
   "source": [
    "print(id(a))\n",
    "print(id(b))"
   ]
  },
  {
   "cell_type": "code",
   "execution_count": 8,
   "id": "99ae344d",
   "metadata": {},
   "outputs": [],
   "source": [
    "c = b"
   ]
  },
  {
   "cell_type": "code",
   "execution_count": 9,
   "id": "f4a85c95",
   "metadata": {},
   "outputs": [
    {
     "name": "stdout",
     "output_type": "stream",
     "text": [
      "1375626527056\n"
     ]
    }
   ],
   "source": [
    "print(id(c))"
   ]
  },
  {
   "cell_type": "code",
   "execution_count": 10,
   "id": "f05d3a40",
   "metadata": {},
   "outputs": [],
   "source": [
    "del a"
   ]
  },
  {
   "cell_type": "code",
   "execution_count": 11,
   "id": "8e8815c4",
   "metadata": {},
   "outputs": [
    {
     "ename": "NameError",
     "evalue": "name 'a' is not defined",
     "output_type": "error",
     "traceback": [
      "\u001b[1;31m---------------------------------------------------------------------------\u001b[0m",
      "\u001b[1;31mNameError\u001b[0m                                 Traceback (most recent call last)",
      "Input \u001b[1;32mIn [11]\u001b[0m, in \u001b[0;36m<cell line: 1>\u001b[1;34m()\u001b[0m\n\u001b[1;32m----> 1\u001b[0m \u001b[43ma\u001b[49m\n",
      "\u001b[1;31mNameError\u001b[0m: name 'a' is not defined"
     ]
    }
   ],
   "source": [
    "a"
   ]
  },
  {
   "cell_type": "code",
   "execution_count": 12,
   "id": "e9e8a091",
   "metadata": {},
   "outputs": [
    {
     "name": "stdout",
     "output_type": "stream",
     "text": [
      "4\n"
     ]
    }
   ],
   "source": [
    "print(b)"
   ]
  },
  {
   "cell_type": "code",
   "execution_count": 13,
   "id": "ecb4aba9",
   "metadata": {},
   "outputs": [
    {
     "name": "stdout",
     "output_type": "stream",
     "text": [
      "4\n"
     ]
    }
   ],
   "source": [
    "del b\n",
    "print(c)"
   ]
  },
  {
   "cell_type": "markdown",
   "id": "31c0524e",
   "metadata": {},
   "source": [
    "### 2. What is garbage collection?\n",
    "\n",
    "- When a value is stored in a memory that no variable is using, it is called as garbage value.\n",
    "- To clean that garbage value, Python has an internal program called \"Garbage Collector\" that runs periodically and deletes the garbage value. This process is called garbage collection.\n",
    "- Remaining from notebook"
   ]
  },
  {
   "cell_type": "code",
   "execution_count": 16,
   "id": "1b873c5b",
   "metadata": {},
   "outputs": [],
   "source": [
    "# We can check how many variables are pointing to the same value with same memory location\n",
    "a = 'DSMP 2022-23'\n",
    "b = a\n",
    "c = b"
   ]
  },
  {
   "cell_type": "code",
   "execution_count": 17,
   "id": "49c7c13b",
   "metadata": {},
   "outputs": [
    {
     "data": {
      "text/plain": [
       "3"
      ]
     },
     "execution_count": 17,
     "metadata": {},
     "output_type": "execute_result"
    }
   ],
   "source": [
    "import sys\n",
    "sys.getrefcount('DSMP 2022-23')"
   ]
  },
  {
   "cell_type": "markdown",
   "id": "c940e655",
   "metadata": {},
   "source": [
    "### 4. What is mutability and why is it dangerous in certain scenarios?\n",
    "\n",
    "- Mutability is an ability of a data type to get change at its memory location.\n",
    "- Explained in notebook in detail."
   ]
  },
  {
   "cell_type": "code",
   "execution_count": 18,
   "id": "facb5af9",
   "metadata": {},
   "outputs": [
    {
     "name": "stdout",
     "output_type": "stream",
     "text": [
      "1375734961728\n",
      "[1, 2, 3, 4]\n",
      "1375734961728\n"
     ]
    }
   ],
   "source": [
    "L = [1,2,3]\n",
    "print(id(L))  #Old address\n",
    "\n",
    "L.append(4)   #list updated\n",
    "print(L)\n",
    "print(id(L))  #Same old meomry address"
   ]
  },
  {
   "cell_type": "code",
   "execution_count": 23,
   "id": "781525ee",
   "metadata": {},
   "outputs": [
    {
     "name": "stdout",
     "output_type": "stream",
     "text": [
      "1375734702336\n",
      "(1, 2, 3, 4)\n",
      "1375734942752\n"
     ]
    }
   ],
   "source": [
    "T = (1,2,3) \n",
    "print(id(T)) #Old memory adress\n",
    "\n",
    "T = T + (4,) # since, tuple is immutable, new tuple is created with new memory address. Reference of\n",
    "                # old tuple is now pointing to the new adress\n",
    "    \n",
    "print(T)\n",
    "print(id(T)) # New memory adress"
   ]
  },
  {
   "cell_type": "code",
   "execution_count": 27,
   "id": "458490b4",
   "metadata": {},
   "outputs": [
    {
     "name": "stdout",
     "output_type": "stream",
     "text": [
      "[1, 2, 3, 4]\n"
     ]
    }
   ],
   "source": [
    "#When using concepts like aliasing, the variable 'a' and 'b' are pointing to the same memory address\n",
    "# to the same value. since both are pointing to the same adress, the change in one variable affects \n",
    "# the other. This is the dangerous scenario of mutability\n",
    "\n",
    "a = [1,2,3]  #original value of a\n",
    "b = a        # performed aliasing\n",
    "\n",
    "b.append(4)  #value of b gets updated\n",
    "print(b)     #b get updated\n"
   ]
  },
  {
   "cell_type": "code",
   "execution_count": 28,
   "id": "c59e6023",
   "metadata": {},
   "outputs": [
    {
     "name": "stdout",
     "output_type": "stream",
     "text": [
      "[1, 2, 3, 4]\n"
     ]
    }
   ],
   "source": [
    "print(a)   #But the value value of a is also updated"
   ]
  },
  {
   "cell_type": "markdown",
   "id": "7c4a6129",
   "metadata": {},
   "source": [
    "### 4. \tWhat is cloning?\n",
    "\n",
    "- The problem of mutability is solved by cloning.\n",
    "- Cloning and copy() are same.\n",
    "- cloning is nothing but the slicing, [:] means just selecting all the elements from variable a and assigning to variable b.\n",
    "- b is created in a new memory address"
   ]
  },
  {
   "cell_type": "code",
   "execution_count": 29,
   "id": "5d60a5b7",
   "metadata": {},
   "outputs": [
    {
     "name": "stdout",
     "output_type": "stream",
     "text": [
      "[1, 2, 3]\n"
     ]
    }
   ],
   "source": [
    "def func(data):\n",
    "  data.append(4)\n",
    "\n",
    "a = [1,2,3]\n",
    "func(a[:])\n",
    "print(a)"
   ]
  },
  {
   "cell_type": "code",
   "execution_count": 30,
   "id": "208b20d8",
   "metadata": {},
   "outputs": [],
   "source": [
    "a = [1,2,3]\n",
    "# cloning\n",
    "b = a[:]"
   ]
  },
  {
   "cell_type": "code",
   "execution_count": 31,
   "id": "4bf3c7b2",
   "metadata": {},
   "outputs": [
    {
     "data": {
      "text/plain": [
       "1375738039296"
      ]
     },
     "execution_count": 31,
     "metadata": {},
     "output_type": "execute_result"
    }
   ],
   "source": [
    "id(a)"
   ]
  },
  {
   "cell_type": "code",
   "execution_count": 32,
   "id": "94754523",
   "metadata": {},
   "outputs": [
    {
     "data": {
      "text/plain": [
       "1375734932352"
      ]
     },
     "execution_count": 32,
     "metadata": {},
     "output_type": "execute_result"
    }
   ],
   "source": [
    "id(b)"
   ]
  },
  {
   "cell_type": "code",
   "execution_count": 33,
   "id": "3a005e5a",
   "metadata": {},
   "outputs": [
    {
     "data": {
      "text/plain": [
       "[1, 2, 3]"
      ]
     },
     "execution_count": 33,
     "metadata": {},
     "output_type": "execute_result"
    }
   ],
   "source": [
    "a"
   ]
  },
  {
   "cell_type": "code",
   "execution_count": 35,
   "id": "995aa69f",
   "metadata": {},
   "outputs": [
    {
     "name": "stdout",
     "output_type": "stream",
     "text": [
      "{'name': 'nitish', 'age': 33, 'gender': 'male'}\n",
      "{'name': 'nitish', 'age': 33}\n"
     ]
    }
   ],
   "source": [
    "a = {'name':'nitish','age':33}\n",
    "# aliasing->cloning\n",
    "#Since slicing not works on dictionary we use copy()\n",
    "b = a.copy()\n",
    "\n",
    "b['gender'] = 'male'\n",
    "\n",
    "print(b)\n",
    "print(a)"
   ]
  },
  {
   "cell_type": "markdown",
   "id": "e20dff16",
   "metadata": {},
   "source": [
    "### 5. Differentiate between deep and shallow copies\n",
    "\n",
    "- Shallow Copies - [:] & copy() function.\n",
    "- Deep copiy - deepcopy(), we have to import copy module.\n",
    "\n",
    "- Why we use deep copy?\n",
    "- Shallow copy works best on 1D list. But in 2D list/nested list or more than 2D list, It does not works. The nested list adress is similar for both the variable when the copy is created.\n",
    "- So when the changes is made in nested list of variable b, it makes the changes in variable a, since both are pointing to the same address\n",
    "- Therefore deep copy is used, it will work on any type of list."
   ]
  },
  {
   "cell_type": "code",
   "execution_count": 36,
   "id": "610b42d1",
   "metadata": {},
   "outputs": [
    {
     "name": "stdout",
     "output_type": "stream",
     "text": [
      "[1, 2, 3]\n",
      "[1, 2, 3, 4]\n"
     ]
    }
   ],
   "source": [
    "a = [1,2,3]\n",
    "# shallow\n",
    "b = a.copy()\n",
    "\n",
    "b.append(4)\n",
    "\n",
    "print(a)\n",
    "print(b)"
   ]
  },
  {
   "cell_type": "code",
   "execution_count": 37,
   "id": "cf567774",
   "metadata": {},
   "outputs": [
    {
     "data": {
      "text/plain": [
       "[1, 2, 3, [4, 5]]"
      ]
     },
     "execution_count": 37,
     "metadata": {},
     "output_type": "execute_result"
    }
   ],
   "source": [
    "a = [1,2,3,[4,5]]\n",
    "a"
   ]
  },
  {
   "cell_type": "code",
   "execution_count": 38,
   "id": "6183924b",
   "metadata": {},
   "outputs": [
    {
     "name": "stdout",
     "output_type": "stream",
     "text": [
      "1375706657920\n",
      "1375626527056\n"
     ]
    }
   ],
   "source": [
    "print(id(a[-1]))\n",
    "print(id(b[-1]))"
   ]
  },
  {
   "cell_type": "code",
   "execution_count": 39,
   "id": "b8895371",
   "metadata": {},
   "outputs": [
    {
     "data": {
      "text/plain": [
       "[1, 2, 3, [4, 5]]"
      ]
     },
     "execution_count": 39,
     "metadata": {},
     "output_type": "execute_result"
    }
   ],
   "source": [
    "b = a.copy()\n",
    "b"
   ]
  },
  {
   "cell_type": "code",
   "execution_count": 40,
   "id": "c332968e",
   "metadata": {},
   "outputs": [
    {
     "name": "stdout",
     "output_type": "stream",
     "text": [
      "1375706266048\n",
      "1375738043008\n"
     ]
    }
   ],
   "source": [
    "print(id(a))\n",
    "print(id(b))"
   ]
  },
  {
   "cell_type": "code",
   "execution_count": 41,
   "id": "cbd37cb9",
   "metadata": {},
   "outputs": [
    {
     "name": "stdout",
     "output_type": "stream",
     "text": [
      "[1, 2, 3, [400, 5]]\n"
     ]
    }
   ],
   "source": [
    "b[-1][0] = 400\n",
    "print(b)"
   ]
  },
  {
   "cell_type": "code",
   "execution_count": 42,
   "id": "d80a56bd",
   "metadata": {},
   "outputs": [
    {
     "data": {
      "text/plain": [
       "[1, 2, 3, [400, 5]]"
      ]
     },
     "execution_count": 42,
     "metadata": {},
     "output_type": "execute_result"
    }
   ],
   "source": [
    "a"
   ]
  },
  {
   "cell_type": "code",
   "execution_count": 48,
   "id": "8994c925",
   "metadata": {},
   "outputs": [
    {
     "data": {
      "text/plain": [
       "[1, 2, 3, [4, 5]]"
      ]
     },
     "execution_count": 48,
     "metadata": {},
     "output_type": "execute_result"
    }
   ],
   "source": [
    "import copy\n",
    "\n",
    "a = [1,2,3,[4,5]]\n",
    "a"
   ]
  },
  {
   "cell_type": "code",
   "execution_count": 50,
   "id": "689e3507",
   "metadata": {},
   "outputs": [
    {
     "data": {
      "text/plain": [
       "[1, 2, 3, [4, 5]]"
      ]
     },
     "execution_count": 50,
     "metadata": {},
     "output_type": "execute_result"
    }
   ],
   "source": [
    "b = copy.deepcopy(a)\n",
    "b"
   ]
  },
  {
   "cell_type": "code",
   "execution_count": 51,
   "id": "2233e1bb",
   "metadata": {},
   "outputs": [
    {
     "data": {
      "text/plain": [
       "[1, 2, 3, [400, 5]]"
      ]
     },
     "execution_count": 51,
     "metadata": {},
     "output_type": "execute_result"
    }
   ],
   "source": [
    "b[-1][0] = 400\n",
    "b"
   ]
  },
  {
   "cell_type": "code",
   "execution_count": 52,
   "id": "e62b8f4d",
   "metadata": {},
   "outputs": [
    {
     "data": {
      "text/plain": [
       "[1, 2, 3, [4, 5]]"
      ]
     },
     "execution_count": 52,
     "metadata": {},
     "output_type": "execute_result"
    }
   ],
   "source": [
    "a"
   ]
  },
  {
   "cell_type": "code",
   "execution_count": 53,
   "id": "418191c6",
   "metadata": {},
   "outputs": [
    {
     "name": "stdout",
     "output_type": "stream",
     "text": [
      "1375738043840\n",
      "1375738466048\n"
     ]
    }
   ],
   "source": [
    "print(id(a[-1]))\n",
    "print(id(b[-1]))"
   ]
  },
  {
   "cell_type": "markdown",
   "id": "6e3657db",
   "metadata": {},
   "source": [
    "### 6. How nested lists are stored in memory?\n",
    "\n",
    "- From notebook (Explained in detail)"
   ]
  },
  {
   "cell_type": "markdown",
   "id": "06af64f4",
   "metadata": {},
   "source": [
    "### 7. How strings are stored in memory?\n",
    "- From notebook."
   ]
  },
  {
   "cell_type": "markdown",
   "id": "70da84f9",
   "metadata": {},
   "source": [
    "### 8. Why tuples take less memory than lists?\n",
    "\n",
    "- From notebook"
   ]
  },
  {
   "cell_type": "code",
   "execution_count": null,
   "id": "39515490",
   "metadata": {},
   "outputs": [],
   "source": []
  }
 ],
 "metadata": {
  "kernelspec": {
   "display_name": "Python 3 (ipykernel)",
   "language": "python",
   "name": "python3"
  },
  "language_info": {
   "codemirror_mode": {
    "name": "ipython",
    "version": 3
   },
   "file_extension": ".py",
   "mimetype": "text/x-python",
   "name": "python",
   "nbconvert_exporter": "python",
   "pygments_lexer": "ipython3",
   "version": "3.10.2"
  }
 },
 "nbformat": 4,
 "nbformat_minor": 5
}
