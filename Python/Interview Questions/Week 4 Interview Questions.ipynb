{
 "cells": [
  {
   "cell_type": "markdown",
   "id": "d47c84d9",
   "metadata": {},
   "source": [
    "##### 1. What do you mean by __name__ == '__main__' ?\n",
    "\n",
    "- Module or file is same\n",
    "- Package or library is same"
   ]
  },
  {
   "cell_type": "markdown",
   "id": "a685b29f",
   "metadata": {},
   "source": [
    "### What is a module?\n",
    "\n",
    "- Any file with an extention of .py is called a module in python.\n",
    "\n",
    "- Whenever we execute a program it's module name is `__main__` and this name is stored in `__name__` variable.\n",
    "\n",
    "- But whenever we run the file from another file (by importing one file to another), the name will be the file name.\n",
    "\n",
    "- And if we want to hide the part of code from file one we can do it with the help of\n",
    "    - if __name__ == '__main__': \n",
    "           - #part of code\n",
    "        - this part of code will not work in other files, until we make a function for this code."
   ]
  },
  {
   "cell_type": "code",
   "execution_count": 2,
   "id": "4da20770",
   "metadata": {},
   "outputs": [
    {
     "name": "stdout",
     "output_type": "stream",
     "text": [
      "hello\n",
      "__main__\n"
     ]
    }
   ],
   "source": [
    " def display():\n",
    "  print('hello')\n",
    "\n",
    "display()\n",
    "print(__name__)"
   ]
  },
  {
   "cell_type": "markdown",
   "id": "4a76f989",
   "metadata": {},
   "source": [
    "### Importing a module\n",
    "\n",
    "- But what is the need to import a module?\n",
    "    1. Code modularity\n",
    "    2. Code Reusability\n",
    "- How to import a module"
   ]
  },
  {
   "cell_type": "code",
   "execution_count": null,
   "id": "de30f029",
   "metadata": {},
   "outputs": [],
   "source": [
    "# import a module\n",
    "import test\n",
    "test.hello('nitish')"
   ]
  },
  {
   "cell_type": "code",
   "execution_count": null,
   "id": "3f2f608e",
   "metadata": {},
   "outputs": [],
   "source": [
    "# import multiple module -> user defined + builtin\n",
    "import math\n",
    "import test\n",
    "\n",
    "test.hello('nitish')\n",
    "print(math.floor(4.3))"
   ]
  },
  {
   "cell_type": "markdown",
   "id": "f95620cc",
   "metadata": {},
   "source": [
    "### Variations of import statement"
   ]
  },
  {
   "cell_type": "code",
   "execution_count": 1,
   "id": "07c289e3",
   "metadata": {},
   "outputs": [],
   "source": [
    "# Normal\n",
    "import math\n",
    "import random"
   ]
  },
  {
   "cell_type": "code",
   "execution_count": null,
   "id": "b89c593e",
   "metadata": {},
   "outputs": [],
   "source": [
    "# clubbing together\n",
    "import math,random,test"
   ]
  },
  {
   "cell_type": "code",
   "execution_count": null,
   "id": "8ecc9918",
   "metadata": {},
   "outputs": [],
   "source": [
    "# importing specific names from module\n",
    "from math import factorial,floor\n",
    "from test import hello\n",
    "\n",
    "print(factorial(5))\n",
    "ceil(4.8) #Gives error"
   ]
  },
  {
   "cell_type": "code",
   "execution_count": 2,
   "id": "0a4b99f6",
   "metadata": {},
   "outputs": [
    {
     "data": {
      "text/plain": [
       "120"
      ]
     },
     "execution_count": 2,
     "metadata": {},
     "output_type": "execute_result"
    }
   ],
   "source": [
    "# renaming modules\n",
    "import math as m\n",
    "import numpy as np\n",
    "import pandas as pd\n",
    "import matplotlib.pyplot as plt\n",
    "\n",
    "\n",
    "m.factorial(5)"
   ]
  },
  {
   "cell_type": "code",
   "execution_count": 3,
   "id": "5176bff0",
   "metadata": {},
   "outputs": [
    {
     "data": {
      "text/plain": [
       "120"
      ]
     },
     "execution_count": 3,
     "metadata": {},
     "output_type": "execute_result"
    }
   ],
   "source": [
    "from math import factorial as f\n",
    "\n",
    "f(5)\n"
   ]
  },
  {
   "cell_type": "code",
   "execution_count": 8,
   "id": "3f15b4b7",
   "metadata": {},
   "outputs": [
    {
     "name": "stdout",
     "output_type": "stream",
     "text": [
      "['D:\\\\Machine Learning\\\\Python\\\\Interview Questions', 'C:\\\\Python 3.10\\\\python310.zip', 'C:\\\\Python 3.10\\\\DLLs', 'C:\\\\Python 3.10\\\\lib', 'C:\\\\Python 3.10', '', 'C:\\\\Python 3.10\\\\lib\\\\site-packages', 'C:\\\\Python 3.10\\\\lib\\\\site-packages\\\\openpyxl-3.1.2-py3.10.egg', 'C:\\\\Python 3.10\\\\lib\\\\site-packages\\\\win32', 'C:\\\\Python 3.10\\\\lib\\\\site-packages\\\\win32\\\\lib', 'C:\\\\Python 3.10\\\\lib\\\\site-packages\\\\Pythonwin']\n"
     ]
    }
   ],
   "source": [
    "import sys\n",
    "print(sys.path)"
   ]
  },
  {
   "cell_type": "markdown",
   "id": "1fef046f",
   "metadata": {},
   "source": [
    "### What are packages in Python\n",
    "\n",
    "A package in python is a directory containing similar sub packages and modules.\n",
    "\n",
    "- A particular directory is treated as package if it has `__init__.py` file in it.\n",
    "- The `__init__.py` file may be empty or contain some initialization code related to the package"
   ]
  },
  {
   "cell_type": "markdown",
   "id": "3029f970",
   "metadata": {},
   "source": [
    "### What are 3rd party packages?\n",
    "\n",
    "- The python community creates packages and make it available for other programmers\n",
    "- PyPI -> Python Package Index\n",
    "- You can upload your own package\n",
    "- You can also install packages from PyPI and install using pip\n",
    "- pip is a package manager utility\n",
    "- it is automatically installed with python\n",
    "\n"
   ]
  },
  {
   "cell_type": "code",
   "execution_count": null,
   "id": "fbf43f0f",
   "metadata": {},
   "outputs": [],
   "source": []
  }
 ],
 "metadata": {
  "kernelspec": {
   "display_name": "Python 3 (ipykernel)",
   "language": "python",
   "name": "python3"
  },
  "language_info": {
   "codemirror_mode": {
    "name": "ipython",
    "version": 3
   },
   "file_extension": ".py",
   "mimetype": "text/x-python",
   "name": "python",
   "nbconvert_exporter": "python",
   "pygments_lexer": "ipython3",
   "version": "3.10.2"
  }
 },
 "nbformat": 4,
 "nbformat_minor": 5
}
