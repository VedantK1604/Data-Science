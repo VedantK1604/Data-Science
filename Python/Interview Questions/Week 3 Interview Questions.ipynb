{
 "cells": [
  {
   "cell_type": "markdown",
   "id": "eacc59e4",
   "metadata": {},
   "source": [
    "- How indexing works in sets\n",
    "- Why dict key cant be mutable data types\n",
    "- Enumerate\n",
    "- destructor\n",
    "- dir/isinstance/issubclass\n",
    "- classmethod vs staticmethod\n",
    "- The diamond problem\n",
    "- What’s the meaning of single and double underscores in Python variable and method names\n",
    "- Magic Methods (repr vs str)\n",
    "- How can objects be stored in sets even though they are mutable"
   ]
  },
  {
   "cell_type": "code",
   "execution_count": null,
   "id": "72b1ce4f",
   "metadata": {},
   "outputs": [],
   "source": []
  },
  {
   "cell_type": "markdown",
   "id": "45579265",
   "metadata": {},
   "source": [
    "### 1. How indexing works in sets ?\n",
    "\n",
    "- Explained in notebook"
   ]
  },
  {
   "cell_type": "code",
   "execution_count": 2,
   "id": "4002721f",
   "metadata": {
    "scrolled": true
   },
   "outputs": [
    {
     "data": {
      "text/plain": [
       "{14, 23, 30, 34, 45, 54}"
      ]
     },
     "execution_count": 2,
     "metadata": {},
     "output_type": "execute_result"
    }
   ],
   "source": [
    "s = {34,23,14,45,30,54}\n",
    "s"
   ]
  },
  {
   "cell_type": "markdown",
   "id": "6304617c",
   "metadata": {},
   "source": [
    "### 2. Why dict key cant be mutable data types ?\n",
    "\n",
    "- Explained in notebook"
   ]
  },
  {
   "cell_type": "code",
   "execution_count": 3,
   "id": "7a204d3d",
   "metadata": {},
   "outputs": [
    {
     "data": {
      "text/plain": [
       "{(1, 2, 3): 'nitish'}"
      ]
     },
     "execution_count": 3,
     "metadata": {},
     "output_type": "execute_result"
    }
   ],
   "source": [
    "d = {(1,2,3):'nitish'}\n",
    "d"
   ]
  },
  {
   "cell_type": "code",
   "execution_count": 4,
   "id": "2eae4636",
   "metadata": {},
   "outputs": [
    {
     "ename": "TypeError",
     "evalue": "unhashable type: 'list'",
     "output_type": "error",
     "traceback": [
      "\u001b[1;31m---------------------------------------------------------------------------\u001b[0m",
      "\u001b[1;31mTypeError\u001b[0m                                 Traceback (most recent call last)",
      "Input \u001b[1;32mIn [4]\u001b[0m, in \u001b[0;36m<cell line: 1>\u001b[1;34m()\u001b[0m\n\u001b[1;32m----> 1\u001b[0m d \u001b[38;5;241m=\u001b[39m {[\u001b[38;5;241m1\u001b[39m,\u001b[38;5;241m2\u001b[39m,\u001b[38;5;241m3\u001b[39m]:\u001b[38;5;124m'\u001b[39m\u001b[38;5;124mnitish\u001b[39m\u001b[38;5;124m'\u001b[39m}\n\u001b[0;32m      2\u001b[0m d\n",
      "\u001b[1;31mTypeError\u001b[0m: unhashable type: 'list'"
     ]
    }
   ],
   "source": [
    "d = {[1,2,3]:'nitish'}\n",
    "d"
   ]
  },
  {
   "cell_type": "markdown",
   "id": "f74700b8",
   "metadata": {},
   "source": [
    "### 3. Enumerate() Function:\n",
    "\n",
    "- It basically create a count of element in the list and store element into a tuple with its counter value.\n",
    "- Note: The counter is not the index position, it is just the counter, that counts the elements."
   ]
  },
  {
   "cell_type": "code",
   "execution_count": 6,
   "id": "30664116",
   "metadata": {},
   "outputs": [
    {
     "data": {
      "text/plain": [
       "[('nitish', 45), ('ankita', 40), ('ankit', 31)]"
      ]
     },
     "execution_count": 6,
     "metadata": {},
     "output_type": "execute_result"
    }
   ],
   "source": [
    "# enumerate\n",
    "# The enumerate() method adds a counter to an iterable and returns it (the enumerate object).\n",
    "L = [('nitish',45),('ankit',31),('ankita',40)]\n",
    "\n",
    "# For sorting the list on the basis of 2nd item in each tuple(item in list).\n",
    "sorted(L,key=lambda x:x[1],reverse=True)"
   ]
  },
  {
   "cell_type": "code",
   "execution_count": 10,
   "id": "33e5b6be",
   "metadata": {},
   "outputs": [
    {
     "data": {
      "text/plain": [
       "[(1, 21), (0, 15), (2, 13), (3, 13)]"
      ]
     },
     "execution_count": 10,
     "metadata": {},
     "output_type": "execute_result"
    }
   ],
   "source": [
    "L = [15,21,13,13]\n",
    "sorted(list(enumerate(L)),key=lambda x:x[1],reverse=True) \n",
    "#enumerate create an object so we have to store it into a list"
   ]
  },
  {
   "cell_type": "markdown",
   "id": "3241d102",
   "metadata": {},
   "source": [
    "### 4. destructor\n",
    "\n",
    "- Destructor is called when we delete an object of a class or an instance of a class.\n",
    "- For deleting an object we must have to use destructor a magic method like constructor.\n",
    "- The object will be delete because of destructor but the content of the destructor cannot be triggered until all the instance of a class are not deleted."
   ]
  },
  {
   "cell_type": "code",
   "execution_count": 12,
   "id": "50678d88",
   "metadata": {},
   "outputs": [
    {
     "name": "stdout",
     "output_type": "stream",
     "text": [
      "constructor called\n",
      "destructor called\n"
     ]
    }
   ],
   "source": [
    "# destructor\n",
    "class Example:\n",
    "\n",
    "  def __init__(self):\n",
    "    print('constructor called')\n",
    "\n",
    "  # destructor\n",
    "  def __del__(self):\n",
    "    print('destructor called')\n",
    "\n",
    "obj = Example() #Constructor called\n",
    "a = obj      #another object created\n",
    "del obj      #object obj deletd but contents are not triggered\n",
    "del a        #object a is deleted and contents are triggered."
   ]
  },
  {
   "cell_type": "markdown",
   "id": "f10c9072",
   "metadata": {},
   "source": [
    "### 5. dir/isinstance/issubclass"
   ]
  },
  {
   "cell_type": "code",
   "execution_count": 13,
   "id": "c1c76ca4",
   "metadata": {},
   "outputs": [
    {
     "name": "stdout",
     "output_type": "stream",
     "text": [
      "['_Test__baz', '__class__', '__delattr__', '__dict__', '__dir__', '__doc__', '__eq__', '__format__', '__ge__', '__getattribute__', '__gt__', '__hash__', '__init__', '__init_subclass__', '__le__', '__lt__', '__module__', '__ne__', '__new__', '__reduce__', '__reduce_ex__', '__repr__', '__setattr__', '__sizeof__', '__str__', '__subclasshook__', '__weakref__', '_bar', 'foo', 'greet']\n"
     ]
    }
   ],
   "source": [
    "# dir\n",
    "\n",
    "class Test:\n",
    "    def __init__(self):\n",
    "        self.foo = 11\n",
    "        self._bar = 23\n",
    "        self.__baz = 23\n",
    "\n",
    "    def greet(self):\n",
    "      print('hello')\n",
    "    \n",
    "t = Test()\n",
    "print(dir(t)) # This gives us a list with the object’s attributes"
   ]
  },
  {
   "cell_type": "code",
   "execution_count": 14,
   "id": "f9a03e10",
   "metadata": {},
   "outputs": [
    {
     "name": "stdout",
     "output_type": "stream",
     "text": [
      "['_Test__baz', '__class__', '__delattr__', '__dict__', '__dir__', '__doc__', '__eq__', '__format__', '__ge__', '__getattribute__', '__gt__', '__hash__', '__init__', '__init_subclass__', '__le__', '__lt__', '__module__', '__ne__', '__new__', '__reduce__', '__reduce_ex__', '__repr__', '__setattr__', '__sizeof__', '__str__', '__subclasshook__', '__weakref__', '_bar', 'foo', 'greet']\n"
     ]
    }
   ],
   "source": [
    "# dir\n",
    "\n",
    "class Test:\n",
    "    def __init__(self):\n",
    "        self.foo = 11\n",
    "        self._bar = 23\n",
    "        self.__baz = 23\n",
    "\n",
    "    def greet(self):\n",
    "      print('hello')\n",
    "    \n",
    "t = Test()\n",
    "print(dir(t)) # This gives us a list with the object’s attributes"
   ]
  },
  {
   "cell_type": "code",
   "execution_count": 15,
   "id": "6c7af777",
   "metadata": {},
   "outputs": [
    {
     "data": {
      "text/plain": [
       "True"
      ]
     },
     "execution_count": 15,
     "metadata": {},
     "output_type": "execute_result"
    }
   ],
   "source": [
    "# issubclass\n",
    "class A:\n",
    "  def __init__(self):\n",
    "    pass\n",
    "\n",
    "class B(A):\n",
    "  pass\n",
    "\n",
    "issubclass(B,A)"
   ]
  },
  {
   "cell_type": "markdown",
   "id": "5668b16a",
   "metadata": {},
   "source": [
    "### 6. The Diamond Problem"
   ]
  },
  {
   "cell_type": "code",
   "execution_count": 17,
   "id": "1d540384",
   "metadata": {},
   "outputs": [
    {
     "name": "stdout",
     "output_type": "stream",
     "text": [
      "In Class3\n"
     ]
    }
   ],
   "source": [
    "# The diamond problem\n",
    "class Class1:\n",
    "    def m(self):\n",
    "        print(\"In Class1\")\n",
    "       \n",
    "class Class2(Class1):\n",
    "    def m(self):\n",
    "        print(\"In Class2\")\n",
    " \n",
    "class Class3(Class1):\n",
    "    def m(self):\n",
    "        print(\"In Class3\") \n",
    "        \n",
    "class Class4(Class3, Class2):\n",
    "    pass  \n",
    "     \n",
    "obj = Class4()\n",
    "obj.m()\n",
    "# MRO - Method resolution order"
   ]
  },
  {
   "cell_type": "markdown",
   "id": "bdc63d23",
   "metadata": {},
   "source": [
    "### 7. What’s the meaning of single and double underscores in Python variable and method names?\n",
    "\n",
    "\n",
    "* Single Leading Underscore: `_var`\n",
    "* Single Trailing Underscore: `var_`\n",
    "* Double Leading Underscore: `__var`\n",
    "* Double Leading and Trailing Underscore: `__var__`\n",
    "* Single Underscore: `_`\n",
    "\n",
    "1. **Single Leading Underscore:** `_var` are a Python naming convention that indicates a name is meant for internal use. It is generally not enforced by the\n",
    "Python interpreter and is only meant as a hint to the programmer.\n",
    " \n",
    " Adding a single underscore in front of a variable name is more like someone putting up a tiny underscore warning sign that says: \n",
    "\n",
    "> “Hey, this isn’t really meant to be a part of the public interface of this class. Best to leave it alone.”"
   ]
  },
  {
   "cell_type": "code",
   "execution_count": 28,
   "id": "60598c2a",
   "metadata": {},
   "outputs": [
    {
     "name": "stdout",
     "output_type": "stream",
     "text": [
      "11\n",
      "23\n"
     ]
    }
   ],
   "source": [
    "class Test:\n",
    "    def __init__(self):\n",
    "        self.foo = 11\n",
    "        self._bar = 23\n",
    "\n",
    "t = Test()\n",
    "print(t.foo) #Print 11\n",
    "\n",
    "print(t._bar) # Print 23"
   ]
  },
  {
   "cell_type": "markdown",
   "id": "abe8d25c",
   "metadata": {},
   "source": [
    "2. **Single Trailing Underscore:** `var_`\n",
    " Sometimes the most fitting name for a variable is already taken by a keyword in the Python language. Therefore, names like class or def cannot be used as variable names in Python. In this case, you can append a single underscore to break the naming conflict:\n",
    "\n"
   ]
  },
  {
   "cell_type": "code",
   "execution_count": 29,
   "id": "dc511b39",
   "metadata": {},
   "outputs": [
    {
     "ename": "SyntaxError",
     "evalue": "invalid syntax (295413822.py, line 1)",
     "output_type": "error",
     "traceback": [
      "\u001b[1;36m  Input \u001b[1;32mIn [29]\u001b[1;36m\u001b[0m\n\u001b[1;33m    def make_object(name, class):\u001b[0m\n\u001b[1;37m                          ^\u001b[0m\n\u001b[1;31mSyntaxError\u001b[0m\u001b[1;31m:\u001b[0m invalid syntax\n"
     ]
    }
   ],
   "source": [
    "def make_object(name, class):\n",
    "    pass"
   ]
  },
  {
   "cell_type": "code",
   "execution_count": 30,
   "id": "16613e13",
   "metadata": {},
   "outputs": [],
   "source": [
    "def make_object(name, class_):\n",
    "    pass"
   ]
  },
  {
   "cell_type": "markdown",
   "id": "6202daf8",
   "metadata": {},
   "source": [
    "In summary, a single trailing underscore (postfix) is used by convention to avoid naming conflicts with Python keywords. This convention\n",
    "is defined and explained in PEP 8."
   ]
  },
  {
   "cell_type": "markdown",
   "id": "993bef44",
   "metadata": {},
   "source": [
    "3. **Double Leading Underscore**: `__var`\n",
    "\n",
    "A double underscore prefix causes the Python interpreter to rewrite\n",
    "the attribute name in order to avoid naming conflicts in subclasses.\n",
    "\n",
    "This is also called *name mangling*—the interpreter changes the name\n",
    "of the variable in a way that makes it harder to create collisions when\n",
    "the class is extended later."
   ]
  },
  {
   "cell_type": "code",
   "execution_count": 32,
   "id": "1376647d",
   "metadata": {},
   "outputs": [
    {
     "name": "stdout",
     "output_type": "stream",
     "text": [
      "['_Test__baz', '__class__', '__delattr__', '__dict__', '__dir__', '__doc__', '__eq__', '__format__', '__ge__', '__getattribute__', '__gt__', '__hash__', '__init__', '__init_subclass__', '__le__', '__lt__', '__module__', '__ne__', '__new__', '__reduce__', '__reduce_ex__', '__repr__', '__setattr__', '__sizeof__', '__str__', '__subclasshook__', '__weakref__', '_bar', 'foo']\n"
     ]
    }
   ],
   "source": [
    "class Test:\n",
    "    def __init__(self):\n",
    "        self.foo = 11\n",
    "        self._bar = 23\n",
    "        self.__baz = 23\n",
    "    \n",
    "t = Test()\n",
    "print(dir(t)) # This gives us a list with the object’s attributes"
   ]
  },
  {
   "cell_type": "markdown",
   "id": "5f9dc8f4",
   "metadata": {},
   "source": [
    "```\n",
    "['_Test__baz', '__class__', '__delattr__', '__dict__',\n",
    "'__dir__', '__doc__', '__eq__', '__format__', '__ge__',\n",
    "'__getattribute__', '__gt__', '__hash__', '__init__',\n",
    "'__le__', '__lt__', '__module__', '__ne__', '__new__',\n",
    "'__reduce__', '__reduce_ex__', '__repr__',\n",
    "'__setattr__', '__sizeof__', '__str__',\n",
    "'__subclasshook__', '__weakref__', '_bar', 'foo']\n",
    "```\n",
    "\n",
    "Let’s take this list and look for our original variable names `foo`, `_bar`, and `__baz`. I promise you’ll notice some interesting changes.\n",
    "\n",
    "First of all, the `self.foo` variable appears unmodified as `foo` in the\n",
    "attribute list.\n",
    "\n",
    "Next up, `self._bar` behaves the same way—it shows up on the class\n",
    "as `_bar`. Like I explained before, the leading underscore is just a convention\n",
    "in this case—a hint for the programmer.\n",
    "\n",
    "However, with `self.__baz` things look a little different. When you\n",
    "search for `__baz` in that list, you’ll see that there is no variable with\n",
    "that exact name.\n",
    "\n",
    "So what happened to `__baz`?\n",
    "\n",
    "> If you look closely, you’ll see there’s an attribute called `_Test__baz`\n",
    "on this object. This is the name mangling that the Python interpreter\n",
    "applies. It does this to protect the variable from getting overridden in\n",
    "subclasses.\n",
    "\n",
    "This type of variables also explained in `Private attributes` and `methods` session."
   ]
  },
  {
   "cell_type": "markdown",
   "id": "bb059558",
   "metadata": {},
   "source": [
    "4. **Double Leading and Trailing Underscore**: `__var__`\n",
    "\n",
    "Double underscores `__` are often referred to as “**dunders**” in the Python\n",
    "community. The reason is that double underscores appear quite often\n",
    "in Python code, and to avoid fatiguing their jaw muscles, Pythonistas\n",
    "often shorten “**double underscore**” to “**dunder**.”\n",
    "\n",
    "The names that have both leading and trailing double underscores are reserved for special use in the language. This rule covers things like `__init__` for object constructors, or `__call__` to make objects callable.\n",
    "\n",
    "These dunder methods are often referred to as magic methods.\n",
    "\n",
    "There are many dunder methods, here are some:-\n",
    "\n",
    "`__str__, __repr__, __call__, __add__, __sub__, __len__` etc.\n",
    "\n"
   ]
  },
  {
   "cell_type": "markdown",
   "id": "91beae55",
   "metadata": {},
   "source": [
    "5. **Single Underscore** `_`:\n",
    " Sometimes used as a name for temporary or insignificant variables (“don’t care). Also, it represents the result of the last expression in a Python REPL session.\n"
   ]
  },
  {
   "cell_type": "code",
   "execution_count": null,
   "id": "a2442915",
   "metadata": {},
   "outputs": [],
   "source": []
  },
  {
   "cell_type": "markdown",
   "id": "f9b54c61",
   "metadata": {},
   "source": [
    "### 8. Magic Methods (repr vs str)"
   ]
  },
  {
   "cell_type": "code",
   "execution_count": null,
   "id": "51b4fa78",
   "metadata": {},
   "outputs": [],
   "source": []
  },
  {
   "cell_type": "code",
   "execution_count": 18,
   "id": "ade76c9c",
   "metadata": {},
   "outputs": [
    {
     "name": "stdout",
     "output_type": "stream",
     "text": [
      "hello\n",
      "'hello'\n"
     ]
    }
   ],
   "source": [
    "# repr and other magic/dunder methods\n",
    "\n",
    "a = 'hello'\n",
    "\n",
    "print(str(a))\n",
    "print(repr(a))"
   ]
  },
  {
   "cell_type": "code",
   "execution_count": 19,
   "id": "7e6d8725",
   "metadata": {},
   "outputs": [
    {
     "name": "stdout",
     "output_type": "stream",
     "text": [
      "2024-01-17 01:00:12.168537\n",
      "2024-01-17 01:00:12.168537\n",
      "datetime.datetime(2024, 1, 17, 1, 0, 12, 168537)\n",
      "'2024-01-17 01:00:12.168537'\n"
     ]
    }
   ],
   "source": [
    "import datetime\n",
    "\n",
    "a = datetime.datetime.now()\n",
    "b = str(a)\n",
    "\n",
    "print(str(a))\n",
    "print(str(b))\n",
    "\n",
    "print(repr(a))\n",
    "print(repr(b))"
   ]
  },
  {
   "cell_type": "markdown",
   "id": "cc0f5ecc",
   "metadata": {},
   "source": [
    "### In summary\n",
    "\n",
    "- str is for users -> meant to be more readable\n",
    "- repr is for developers for debugging - > for being unambigous"
   ]
  },
  {
   "cell_type": "markdown",
   "id": "5fe6c09c",
   "metadata": {},
   "source": [
    "## 9. classmethod vs staticmethod\n",
    "\n",
    "The difference between the Class method and the static method is:\n",
    "\n",
    "- A class method takes cls as the first parameter while a static method needs no specific parameters.\n",
    "- A class method can access or modify the class state while a static method can’t access or modify it.\n",
    "- In general, static methods know nothing about the class state. They are utility-type methods that take some parameters and work upon those parameters. On the other hand class methods must have class as a parameter.\n",
    "- We use @classmethod decorator in python to create a class method and we use @staticmethod decorator to create a static method in python.\n",
    "\n",
    "### When to use the class or static method?\n",
    "- We generally use the class method to create factory methods. Factory methods return class objects ( similar to a constructor ) for different use cases.\n",
    "- We generally use static methods to create utility functions."
   ]
  },
  {
   "cell_type": "markdown",
   "id": "f575378c",
   "metadata": {},
   "source": [
    "###  10. What is a decorator in Python?\n",
    "\n",
    "Python offers a unique feature called decorators.\n",
    "\n",
    "Let's start with an analogy before getting to the technical definition of the decorators. When we mention the word \"decorator\", what enters your mind? Well, likely something that adds beauty to an existing object. An example is when we hang a picture frame to a wall to enhance the room.\n",
    "\n",
    "Decorators in Python add some feature or functionality to an existing function without altering it.\n",
    "\n",
    "Let's say we have the following simple function that takes two numbers as parameters and divides them.\n",
    "\n",
    "\n",
    "```\n",
    "def divide(first, second):\n",
    "    print (\"The result is:\", first/second)\n",
    "```\n",
    "Now if we call this function by passing the two values 16 and 4, it will return the following output:\n",
    "\n",
    "\n",
    "```\n",
    "divide(16, 4)\n",
    "```\n",
    "The output is:\n",
    "\n",
    "`The result is: 4.0`\n",
    "\n"
   ]
  },
  {
   "cell_type": "code",
   "execution_count": 21,
   "id": "a8ed806b",
   "metadata": {},
   "outputs": [
    {
     "name": "stdout",
     "output_type": "stream",
     "text": [
      "The result is: 4.0\n"
     ]
    }
   ],
   "source": [
    "def divide(first, second):\n",
    "    print (\"The result is:\", first/second)\n",
    "\n",
    "divide(16, 4)\n"
   ]
  },
  {
   "cell_type": "markdown",
   "id": "b2e11fa5",
   "metadata": {},
   "source": [
    "What will happen if we pass the number 4 first, and 16 after? The answer will be 0.25. But we don't want it to happen. We want a scenario where if we see that first < second, we swap the numbers and divide them. But we aren't allowed to change the function.\n",
    "\n",
    "Let's create a decorator that will take the function as a parameter. This decorator will add the swipe functionality to our function.\n",
    "\n",
    "```\n",
    "def swipe_decorator(func):\n",
    "    def swipe(first, second):\n",
    "        if first < second:\n",
    "            first, second = second, first\n",
    "        return func(first, second)\n",
    "\n",
    "    return swipe\n",
    "```\n",
    "\n",
    "Now we have generated a decorator for the divide() function. Let's see how it works.\n",
    "\n",
    "```\n",
    "divide = swipe_decorator(divide)\n",
    "divide(4, 16)\n",
    "```\n",
    "The output is:\n",
    "```\n",
    "The result is: 4.0\n",
    "```\n",
    "\n",
    "We have passed the function as a parameter to the decorator. The decorator \"swiped our values\" and returned the function with swiped values. After that, we invoked the returned function to generate the output as expected.\n",
    "\n"
   ]
  },
  {
   "cell_type": "code",
   "execution_count": 23,
   "id": "757fdd0a",
   "metadata": {},
   "outputs": [
    {
     "name": "stdout",
     "output_type": "stream",
     "text": [
      "The result is: 0.25\n",
      "The result is: 4.0\n"
     ]
    }
   ],
   "source": [
    "# Func refrencinf this divide function\n",
    "def divide(first, second):\n",
    "    print (\"The result is:\", first/second)\n",
    "\n",
    "def swipe_decorator(func):\n",
    "    def swipe(first, second):\n",
    "        if first < second:\n",
    "            first, second = second, first\n",
    "        return func(first, second)\n",
    "    return swipe\n",
    "\n",
    "\n",
    "divide(4, 16) # Undecorated\n",
    "\n",
    "divide = swipe_decorator(divide) # Decorated\n",
    "\n",
    "# Decorated\n",
    "divide(4, 16)"
   ]
  },
  {
   "cell_type": "code",
   "execution_count": 24,
   "id": "b1bac1a3",
   "metadata": {},
   "outputs": [
    {
     "name": "stdout",
     "output_type": "stream",
     "text": [
      "The result is: 0.4\n"
     ]
    }
   ],
   "source": [
    "def divide(first, second):\n",
    "    print (\"The result is:\", first/second)\n",
    "\n",
    "divide(4,10) # Bigger/smaller"
   ]
  },
  {
   "cell_type": "code",
   "execution_count": 25,
   "id": "b0d5f0bc",
   "metadata": {},
   "outputs": [
    {
     "name": "stdout",
     "output_type": "stream",
     "text": [
      "The result is: 4.0\n"
     ]
    }
   ],
   "source": [
    "# Another way of doing the same thing\n",
    "\n",
    "def swipe_decorator(func):\n",
    "    def swipe(first, second):\n",
    "        if first < second:\n",
    "            first, second = second, first\n",
    "        return func(first, second)\n",
    "    return swipe\n",
    "\n",
    "@swipe_decorator # divide = swipe_decorator(divide) \n",
    "def divide(first, second):\n",
    "    print (\"The result is:\", first/second)\n",
    "\n",
    "\n",
    "\n",
    "divide(4, 16)"
   ]
  },
  {
   "cell_type": "markdown",
   "id": "89f54408",
   "metadata": {},
   "source": [
    "### 11. How can you determine whether a class is a subclass of another class?\n",
    "\n",
    "Ans: \n",
    "\n",
    "This is accomplished by utilising a Python function called issubclass(). The function returns true or false depending on if a class is a child of another class, indicating whether it is."
   ]
  },
  {
   "cell_type": "code",
   "execution_count": 26,
   "id": "e74a6403",
   "metadata": {},
   "outputs": [
    {
     "name": "stdout",
     "output_type": "stream",
     "text": [
      "False\n",
      "True\n"
     ]
    }
   ],
   "source": [
    "class ABC:\n",
    "    pass\n",
    "\n",
    "class PQR(ABC):\n",
    "    pass\n",
    "\n",
    "print(issubclass(ABC, PQR)) # False as ABC is not the child class of PQR\n",
    "print(issubclass(PQR, ABC)) # True as PQR is a child os ABC"
   ]
  },
  {
   "cell_type": "markdown",
   "id": "b752c214",
   "metadata": {},
   "source": [
    "### 12. What does Python's MRO (Method Resolution Order) mean?\n",
    "\n",
    "Ans:\n",
    "\n",
    "Method Resolution Order is referred to as MRO.\n",
    "A class inherits from many classes under multiple inheritance.\n",
    "If we attempt to access a method by building an object from the child class, the methods of the child class are first searched for the method.\n",
    "If the method is not found in the child class, the inheritance classes are searched from left to right.\n",
    "\n",
    "The `show` method is present in both the `Father` and `Mother` classes in the example presented below.\n",
    "\n",
    "In MRO, methods and variables are searched from left to right because while conducting inheritance, `Father` class is written first and `Mother` class is written afterwards. So firstly `Father` class will be searched for `show` method if found then will get executed if not, `Mother` class will be searched."
   ]
  },
  {
   "cell_type": "code",
   "execution_count": 27,
   "id": "fcb3f323",
   "metadata": {},
   "outputs": [
    {
     "name": "stdout",
     "output_type": "stream",
     "text": [
      "You are in Son Class Constructor\n",
      "Father Class instance Method\n"
     ]
    }
   ],
   "source": [
    "# Example code\n",
    "class Father:\n",
    "  def __init__(self):\n",
    "    print('You are in Father Class Constructor')\n",
    "   \n",
    "  def show(self):\n",
    "    print(\"Father Class instance Method\")\n",
    "         \n",
    "class Mother:\n",
    "  def __init__(self):\n",
    "    print(\"You are in Mother Class Constructor\")\n",
    "   \n",
    "  def show(self):\n",
    "    print(\"Mother Class instance Method\")\n",
    "         \n",
    "class Son(Father, Mother):\n",
    "    def __init__(self):\n",
    "        print(\"You are in Son Class Constructor\")\n",
    "     \n",
    "son = Son()\n",
    "son.show()"
   ]
  },
  {
   "cell_type": "markdown",
   "id": "ff22ed3c",
   "metadata": {},
   "source": [
    "### 13 . What is the difference between OOP and SOP?\n",
    "\n",
    "| Object Oriented Programming | Structural Programming|\n",
    "| :-- | :-- |\n",
    "| Object-Oriented Programming is a type of programming which is based on objects rather than just functions and procedures | Provides logical structure to a program where programs are divided functions |\n",
    "| Bottom-up approach | Top-down approach |\n",
    "| Provides data hiding | Does not provide data hiding |\n",
    "| Can solve problems of any complexity | Can solve moderate problems |\n",
    "| Code can be reused thereby reducing redundancy | Does not support code reusability |\n",
    "\n",
    "### 14. Can you call the base class method without creating an instance?\n",
    "\n",
    "Yes, you can call the base class without instantiating it if:\n",
    "- It is a static method\n",
    "- The base class is inherited by some other subclass\n",
    "\n",
    "### 15. What are the limitations of inheritance?\n",
    "\n",
    "- Increases the time and effort required to execute a program as it requires jumping back and forth between different classes.\n",
    "- The parent class and the child class get tightly coupled.\n",
    "- Any modifications to the program would require changes both in the parent as well as the child class\n",
    "- Needs careful implementation else would lead to incorrect results\n",
    "\n",
    "### 16. What is the difference between range() and xrange()?\n",
    "\n",
    "- range() creates a static list that can be iterated through while checking some conditions. This is a function that returns a list with integer sequences.\n",
    "- xrange() is same in functionality as range() but it does not return a list, instead it returns an object of xrange(). xrange() is used in generators for yielding.\n",
    "\n",
    "| range() | xrange() |\n",
    "| :-- | :-- |\n",
    "| In Python 3, xrange() is not supported; instead, the range() function is used to iterate in for loops. | The xrange() function is used in Python 2 to iterate in for loops.\n",
    "| It returns a list. | It returns a generator object as it doesn’t really generate a static list at the run time. |\n",
    "| It takes more memory as it keeps the entire list of iterating numbers in memory. | It takes less memory as it keeps only one number at a time in memory. |"
   ]
  },
  {
   "cell_type": "markdown",
   "id": "5fbf34dd",
   "metadata": {},
   "source": [
    "### 17. How to override the way objects are printed?\n",
    "\n",
    "Use the `__str__` and the `__repr__` dunder methods.\n",
    "\n",
    "Here’s an example that demonstrates how an instance from the Person class can be nicely formatted when printed to the console."
   ]
  },
  {
   "cell_type": "code",
   "execution_count": 33,
   "id": "62bd85a4",
   "metadata": {},
   "outputs": [
    {
     "data": {
      "text/plain": [
       "John Doe (30)"
      ]
     },
     "execution_count": 33,
     "metadata": {},
     "output_type": "execute_result"
    }
   ],
   "source": [
    "class Person:\n",
    "    def __init__(self, first_name, last_name, age):\n",
    "        self.first_name = first_name\n",
    "        self.last_name = last_name\n",
    "        self.age = age\n",
    "\n",
    "    def __str__(self):\n",
    "        return f\"{self.first_name} {self.last_name} ({self.age})\"\n",
    "\t\t\t\t\n",
    "    def __repr__(self):\n",
    "        return f\"{self.first_name} {self.last_name} ({self.age})\"\n",
    "\n",
    "person = Person(\"John\", \"Doe\", 30) # thanks to __str__\n",
    "person"
   ]
  },
  {
   "cell_type": "markdown",
   "id": "5c9408bd",
   "metadata": {},
   "source": [
    "### 18. What is the difference between a class method, a static method and an instance method?\n",
    "\n",
    "Let’s begin by writing a (Python 3) class that contains simple examples\n",
    "for all three method types:\n",
    "```\n",
    "class MyClass:\n",
    "\n",
    "    def method(self):\n",
    "        return 'instance method called', self\n",
    "\n",
    "    @classmethod\n",
    "    def classmethod(cls):\n",
    "        return 'class method called', cls\n",
    "\n",
    "    @staticmethod\n",
    "    def staticmethod():\n",
    "        return 'static method called'\n",
    "```\n",
    "\n",
    "**`Instance Methods`**\n",
    "\n",
    "The first method on `MyClass`, called `method`, is a regular instance method. That’s the basic, no-frills method type you’ll use most of the time. You can see the method takes one parameter, self, which points to an instance of MyClass when the method is called. But of course, instance methods can accept more than just one parameter.\n",
    "\n",
    "Through the self parameter, instance methods can freely access attributes and other methods on the same object. This gives them a lot of power when it comes to modifying an object’s state.\n",
    "\n",
    "Not only can they modify object state, instance methods can also access the class itself through the `self.__class__` attribute. This means instance methods can also modify class state.  This makes instance methods powerful in terms of access restrictions—they can freely modify state on the object instance and on the class itself."
   ]
  },
  {
   "cell_type": "markdown",
   "id": "fc822cf1",
   "metadata": {},
   "source": [
    "**`Class Methods`**\n",
    "\n",
    "Let’s compare that to the second method, `MyClass.classmethod`. I marked this method with a [`@classmethod`](https://docs.python.org/3/library/functions.html#classmethod) decorator to flag it as a class method. Instead of accepting a self parameter, class methods take a `cls` parameter that points to the class—and *not* the object instance—when the method is called.\n",
    "\n",
    "Since the class method only has access to this `cls` argument, it can’t modify object instance state. That would require access to self. However, class methods can still modify class state that applies across all instances of the class."
   ]
  },
  {
   "cell_type": "markdown",
   "id": "f28a7af2",
   "metadata": {},
   "source": [
    "`Static Methods`\n",
    "\n",
    "The third method, `MyClass.staticmethod` was marked with a [`@staticmethod6`](https://docs.python.org/3/library/functions.html#staticmethod) decorator to flag it as a static method. \n",
    "\n",
    "This type of method doesn’t take a `self` or a `cls` parameter, although, of course, it can be made to accept an arbitrary number of other parameters.\n",
    "\n",
    "As a result, a static method cannot modify object state or class state.\n",
    "Static methods are restricted in what data they can access—they’re primarily a way to namespace your methods."
   ]
  },
  {
   "cell_type": "markdown",
   "id": "bfbdc69b",
   "metadata": {},
   "source": [
    "`Static Methods`\n",
    "\n",
    "The third method, `MyClass.staticmethod` was marked with a [`@staticmethod6`](https://docs.python.org/3/library/functions.html#staticmethod) decorator to flag it as a static method. \n",
    "\n",
    "This type of method doesn’t take a `self` or a `cls` parameter, although, of course, it can be made to accept an arbitrary number of other parameters.\n",
    "\n",
    "As a result, a static method cannot modify object state or class state.\n",
    "Static methods are restricted in what data they can access—they’re primarily a way to namespace your methods."
   ]
  },
  {
   "cell_type": "code",
   "execution_count": 34,
   "id": "3ef74c4a",
   "metadata": {},
   "outputs": [],
   "source": [
    "# Class\n",
    "\n",
    "class MyClass:\n",
    "\n",
    "    def method(self):\n",
    "        return 'instance method called', self\n",
    "\n",
    "    @classmethod\n",
    "    def classmethod(cls):\n",
    "        return 'class method called', cls\n",
    "\n",
    "    @staticmethod\n",
    "    def staticmethod():\n",
    "        return 'static method called'\n"
   ]
  },
  {
   "cell_type": "markdown",
   "id": "33f9b2c3",
   "metadata": {},
   "source": [
    "Here’s what happens when we call an instance method:"
   ]
  },
  {
   "cell_type": "code",
   "execution_count": 35,
   "id": "86daabdb",
   "metadata": {},
   "outputs": [
    {
     "data": {
      "text/plain": [
       "('instance method called', <__main__.MyClass at 0x217d29a7ca0>)"
      ]
     },
     "execution_count": 35,
     "metadata": {},
     "output_type": "execute_result"
    }
   ],
   "source": [
    "obj = MyClass()\n",
    "obj.method()"
   ]
  },
  {
   "cell_type": "markdown",
   "id": "78b9530c",
   "metadata": {},
   "source": [
    "This confirms that, in this case, the instance method called method has access to the object instance (printed as `<MyClass instance>`) via the self argument.\n",
    "\n",
    "When the method is called, Python replaces the `self` argument with the instance object, `obj`. \n",
    "\n",
    "We could ignore the syntactic sugar provided by the `obj.method()` **dot-call syntax** and pass the instance object manually to get the same result:\n",
    "```\n",
    "MyClass.method(obj)\n",
    "```\n"
   ]
  },
  {
   "cell_type": "code",
   "execution_count": 37,
   "id": "c7e3819e",
   "metadata": {},
   "outputs": [
    {
     "data": {
      "text/plain": [
       "('instance method called', <__main__.MyClass at 0x217d29a7ca0>)"
      ]
     },
     "execution_count": 37,
     "metadata": {},
     "output_type": "execute_result"
    }
   ],
   "source": [
    "MyClass.method(obj)"
   ]
  },
  {
   "cell_type": "code",
   "execution_count": 38,
   "id": "6126eb8d",
   "metadata": {},
   "outputs": [
    {
     "data": {
      "text/plain": [
       "__main__.MyClass"
      ]
     },
     "execution_count": 38,
     "metadata": {},
     "output_type": "execute_result"
    }
   ],
   "source": [
    "type(obj)"
   ]
  },
  {
   "cell_type": "markdown",
   "id": "cb1bedb6",
   "metadata": {},
   "source": [
    "Let’s try out the **class method** next:\n"
   ]
  },
  {
   "cell_type": "code",
   "execution_count": 39,
   "id": "b03a5065",
   "metadata": {},
   "outputs": [
    {
     "data": {
      "text/plain": [
       "('class method called', __main__.MyClass)"
      ]
     },
     "execution_count": 39,
     "metadata": {},
     "output_type": "execute_result"
    }
   ],
   "source": [
    "obj.classmethod()"
   ]
  },
  {
   "cell_type": "markdown",
   "id": "04ff9605",
   "metadata": {},
   "source": [
    "Calling `classmethod()` showed us that it doesn’t have access to the `<MyClass instance>` object, but only to the `<class MyClass>` object, representing the class itself (**everything in Python is an object, even classes themselves**).\n",
    "\n",
    "Notice how Python automatically passes the class as the first argument to the function when we call `MyClass.classmethod()`. Calling a method in Python through the **dot syntax** triggers this behavior. The `self` parameter on instance methods works the same way.\n",
    "\n",
    "Please note that naming these parameters `self` and `cls` is just a convention. You could just as easily name them `the_object` and `the_class` and get the same result. All that matters is that they’re positioned first in the parameter list for that particular method."
   ]
  },
  {
   "cell_type": "markdown",
   "id": "8c765cf8",
   "metadata": {},
   "source": [
    "Time to call the **static method** now:\n"
   ]
  },
  {
   "cell_type": "code",
   "execution_count": 40,
   "id": "5827da18",
   "metadata": {},
   "outputs": [
    {
     "data": {
      "text/plain": [
       "'static method called'"
      ]
     },
     "execution_count": 40,
     "metadata": {},
     "output_type": "execute_result"
    }
   ],
   "source": [
    "obj.staticmethod()"
   ]
  },
  {
   "cell_type": "markdown",
   "id": "e351e416",
   "metadata": {},
   "source": [
    "Did you see how we called `staticmethod()` on the object and were able to do so successfully? Some developers are surprised when they learn that it’s possible to call a static method on an object instance.\n",
    "\n",
    "Behind the scenes, Python simply enforces the access restrictions by\n",
    "not passing in the `self` or the `cls` argument when a static method gets\n",
    "called using the dot syntax\n",
    "\n",
    "This confirms that static methods can neither access the object instance state nor the class state. They work like regular functions but belong to the class’ (and every instance’s) namespace.\n",
    "\n",
    "Now, let’s take a look at what happens when we attempt to call these\n",
    "methods on the class itself, **without creating an object instance** beforehand:"
   ]
  },
  {
   "cell_type": "code",
   "execution_count": 41,
   "id": "46a1579d",
   "metadata": {},
   "outputs": [
    {
     "name": "stdout",
     "output_type": "stream",
     "text": [
      "('class method called', <class '__main__.MyClass'>)\n",
      "static method called\n"
     ]
    },
    {
     "ename": "TypeError",
     "evalue": "MyClass.method() missing 1 required positional argument: 'self'",
     "output_type": "error",
     "traceback": [
      "\u001b[1;31m---------------------------------------------------------------------------\u001b[0m",
      "\u001b[1;31mTypeError\u001b[0m                                 Traceback (most recent call last)",
      "Input \u001b[1;32mIn [41]\u001b[0m, in \u001b[0;36m<cell line: 6>\u001b[1;34m()\u001b[0m\n\u001b[0;32m      4\u001b[0m \u001b[38;5;28mprint\u001b[39m(MyClass\u001b[38;5;241m.\u001b[39mstaticmethod())\n\u001b[0;32m      5\u001b[0m \u001b[38;5;66;03m#Instance Method\u001b[39;00m\n\u001b[1;32m----> 6\u001b[0m \u001b[38;5;28mprint\u001b[39m(\u001b[43mMyClass\u001b[49m\u001b[38;5;241;43m.\u001b[39;49m\u001b[43mmethod\u001b[49m\u001b[43m(\u001b[49m\u001b[43m)\u001b[49m)\n",
      "\u001b[1;31mTypeError\u001b[0m: MyClass.method() missing 1 required positional argument: 'self'"
     ]
    }
   ],
   "source": [
    "# Class Method\n",
    "print(MyClass.classmethod())\n",
    "# Static method\n",
    "print(MyClass.staticmethod())\n",
    "#Instance Method\n",
    "print(MyClass.method())"
   ]
  },
  {
   "cell_type": "markdown",
   "id": "ebce59d1",
   "metadata": {},
   "source": [
    "We were able to call `classmethod()` and `staticmethod(`) just fine, but attempting to call the instance method `method()` failed with a `TypeError`.\n",
    "\n",
    "This is to be expected. This time we didn’t create an object instance and tried calling an instance function directly on the class blueprint itself. This means there is no way for Python to populate the `self` argument and therefore the call fails with a `TypeError exception`.\n",
    "\n",
    "This should make the distinction between these three method types a\n",
    "little more clear"
   ]
  },
  {
   "cell_type": "markdown",
   "id": "adc4033c",
   "metadata": {},
   "source": [
    "**Key Takeaways**\n",
    "* Instance methods need a class instance and can access the instance through `self`.\n",
    "* Class methods don’t need a class instance. They can’t access the\n",
    "instance (`self`) but they have access to the class itself via `cls`.\n",
    "* Static methods don’t have access to `cls or self`. They work like\n",
    "regular functions but belong to the class’ namespace.\n",
    "* Static and class methods communicate and (to a certain degree)\n",
    "enforce developer intent about class design. This can have definite maintenance benefits.\n"
   ]
  },
  {
   "cell_type": "code",
   "execution_count": null,
   "id": "f6ee7058",
   "metadata": {},
   "outputs": [],
   "source": []
  }
 ],
 "metadata": {
  "kernelspec": {
   "display_name": "Python 3 (ipykernel)",
   "language": "python",
   "name": "python3"
  },
  "language_info": {
   "codemirror_mode": {
    "name": "ipython",
    "version": 3
   },
   "file_extension": ".py",
   "mimetype": "text/x-python",
   "name": "python",
   "nbconvert_exporter": "python",
   "pygments_lexer": "ipython3",
   "version": "3.10.2"
  }
 },
 "nbformat": 4,
 "nbformat_minor": 5
}
