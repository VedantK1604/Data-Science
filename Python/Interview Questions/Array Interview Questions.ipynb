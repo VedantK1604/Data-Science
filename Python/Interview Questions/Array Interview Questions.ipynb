{
 "cells": [
  {
   "cell_type": "markdown",
   "id": "0c909187",
   "metadata": {},
   "source": [
    "## Points to remember\n",
    "\n",
    "- Codes asked are relatively easier in comparison to SDE roles\n",
    "- Pythonic syntax is preferred in most companies\n",
    "- Focus is on optimized code\n",
    "- Start with the simplest solution and then improve\n",
    "- A lot of questions are repeated so mugging up the approaches help\n",
    "- Build intuition using Python Tutor"
   ]
  },
  {
   "cell_type": "code",
   "execution_count": 13,
   "id": "61c9b29f",
   "metadata": {},
   "outputs": [
    {
     "name": "stdout",
     "output_type": "stream",
     "text": [
      "22\n",
      "[4, 7, -1, 6, -11, 14, 3]\n"
     ]
    }
   ],
   "source": [
    "# 10. Maximum sum subarray\n",
    "# -> Approach 1:\n",
    "\n",
    "L = [-2,4,7,-1,6,-11,14,3,-1,-6]\n",
    "d = {}\n",
    "\n",
    "for i in range(0,len(L)):\n",
    "    subarray = []\n",
    "    for j in range(i,len(L)):\n",
    "        subarray.append(L[j])\n",
    "        #print(subarray, sum(subarray))\n",
    "        d[sum(subarray)] = subarray[:]\n",
    "\n",
    "max_value = max(d.keys())\n",
    "print(max_value)\n",
    "\n",
    "for i in d:\n",
    "    if i == max_value:\n",
    "        print(d[i])\n"
   ]
  },
  {
   "cell_type": "code",
   "execution_count": 20,
   "id": "1345ec50",
   "metadata": {},
   "outputs": [
    {
     "name": "stdout",
     "output_type": "stream",
     "text": [
      "22 [4, 7, -1, 6, -11, 14, 3]\n"
     ]
    }
   ],
   "source": [
    "# -> Approach 2: Kadane's Algorithm\n",
    "\n",
    "L = [-2,4,7,-1,6,-11,14,3,-1,-6]\n",
    "\n",
    "curr_sum = 0\n",
    "curr_seq = []\n",
    "best_sum = L[0]\n",
    "best_seq = []\n",
    "\n",
    "for i in L:\n",
    "    if curr_sum + i > i:\n",
    "        curr_sum = curr_sum + i\n",
    "        curr_seq.append(i)\n",
    "    else:\n",
    "        curr_sum = i\n",
    "        curr_seq.clear()\n",
    "        curr_seq.append(i)\n",
    "    \n",
    "    if best_sum < curr_sum:\n",
    "        best_sum = curr_sum\n",
    "        best_seq = curr_seq[:]\n",
    "        \n",
    "print(best_sum, best_seq)\n",
    "    "
   ]
  },
  {
   "cell_type": "code",
   "execution_count": 22,
   "id": "db6be2fd",
   "metadata": {},
   "outputs": [
    {
     "name": "stdout",
     "output_type": "stream",
     "text": [
      "5\n"
     ]
    }
   ],
   "source": [
    "# 9. Find element with left side smaller/right side greater in an array\n",
    "\n",
    "L = [3,1,2,5,8,7,9]\n",
    "\n",
    "for i in range(1,len(L)-1):\n",
    "    \n",
    "    flag = True\n",
    "    \n",
    "    for j in range(0,i):\n",
    "        if L[j] > L[i]:\n",
    "            flag = False\n",
    "        \n",
    "    for k in range(i+1,len(L)):\n",
    "        if L[k] < L[i]:\n",
    "            flag = False\n",
    "            \n",
    "    if flag:\n",
    "        print(L[i])\n"
   ]
  },
  {
   "cell_type": "code",
   "execution_count": 23,
   "id": "0456e7df",
   "metadata": {},
   "outputs": [
    {
     "name": "stdout",
     "output_type": "stream",
     "text": [
      "5\n"
     ]
    }
   ],
   "source": [
    "# Approach 2: \n",
    "L = [3,1,2,5,8,7,9]\n",
    "\n",
    "for i in range(1,len(L)-1):\n",
    "  if max(L[:i]) < L[i] < min(L[i+1:]):\n",
    "    print(L[i])"
   ]
  },
  {
   "cell_type": "code",
   "execution_count": 24,
   "id": "47f58583",
   "metadata": {},
   "outputs": [
    {
     "name": "stdout",
     "output_type": "stream",
     "text": [
      "5\n"
     ]
    }
   ],
   "source": [
    "L = [3,1,2,5,8,7,9]\n",
    "\n",
    "max_arr = []\n",
    "min_arr = []\n",
    "\n",
    "max_val = L[0]\n",
    "min_val = L[-1]\n",
    "\n",
    "for i in L:\n",
    "  if i>max_val:\n",
    "    max_val = i\n",
    "  max_arr.append(max_val)\n",
    "\n",
    "for i in range(len(L)-1,-1,-1):\n",
    "  if L[i] < min_val:\n",
    "    min_val = L[i]\n",
    "  \n",
    "  min_arr.insert(0,min_val)\n",
    "\n",
    "\n",
    "for i in range(1,len(L)-1):\n",
    "  if max_arr[i-1] < L[i] < min_arr[i+1]:\n",
    "    print(L[i])"
   ]
  },
  {
   "cell_type": "code",
   "execution_count": 25,
   "id": "ee409f24",
   "metadata": {},
   "outputs": [
    {
     "name": "stdout",
     "output_type": "stream",
     "text": [
      "[7, 9]\n"
     ]
    }
   ],
   "source": [
    "# 8. Find continous subarray with a given sum(given non-negative numbers)\n",
    "# return the starting and ending index of the subarray\n",
    "# return 1st subarray in case of multiple\n",
    "\n",
    "L = [1,22,13,7,9,11,10]\n",
    "S = 16\n",
    "\n",
    "for i in range(0,len(L)):\n",
    "  subarray = []\n",
    "  for j in range(i,len(L)):\n",
    "    subarray.append(L[j])\n",
    "    if sum(subarray) == S:\n",
    "      print(subarray)\n"
   ]
  },
  {
   "cell_type": "code",
   "execution_count": 26,
   "id": "d43473ce",
   "metadata": {},
   "outputs": [
    {
     "name": "stdout",
     "output_type": "stream",
     "text": [
      "1 2\n"
     ]
    }
   ],
   "source": [
    "L = [1,22,13,7,9,11,10]\n",
    "\n",
    "S = 35\n",
    "\n",
    "d = {}\n",
    "curr_sum = 0\n",
    "\n",
    "for i in range(len(L)):\n",
    "  curr_sum = curr_sum + L[i]\n",
    "\n",
    "  if (curr_sum - S) in d:\n",
    "    print(d[curr_sum - S]+1,i)\n",
    "    break\n",
    "\n",
    "  d[curr_sum] = i\n",
    "  \n",
    "\n",
    "\n"
   ]
  },
  {
   "cell_type": "code",
   "execution_count": 27,
   "id": "4451d1a5",
   "metadata": {},
   "outputs": [
    {
     "name": "stdout",
     "output_type": "stream",
     "text": [
      "3\n",
      "8\n"
     ]
    }
   ],
   "source": [
    "# 7. Find intersection of 2 sorted arrays\n",
    "\n",
    "a = [1,2,3,4,5,8]\n",
    "b = [3,6,7,8]\n",
    "\n",
    "for i in a:\n",
    "  if i in b:\n",
    "    print(i)"
   ]
  },
  {
   "cell_type": "code",
   "execution_count": 28,
   "id": "863629d9",
   "metadata": {},
   "outputs": [
    {
     "name": "stdout",
     "output_type": "stream",
     "text": [
      "3\n",
      "8\n"
     ]
    }
   ],
   "source": [
    "a = [1,2,3,4,5,8]\n",
    "b = [3,6,7,8]\n",
    "\n",
    "i=j=0\n",
    "\n",
    "while i<len(a) and j<len(b):\n",
    "  if a[i] == b[j]:\n",
    "    print(a[i])\n",
    "    i+=1\n",
    "    j+=1\n",
    "  elif a[i] > b[j]:\n",
    "    j+=1\n",
    "  else:\n",
    "    i+=1"
   ]
  },
  {
   "cell_type": "code",
   "execution_count": 29,
   "id": "f0d3133c",
   "metadata": {},
   "outputs": [
    {
     "name": "stdout",
     "output_type": "stream",
     "text": [
      "[3, 4, 5, 1, 2]\n"
     ]
    }
   ],
   "source": [
    "# 6. Rotate array to left d items\n",
    "\n",
    "L = [1,2,3,4,5]\n",
    "rotate = 2\n",
    "\n",
    "for i in range(rotate):\n",
    "  temp = L[0]\n",
    "  for j in range(0,len(L)-1):\n",
    "    L[j] = L[j+1]\n",
    "  L[len(L)-1] = temp\n",
    "\n",
    "print(L)"
   ]
  },
  {
   "cell_type": "code",
   "execution_count": 30,
   "id": "5a13c546",
   "metadata": {},
   "outputs": [
    {
     "name": "stdout",
     "output_type": "stream",
     "text": [
      "1\n",
      "4\n",
      "5\n"
     ]
    }
   ],
   "source": [
    "# 5. Find duplicates in an array\n",
    "L = [1,1,2,3,4,4,5,5]\n",
    "\n",
    "d = {}\n",
    "\n",
    "for i in L:\n",
    "  if i in d:\n",
    "    d[i] = d[i] + 1\n",
    "  else:\n",
    "    d[i] = 1\n",
    "\n",
    "for i in d:\n",
    "  if d[i] > 1:\n",
    "    print(i)"
   ]
  },
  {
   "cell_type": "code",
   "execution_count": 31,
   "id": "cec8db94",
   "metadata": {},
   "outputs": [
    {
     "name": "stdout",
     "output_type": "stream",
     "text": [
      "1\n"
     ]
    }
   ],
   "source": [
    "# 4. Find the first element to occur k times in an array\n",
    "\n",
    "L = [1,1,2,3,4,4,5,5]\n",
    "\n",
    "k = 2\n",
    "\n",
    "d = {}\n",
    "\n",
    "for i in L:\n",
    "  if i in d:\n",
    "    d[i] = d[i] + 1\n",
    "  else:\n",
    "    d[i] = 1\n",
    "\n",
    "for i in d:\n",
    "  if d[i] == k:\n",
    "    print(i)\n",
    "    break"
   ]
  },
  {
   "cell_type": "code",
   "execution_count": 32,
   "id": "9db47ff3",
   "metadata": {},
   "outputs": [
    {
     "name": "stdout",
     "output_type": "stream",
     "text": [
      "54\n"
     ]
    }
   ],
   "source": [
    "# 3. Find Min/Max in a given array\n",
    "\n",
    "L = [21,1,34,23,54,11,10]\n",
    "\n",
    "max_val = L[0]\n",
    "\n",
    "for i in L:\n",
    "  if i > max_val:\n",
    "    max_val = i\n",
    "\n",
    "print(max_val)"
   ]
  },
  {
   "cell_type": "code",
   "execution_count": 33,
   "id": "ad25ec52",
   "metadata": {},
   "outputs": [
    {
     "name": "stdout",
     "output_type": "stream",
     "text": [
      "sorted\n"
     ]
    }
   ],
   "source": [
    "# 2. Check if an array is sorted\n",
    "L = [1,2,3,4,5]\n",
    "\n",
    "flag = True\n",
    "\n",
    "for i in range(0,len(L)-1):\n",
    "  if L[i] > L[i+1]:\n",
    "    flag = False\n",
    "\n",
    "if flag:\n",
    "  print('sorted')\n",
    "else:\n",
    "  print('not sorted')\n"
   ]
  },
  {
   "cell_type": "code",
   "execution_count": 34,
   "id": "a5562ff9",
   "metadata": {},
   "outputs": [
    {
     "name": "stdout",
     "output_type": "stream",
     "text": [
      "23\n"
     ]
    }
   ],
   "source": [
    "# 1. Find the kth largest/smallest item from a list\n",
    "\n",
    "L = [12,23,1,4,56,34,22,3]\n",
    "k=3\n",
    "\n",
    "L.sort(reverse=True)\n",
    "print(L[k-1])\n"
   ]
  },
  {
   "cell_type": "code",
   "execution_count": null,
   "id": "9ec44368",
   "metadata": {},
   "outputs": [],
   "source": []
  }
 ],
 "metadata": {
  "kernelspec": {
   "display_name": "Python 3 (ipykernel)",
   "language": "python",
   "name": "python3"
  },
  "language_info": {
   "codemirror_mode": {
    "name": "ipython",
    "version": 3
   },
   "file_extension": ".py",
   "mimetype": "text/x-python",
   "name": "python",
   "nbconvert_exporter": "python",
   "pygments_lexer": "ipython3",
   "version": "3.10.2"
  }
 },
 "nbformat": 4,
 "nbformat_minor": 5
}
