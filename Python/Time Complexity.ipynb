{
 "cells": [
  {
   "cell_type": "markdown",
   "id": "5ccc7450",
   "metadata": {},
   "source": [
    "### Efficiency of a program:\n",
    "\n",
    "- Efficiency of a program is decided on the basis of two factors \n",
    "    1. Time Complexity\n",
    "    2. Space Complexity"
   ]
  },
  {
   "cell_type": "markdown",
   "id": "bd3fcf5e",
   "metadata": {},
   "source": [
    "### Time Compexity:\n",
    "\n",
    "- It means how much time a program is taking to execute.\n",
    "- Program with less time complexity is more efficient."
   ]
  },
  {
   "cell_type": "markdown",
   "id": "f5606795",
   "metadata": {},
   "source": [
    "### Space Complexity:\n",
    "\n",
    "- How much space a program is utilizing  in a memory."
   ]
  },
  {
   "cell_type": "markdown",
   "id": "9f86d8ca",
   "metadata": {},
   "source": [
    "### Techniques to measure Time Complexity:\n",
    "\n",
    "1. Measuring time to execute\n",
    "2. Counting operations involved\n",
    "3. Abstract notion of order of growth"
   ]
  },
  {
   "cell_type": "markdown",
   "id": "9ebd45a1",
   "metadata": {},
   "source": [
    "## Measuring time to execute:\n",
    "\n",
    "- In this method, we just measure the time by time module."
   ]
  },
  {
   "cell_type": "code",
   "execution_count": 3,
   "id": "348377c5",
   "metadata": {
    "scrolled": true
   },
   "outputs": [
    {
     "name": "stdout",
     "output_type": "stream",
     "text": [
      "1\n",
      "2\n",
      "3\n",
      "4\n",
      "5\n",
      "6\n",
      "7\n",
      "8\n",
      "9\n",
      "10\n",
      "11\n",
      "12\n",
      "13\n",
      "14\n",
      "15\n",
      "16\n",
      "17\n",
      "18\n",
      "19\n",
      "20\n",
      "21\n",
      "22\n",
      "23\n",
      "24\n",
      "25\n",
      "26\n",
      "27\n",
      "28\n",
      "29\n",
      "30\n",
      "31\n",
      "32\n",
      "33\n",
      "34\n",
      "35\n",
      "36\n",
      "37\n",
      "38\n",
      "39\n",
      "40\n",
      "41\n",
      "42\n",
      "43\n",
      "44\n",
      "45\n",
      "46\n",
      "47\n",
      "48\n",
      "49\n",
      "50\n",
      "51\n",
      "52\n",
      "53\n",
      "54\n",
      "55\n",
      "56\n",
      "57\n",
      "58\n",
      "59\n",
      "60\n",
      "61\n",
      "62\n",
      "63\n",
      "64\n",
      "65\n",
      "66\n",
      "67\n",
      "68\n",
      "69\n",
      "70\n",
      "71\n",
      "72\n",
      "73\n",
      "74\n",
      "75\n",
      "76\n",
      "77\n",
      "78\n",
      "79\n",
      "80\n",
      "81\n",
      "82\n",
      "83\n",
      "84\n",
      "85\n",
      "86\n",
      "87\n",
      "88\n",
      "89\n",
      "90\n",
      "91\n",
      "92\n",
      "93\n",
      "94\n",
      "95\n",
      "96\n",
      "97\n",
      "98\n",
      "99\n",
      "0.0\n"
     ]
    }
   ],
   "source": [
    "import time\n",
    "\n",
    "start = time.time()\n",
    "for i in range(1, 100):\n",
    "    print(i)\n",
    "end = time.time()\n",
    "print(start-end)"
   ]
  },
  {
   "cell_type": "code",
   "execution_count": 4,
   "id": "f8a7ba7d",
   "metadata": {},
   "outputs": [
    {
     "name": "stdout",
     "output_type": "stream",
     "text": [
      "enter the number345\n",
      "345\n"
     ]
    }
   ],
   "source": [
    "number = int(input('enter the number'))\n",
    "\n",
    "digits = '0123456789'\n",
    "result = ''\n",
    "while number != 0:\n",
    "  result = digits[number % 10] + result\n",
    "  number = number//10\n",
    "\n",
    "print(result)\n",
    "\n",
    "#In this example,initially the loop will be 3 times if we increase the loop 10 times eg if for 345 the loop will be 3 time and \n",
    "# if we increase it with 10 time the number become 3450 and loop will be 4 times now.\n",
    "#here the increament in time is 1 3->4.\n",
    "# and we know the increase in time with 1 is the characterisitic of logn.\n",
    "# Therefore, complexity = O(log(n))"
   ]
  },
  {
   "cell_type": "code",
   "execution_count": null,
   "id": "9b2a4921",
   "metadata": {},
   "outputs": [],
   "source": [
    "L = [1,2,3,4]\n",
    "\n",
    "sum = 0\n",
    "for i in L:\n",
    "  sum = sum + i\n",
    "\n",
    "product = 1\n",
    "for i in L:\n",
    "  product = product*i\n",
    "\n",
    "print(sum,product)\n",
    "\n",
    "# O(n+n) -> O(2n) -> O(n)"
   ]
  },
  {
   "cell_type": "code",
   "execution_count": null,
   "id": "32c5a98d",
   "metadata": {},
   "outputs": [],
   "source": [
    "A = [1,2,3,4]\n",
    "B = [5,6,7,8]\n",
    "for i in A:\n",
    "  for j in B:\n",
    "    print(i,j)\n",
    "\n",
    "# O(n*n) -> O(n^2)"
   ]
  },
  {
   "cell_type": "code",
   "execution_count": null,
   "id": "ba0a2a66",
   "metadata": {},
   "outputs": [],
   "source": [
    "A = [1,2,3,4]\n",
    "B = [5,6,7,8]\n",
    "\n",
    "for i in A:\n",
    "  for j in B:\n",
    "    for k in range(1000000):\n",
    "      print(i,j)\n",
    "\n",
    "#o(n)\n",
    "#o(n)\n",
    "#o(1000000)\n",
    "#o(n)*o(n)*o(1000000) -> on(n^2)"
   ]
  },
  {
   "cell_type": "code",
   "execution_count": null,
   "id": "3bea2571",
   "metadata": {},
   "outputs": [],
   "source": [
    "L = [1,2,3,4,5]\n",
    "\n",
    "for i in range(0,len(L)//2):\n",
    "  other = len(L) - i -1\n",
    "  temp = L[i]\n",
    "  L[i] = L[other]\n",
    "  L[other] = temp\n",
    "\n",
    "print(L)\n",
    "\n",
    "# 4*o(n/2) -> o(n)"
   ]
  },
  {
   "cell_type": "code",
   "execution_count": null,
   "id": "13a3dc33",
   "metadata": {},
   "outputs": [],
   "source": [
    "n = 10\n",
    "k = 0;\n",
    "for i in range(n//2,n):\n",
    "  for j in range(2,n,pow(2,j)):\n",
    "        k = k + n / 2;\n",
    "\n",
    "print(k)\n",
    "\n"
   ]
  }
 ],
 "metadata": {
  "kernelspec": {
   "display_name": "Python 3 (ipykernel)",
   "language": "python",
   "name": "python3"
  },
  "language_info": {
   "codemirror_mode": {
    "name": "ipython",
    "version": 3
   },
   "file_extension": ".py",
   "mimetype": "text/x-python",
   "name": "python",
   "nbconvert_exporter": "python",
   "pygments_lexer": "ipython3",
   "version": "3.10.2"
  }
 },
 "nbformat": 4,
 "nbformat_minor": 5
}
