{
 "cells": [
  {
   "cell_type": "markdown",
   "id": "e67449a9",
   "metadata": {},
   "source": [
    "Q1:Count number of instances of a class created in Python?\n",
    "\n",
    "Example: Say Car is any class.\n",
    "\n",
    "maruti = Car()\n",
    "\n",
    "bmw = Car()\n",
    "\n",
    "honda = Car()\n",
    "\n",
    "So after creating above instances. We want to count how many instances are created of Car class.\n",
    "\n",
    "For above example no of instances = 3.\n",
    "\n",
    "Write a program for above problem."
   ]
  },
  {
   "cell_type": "code",
   "execution_count": 2,
   "id": "470a8867",
   "metadata": {},
   "outputs": [
    {
     "name": "stdout",
     "output_type": "stream",
     "text": [
      "3\n"
     ]
    }
   ],
   "source": [
    "class Car:\n",
    "    \n",
    "    __count = 0\n",
    "    \n",
    "    def __init__(self):\n",
    "        Car.__count += 1\n",
    "    \n",
    "    def get_count():\n",
    "        return Car.__count\n",
    "    \n",
    "maruti = Car()\n",
    "bmw = Car()\n",
    "honda = Car()\n",
    "\n",
    "print(Car.get_count())"
   ]
  },
  {
   "cell_type": "markdown",
   "id": "acb3a136",
   "metadata": {},
   "source": [
    "Q-2: Create a deck of cards class. Internally, the deck of cards should use another class, a card class. Your requirements are:\n",
    "\n",
    "1. The Deck class should have a deal method to deal a single card from the deck\n",
    "2. After a card is dealt, it is removed from the deck.\n",
    "3. There should be a shuffle method which makes sure the deck of cards has all 52 cards and then rearranges them randomly.\n",
    "4. The Card class should have a suit (Hearts, Diamonds, Clubs, Spades) and a value (A,2,3,4,5,6,7,8,9,10,J,Q,K)\n",
    "\n",
    "Deck Class\n",
    "\n",
    "1. It is class of all possible cards in a deck. Total 52 cards.\n",
    "2. Methods - deal() it will take out one card from the deck of cards.\n",
    "3. Deck of cards should get shuffeled while creating the deck object.\n",
    "4. no of cards remaining in deck - (number) should dsiplay on printing any deck object.\n",
    "    \n",
    "Card class\n",
    "\n",
    "1. It is a class of card\n",
    "2. Atrributes - suit and value\n",
    "3. (suit) of (value) should dsiplay on printing any card object."
   ]
  },
  {
   "cell_type": "code",
   "execution_count": null,
   "id": "fe7a0821",
   "metadata": {},
   "outputs": [],
   "source": [
    "import random\n",
    "\n",
    "class Cards:\n",
    "    \n",
    "    def __init__(self, suit, value):\n",
    "        self.suit = suit\n",
    "        self.value = value\n",
    "        \n",
    "class Deck:\n",
    "\n",
    "    def __init__(self,):\n",
    "        suit = ['Hearts', 'Diamonds', 'Clubs', 'Spades']\n",
    "        one_set = ['A',2,3,4,5,6,7,8,9,10,'J','Q','K']*4\n",
    "        deck_of_cards = one_set\n",
    "    \n",
    "    def deal(self):\n",
    "        "
   ]
  }
 ],
 "metadata": {
  "kernelspec": {
   "display_name": "Python 3 (ipykernel)",
   "language": "python",
   "name": "python3"
  },
  "language_info": {
   "codemirror_mode": {
    "name": "ipython",
    "version": 3
   },
   "file_extension": ".py",
   "mimetype": "text/x-python",
   "name": "python",
   "nbconvert_exporter": "python",
   "pygments_lexer": "ipython3",
   "version": "3.10.9"
  }
 },
 "nbformat": 4,
 "nbformat_minor": 5
}
