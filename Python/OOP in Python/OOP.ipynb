{
 "cells": [
  {
   "cell_type": "code",
   "execution_count": 1,
   "id": "2ff113af",
   "metadata": {},
   "outputs": [],
   "source": [
    "#Everything in python is oop object.\n",
    "#with the help of oop, a programmer can create its own data type."
   ]
  },
  {
   "cell_type": "code",
   "execution_count": 2,
   "id": "693174cb",
   "metadata": {},
   "outputs": [],
   "source": [
    "L = [1,2,3] #class list and 'L' is an object of class 'List'."
   ]
  },
  {
   "cell_type": "code",
   "execution_count": 3,
   "id": "2a79507e",
   "metadata": {},
   "outputs": [
    {
     "name": "stdout",
     "output_type": "stream",
     "text": [
      "<class 'list'>\n"
     ]
    }
   ],
   "source": [
    "print(type(L))"
   ]
  },
  {
   "cell_type": "markdown",
   "id": "da3dd680",
   "metadata": {},
   "source": [
    "# Class and Object"
   ]
  },
  {
   "cell_type": "markdown",
   "id": "8dba9fe6",
   "metadata": {},
   "source": [
    "1. Data or Property\n",
    "2. Functions/Methods and behaviors\n",
    "\n",
    "-> Object is an instance of class.\n",
    "-> object_name = Class_name() (object created)\n",
    "    Eg. WagorR = Car()"
   ]
  },
  {
   "cell_type": "code",
   "execution_count": 4,
   "id": "d01dff6d",
   "metadata": {},
   "outputs": [
    {
     "name": "stdout",
     "output_type": "stream",
     "text": [
      "[]\n",
      "\n"
     ]
    }
   ],
   "source": [
    "L = list()\n",
    "#'L' is an object 'list()' is a class.\n",
    "print(L)\n",
    "s = str()\n",
    "#'s' is an object 'str()' is a class.\n",
    "print(s)"
   ]
  },
  {
   "cell_type": "code",
   "execution_count": 5,
   "id": "40113821",
   "metadata": {},
   "outputs": [],
   "source": [
    "# object Literal.\n",
    "L = [1,2,3]"
   ]
  },
  {
   "cell_type": "markdown",
   "id": "252b8c92",
   "metadata": {},
   "source": [
    "# Code Bank Application using OOP"
   ]
  },
  {
   "cell_type": "code",
   "execution_count": 6,
   "id": "cbcf3c57",
   "metadata": {},
   "outputs": [],
   "source": [
    "#creating a class.\n",
    "#This are the user defined class and built in classes are like list,string,tuple,etc..\n",
    "# Rule 1:we have to create any type of variable are declared inside this 'init' function or constructor\n",
    "# Rule 2:We have to add 'self' as a prefix while declaring a variable.\n",
    "\n",
    "class Atm:\n",
    "    #data and functions/methods\n",
    "    \n",
    "    #Constructor(Special Function.): This function called automatically whenever the object is created for this class. WE don't\n",
    "    # need to call this function explicitly.\n",
    "    def __init__(self):\n",
    "        \n",
    "        self.pin = ''\n",
    "        self.balance = ''\n",
    "        print(\"I am Executed.\")\n",
    "        self.menu()\n",
    "        \n",
    "    #Creating a function menu()\n",
    "    def menu(self):\n",
    "        user_input = input(\"\"\"\n",
    "        Hi! How can I help you?\n",
    "        1. Press 1 to create pin.\n",
    "        2. Press 2 to change pin.\n",
    "        3. Press 3 to check balance.\n",
    "        4. Press 4 to withdraw.\n",
    "        5. Press Anything to exit.\n",
    "        \"\"\")\n",
    "        \n",
    "        if user_input == '1':\n",
    "            #create pin\n",
    "            self.create_pin()\n",
    "            \n",
    "        elif user_input == '2':\n",
    "            #change pin\n",
    "            self.change_pin()\n",
    "            \n",
    "        elif user_input == '3':\n",
    "            #check balance\n",
    "            self.check_balance()\n",
    "            \n",
    "        elif user_input == '4':\n",
    "            #withdraw\n",
    "            self.withdraw()\n",
    "        \n",
    "        else:\n",
    "            #exit\n",
    "            pass\n",
    "            \n",
    "    def create_pin(self):\n",
    "        user_pin = input(\"Enter your pin:\")\n",
    "        self.pin = user_pin\n",
    "        \n",
    "        user_balance = int(input(\"Enter your balance:\"))\n",
    "        self.balance = user_balance\n",
    "        \n",
    "        print(\"Pin created successfully.\")\n",
    "        self.menu()\n",
    "        \n",
    "    def change_pin(self):\n",
    "        old_pin = input(\"Enter Old pin:\")\n",
    "        \n",
    "        if old_pin == self.pin:\n",
    "            #let him change the pin.\n",
    "            new_pin = input(\"Enter new pin\")\n",
    "            self.pin = new_pin\n",
    "            print(\"Pin changed successfully.\")\n",
    "            self.menu()\n",
    "        else:\n",
    "            print(\"hum pe to nao bhai..\")\n",
    "            self.menu()\n",
    "    \n",
    "    def check_balance(self):\n",
    "        user_pin = input(\"Enter pin:\")\n",
    "        \n",
    "        if user_pin == self.pin:\n",
    "            print(\"Your balance is \",self.balance)\n",
    "            self.menu()\n",
    "        else:\n",
    "            print(\"hum pe to nao bhai..\")\n",
    "            self.menu()\n",
    "            \n",
    "    def withdraw(self):\n",
    "        user_pin = input(\"Enter pin:\")\n",
    "        if user_pin == self.pin:\n",
    "            #withdraw\n",
    "            amount = int(input(\"Enter the amount.:\"))\n",
    "            if amount <= self.balance:\n",
    "                self.balance = self.balance - amount\n",
    "                print(\"Withdrawl Successfull.Balance is \", self.balance)\n",
    "            else:\n",
    "                print(\"hum pe to nao bhai..\")\n",
    "        else:\n",
    "            print(\"hum pe to nao bhai..\")\n",
    "        self.menu()"
   ]
  },
  {
   "cell_type": "code",
   "execution_count": 7,
   "id": "d708d940",
   "metadata": {},
   "outputs": [
    {
     "name": "stdout",
     "output_type": "stream",
     "text": [
      "\n",
      "        Hi! How can I help you?\n",
      "        1. Press 1 to create pin.\n",
      "        2. Press 2 to change pin.\n",
      "        3. Press 3 to check balance.\n",
      "        4. Press 4 to withdraw.\n",
      "        5. Press Anything to exit.\n",
      "        1\n",
      "Enter your pin:1234\n",
      "Enter your balance:10000\n",
      "Pin created successfully.\n",
      "\n",
      "        Hi! How can I help you?\n",
      "        1. Press 1 to create pin.\n",
      "        2. Press 2 to change pin.\n",
      "        3. Press 3 to check balance.\n",
      "        4. Press 4 to withdraw.\n",
      "        5. Press Anything to exit.\n",
      "        9\n"
     ]
    }
   ],
   "source": [
    "#To execute a class we have to create an object for a class otherwise it will not be excecuted.\n",
    "#Now, creating an object of class 'Atm'\n",
    "obj = Atm()"
   ]
  },
  {
   "cell_type": "code",
   "execution_count": 8,
   "id": "68620fc2",
   "metadata": {},
   "outputs": [
    {
     "name": "stdout",
     "output_type": "stream",
     "text": [
      "I am Executed.\n",
      "\n",
      "        Hi! How can I help you?\n",
      "        1. Press 1 to create pin.\n",
      "        2. Press 2 to change pin.\n",
      "        3. Press 3 to check balance.\n",
      "        4. Press 4 to withdraw.\n",
      "        5. Press Anything to exit.\n",
      "        9\n"
     ]
    }
   ],
   "source": [
    "#creating an example for constructor.\n",
    "obj2 = Atm()"
   ]
  },
  {
   "cell_type": "code",
   "execution_count": 9,
   "id": "9d13a132",
   "metadata": {},
   "outputs": [
    {
     "name": "stdout",
     "output_type": "stream",
     "text": [
      "<class '__main__.Atm'>\n"
     ]
    }
   ],
   "source": [
    "#object of a class atm.\n",
    "#Now we can access all the variable or methods that we created inside the class 'atm'(pin, balance).\n",
    "print(type(obj))"
   ]
  },
  {
   "cell_type": "markdown",
   "id": "3eccaab8",
   "metadata": {},
   "source": [
    "# Method vs Function\n",
    "\n",
    "1. In oop, When we make a function into a class we call it as a 'Method', or outside a class is simply called as a 'function'."
   ]
  },
  {
   "cell_type": "code",
   "execution_count": 10,
   "id": "5bf410bb",
   "metadata": {},
   "outputs": [],
   "source": [
    "L = [1,2,3]\n",
    "len(L)     #function because it is outside the class\n",
    "L.append(4) #Method because it is inside the class."
   ]
  },
  {
   "cell_type": "markdown",
   "id": "e1e54456",
   "metadata": {},
   "source": [
    "# Magic Methods\n",
    "\n",
    "1. Magic methods are the special kind of methods.\n",
    "2. They are shown as __method_name__().\n",
    "3. Eg. __init__(self) called as constructor.\n",
    "4. By using magic methods, we can create our own data type.\n",
    "5. This methods get automatically called whenever an object is called.\n",
    "6. This methods are used to write configuration related code(connection of database, networking, etc.)\n",
    "7. Or can say the functionality which can not be given to the user or the control of the program does not given to the user, it runs automatically when need occurs.\n",
    "\n",
    "Note: Learn about __Destructor__."
   ]
  },
  {
   "cell_type": "markdown",
   "id": "37677e5e",
   "metadata": {},
   "source": [
    "# Self\n",
    "\n",
    "1. The first golden rule of oop is that, only object of that class can access the data/attributes/methods.\n",
    "2. We can not have an access to use a function inside a class with another function.\n",
    "3. To overcome this problem, we use the default parameter 'self'.\n",
    "4. We know that, everything in a python is an object.Therefore 'self' is also an object playing the role of an object created outside of a class."
   ]
  },
  {
   "cell_type": "markdown",
   "id": "db533499",
   "metadata": {},
   "source": [
    "# Fraction Class\n",
    "\n",
    "Creating a data type 'fraction'.\n",
    "It simply return the output in the form of fraction (x/y)."
   ]
  },
  {
   "cell_type": "code",
   "execution_count": 11,
   "id": "83d81ffc",
   "metadata": {},
   "outputs": [],
   "source": [
    "class Fraction:\n",
    "    \n",
    "    #parameterized constructor: takes parameter.\n",
    "    def __init__(self,x,y):\n",
    "        self.num = x\n",
    "        self.den = y\n",
    "        \n",
    "    def __str__(self):  #Called automatically when the obejct is created and prints the format and can be used to make our own format.\n",
    "        return '{}/{}'.format(self.num, self.den)\n",
    "    \n",
    "    def __add__(self, other): #automatically triggered when we put '+' operator between two objects of our class\n",
    "        new_num = self.num * other.den + other.num * self.den\n",
    "        new_den = self.den * other.den\n",
    "        \n",
    "        return '{}/{}'.format(new_num,new_den)\n",
    "    \n",
    "    def __sub__(self,other): #automatically triggered when we put '-' operator between two objects of our class\n",
    "        new_num = self.num * other.den - other.num * self.den\n",
    "        new_den = self.den * other.den\n",
    "        \n",
    "        return '{}/{}'.format(new_num,new_den)\n",
    "    \n",
    "    def __mul__(self,other): #automatically triggered when we put '*' operator between two objects of our class\n",
    "        new_num = self.num * other.num\n",
    "        new_den = self.den * other.den\n",
    "        \n",
    "        return '{}/{}'.format(new_num,new_den)\n",
    "    \n",
    "    def __truediv__(self,other): #automatically triggered when we put '/' operator between two objects of our class\n",
    "        new_num = self.num * other.den\n",
    "        new_den = self.den * other.den\n",
    "        \n",
    "        return '{}/{}'.format(new_num,new_den)\n",
    "    \n",
    "    def convert_to_decimal(self):\n",
    "        return self.num/self.den"
   ]
  },
  {
   "cell_type": "code",
   "execution_count": 12,
   "id": "949139d1",
   "metadata": {},
   "outputs": [],
   "source": [
    "fr1 = Fraction(3,4)\n",
    "fr2 = Fraction(1,2)"
   ]
  },
  {
   "cell_type": "code",
   "execution_count": 13,
   "id": "ba73a6ee",
   "metadata": {},
   "outputs": [
    {
     "name": "stdout",
     "output_type": "stream",
     "text": [
      "<class '__main__.Fraction'>\n"
     ]
    }
   ],
   "source": [
    "print(type(fr1))"
   ]
  },
  {
   "cell_type": "code",
   "execution_count": 14,
   "id": "e97e4cca",
   "metadata": {},
   "outputs": [
    {
     "name": "stdout",
     "output_type": "stream",
     "text": [
      "3/4\n"
     ]
    }
   ],
   "source": [
    "print(fr1)"
   ]
  },
  {
   "cell_type": "code",
   "execution_count": 15,
   "id": "cc019141",
   "metadata": {},
   "outputs": [
    {
     "name": "stdout",
     "output_type": "stream",
     "text": [
      "10/8\n",
      "2/8\n",
      "3/8\n",
      "6/8\n"
     ]
    },
    {
     "data": {
      "text/plain": [
       "0.75"
      ]
     },
     "execution_count": 15,
     "metadata": {},
     "output_type": "execute_result"
    }
   ],
   "source": [
    "print(fr1 + fr2)\n",
    "print(fr1 - fr2)\n",
    "print(fr1 * fr2)\n",
    "print(fr1 / fr2)\n",
    "fr1.convert_to_decimal()"
   ]
  },
  {
   "cell_type": "markdown",
   "id": "7f65b7b0",
   "metadata": {},
   "source": [
    "# Write OOP class to handle the following scenarios.\n",
    "\n",
    "1. A user can create and view 2D coordinates.\n",
    "2. A user can find out the distance between 2 coordinates.\n",
    "3. A user can find the distance of a coordinate from the origin.\n",
    "4. A user can check if a point lies on a given line.\n",
    "5. A user can find the distance b/w a given 2D point on a given line."
   ]
  },
  {
   "cell_type": "code",
   "execution_count": 46,
   "id": "98d7bbd1",
   "metadata": {},
   "outputs": [],
   "source": [
    "#1.making a point class.\n",
    "class Point:\n",
    "    \n",
    "    def __init__(self,x,y):\n",
    "        self.x_cod = x\n",
    "        self.y_cod = y\n",
    "        \n",
    "    def __str__(self):\n",
    "        return '<{},{}>'.format(self.x_cod, self.y_cod)\n",
    "    \n",
    "    def euclidean_distance(self,other):\n",
    "        return ((self.x_cod - other.x_cod)**2 + (self.y_cod - other.y_cod)**2)**0.5\n",
    "    \n",
    "    def distance_from_origin(self):\n",
    "        return (self.x_cod**2 + self.y_cod**2)**5\n",
    "        #return self.euclidean_distance(Point(0,0))**0.5\n",
    "    \n",
    "class Line:\n",
    "    \n",
    "    def __init__(self,A,B,C):\n",
    "        self.A = A\n",
    "        self.B = B\n",
    "        self.C = C\n",
    "        \n",
    "    def __str__(self):\n",
    "        return '{}x + {}y + {} = 0'.format(self.A, self.B, self.C)\n",
    "    \n",
    "    def point_on_line(line,point):\n",
    "        if line.A * point.x_cod + line.B * point.y_cod + line.C == 0:\n",
    "            return \"lies on the line.\"\n",
    "        else:\n",
    "            return \"does not lies on the line.\"\n",
    "        \n",
    "    def shortest_distance(line, point):\n",
    "        return abs(line.A*point.x_cod + line.B*point.y_cod + line.C)/(line.A**2 + line.B**2)**0.5\n",
    "    \n",
    "    def intersection_point(line1, line2):\n",
    "        X = (line1.B*line2.C - line2.B*line1.C)/(line1.A*line2.B - line2.A*line1.B)\n",
    "        Y = (line2.A*line1.C - line1.A*line2.C)/(line1.A*line2.B - line2.A*line1.B)\n",
    "        return '(x,y) = ({},{})'.format(X,Y)"
   ]
  },
  {
   "cell_type": "code",
   "execution_count": 17,
   "id": "dbf187f0",
   "metadata": {},
   "outputs": [
    {
     "name": "stdout",
     "output_type": "stream",
     "text": [
      "<0,0>\n"
     ]
    }
   ],
   "source": [
    "p1 = Point(0,0)\n",
    "p2 = Point(1,1)\n",
    "print(p1)"
   ]
  },
  {
   "cell_type": "code",
   "execution_count": 18,
   "id": "c71f7f80",
   "metadata": {},
   "outputs": [
    {
     "data": {
      "text/plain": [
       "1.4142135623730951"
      ]
     },
     "execution_count": 18,
     "metadata": {},
     "output_type": "execute_result"
    }
   ],
   "source": [
    "p1.euclidean_distance(p2)"
   ]
  },
  {
   "cell_type": "code",
   "execution_count": 19,
   "id": "623e5b72",
   "metadata": {},
   "outputs": [
    {
     "data": {
      "text/plain": [
       "<bound method Point.distance_from_origin of <__main__.Point object at 0x000001A1ACC57BE0>>"
      ]
     },
     "execution_count": 19,
     "metadata": {},
     "output_type": "execute_result"
    }
   ],
   "source": [
    "p1.distance_from_origin"
   ]
  },
  {
   "cell_type": "code",
   "execution_count": null,
   "id": "683841d1",
   "metadata": {},
   "outputs": [],
   "source": []
  },
  {
   "cell_type": "code",
   "execution_count": 20,
   "id": "fbfda34e",
   "metadata": {},
   "outputs": [
    {
     "name": "stdout",
     "output_type": "stream",
     "text": [
      "1x + 1y + -2 = 0\n",
      "<1,1>\n"
     ]
    },
    {
     "data": {
      "text/plain": [
       "0.0"
      ]
     },
     "execution_count": 20,
     "metadata": {},
     "output_type": "execute_result"
    }
   ],
   "source": [
    "l1 = Line(1,1,-2) \n",
    "p1 = Point(1,1)\n",
    "print(l1)\n",
    "print(p1)\n",
    "l1.point_on_line(p1)\n",
    "l1.shortest_distance(p1)"
   ]
  },
  {
   "cell_type": "code",
   "execution_count": 47,
   "id": "3ea75505",
   "metadata": {},
   "outputs": [
    {
     "name": "stdout",
     "output_type": "stream",
     "text": [
      "2x + 3y + 4 = 0\n",
      "5x + 6y + 7 = 0\n"
     ]
    },
    {
     "data": {
      "text/plain": [
       "'(x,y) = (1.0,-2.0)'"
      ]
     },
     "execution_count": 47,
     "metadata": {},
     "output_type": "execute_result"
    }
   ],
   "source": [
    "ln1 = Line(2,3,4)\n",
    "ln2 = Line(5,6,7)\n",
    "print(ln1)\n",
    "print(ln2)\n",
    "\n",
    "ln1.intersection_point(ln2)"
   ]
  },
  {
   "cell_type": "markdown",
   "id": "9bc5e784",
   "metadata": {},
   "source": [
    "# How objects access attributes"
   ]
  },
  {
   "cell_type": "code",
   "execution_count": 21,
   "id": "da25239f",
   "metadata": {},
   "outputs": [],
   "source": [
    "class Person:\n",
    "    \n",
    "    def __init__(self,name_input,country_input):\n",
    "        self.name = name_input\n",
    "        self.country = country_input\n",
    "        \n",
    "    def greet(self):\n",
    "        if self.greet == 'india':\n",
    "            print('Namaste', self.name)\n",
    "        else:\n",
    "            print('Hello', self.name)"
   ]
  },
  {
   "cell_type": "code",
   "execution_count": 22,
   "id": "509fefdb",
   "metadata": {},
   "outputs": [],
   "source": [
    "#How to access attributes:\n",
    "p = Person('Vedant', 'india')"
   ]
  },
  {
   "cell_type": "code",
   "execution_count": 23,
   "id": "3b5a7153",
   "metadata": {},
   "outputs": [
    {
     "data": {
      "text/plain": [
       "'Vedant'"
      ]
     },
     "execution_count": 23,
     "metadata": {},
     "output_type": "execute_result"
    }
   ],
   "source": [
    "p.name"
   ]
  },
  {
   "cell_type": "code",
   "execution_count": 24,
   "id": "ed21c287",
   "metadata": {},
   "outputs": [
    {
     "data": {
      "text/plain": [
       "'india'"
      ]
     },
     "execution_count": 24,
     "metadata": {},
     "output_type": "execute_result"
    }
   ],
   "source": [
    "p.country"
   ]
  },
  {
   "cell_type": "code",
   "execution_count": 25,
   "id": "880a164a",
   "metadata": {},
   "outputs": [
    {
     "name": "stdout",
     "output_type": "stream",
     "text": [
      "Hello Vedant\n"
     ]
    }
   ],
   "source": [
    "p.greet()"
   ]
  },
  {
   "cell_type": "markdown",
   "id": "18ac300e",
   "metadata": {},
   "source": [
    "# Attribute creation from outside of the class"
   ]
  },
  {
   "cell_type": "code",
   "execution_count": 26,
   "id": "83d082ee",
   "metadata": {},
   "outputs": [],
   "source": [
    "p.gender = 'male'"
   ]
  },
  {
   "cell_type": "code",
   "execution_count": 27,
   "id": "e56af720",
   "metadata": {},
   "outputs": [
    {
     "data": {
      "text/plain": [
       "'male'"
      ]
     },
     "execution_count": 27,
     "metadata": {},
     "output_type": "execute_result"
    }
   ],
   "source": [
    "p.gender"
   ]
  },
  {
   "cell_type": "markdown",
   "id": "0b7287b6",
   "metadata": {},
   "source": [
    "# Reference Variable\n",
    "\n",
    "1. When we create an object of a class, then that object contains the memory address or the contents of the that class.\n",
    "2. Basically we stored the created object in a variable and called that variable as an reference variable.\n",
    "3. Hence, we can create an object without reference variable.\n",
    "4."
   ]
  },
  {
   "cell_type": "code",
   "execution_count": 28,
   "id": "c9439e40",
   "metadata": {},
   "outputs": [
    {
     "data": {
      "text/plain": [
       "<__main__.person at 0x1a1acc54190>"
      ]
     },
     "execution_count": 28,
     "metadata": {},
     "output_type": "execute_result"
    }
   ],
   "source": [
    "#object without a reference variable \n",
    "\n",
    "class person:\n",
    "    def __init__(self):\n",
    "        self.name = 'Vedant'\n",
    "        self.gender = 'male'\n",
    "\n",
    "person()"
   ]
  },
  {
   "cell_type": "code",
   "execution_count": 48,
   "id": "7780721f",
   "metadata": {},
   "outputs": [
    {
     "name": "stdout",
     "output_type": "stream",
     "text": [
      "1793901422784\n",
      "1793901422784\n"
     ]
    }
   ],
   "source": [
    "#multiple reference\n",
    "p = person()\n",
    "q = p\n",
    "print(id(p))\n",
    "print(id(q))"
   ]
  },
  {
   "cell_type": "code",
   "execution_count": 49,
   "id": "3f63bfb6",
   "metadata": {},
   "outputs": [
    {
     "name": "stdout",
     "output_type": "stream",
     "text": [
      "Vedant\n",
      "Vedant\n"
     ]
    }
   ],
   "source": [
    "#Changing value of attribute with the help of new reference variable.\n",
    "print(p.name)\n",
    "print(q.name)"
   ]
  },
  {
   "cell_type": "code",
   "execution_count": 50,
   "id": "274d65e6",
   "metadata": {},
   "outputs": [
    {
     "name": "stdout",
     "output_type": "stream",
     "text": [
      "Vaidehi\n",
      "Vaidehi\n"
     ]
    }
   ],
   "source": [
    "q.name = 'Vaidehi'\n",
    "print(p.name)\n",
    "print(q.name)"
   ]
  },
  {
   "cell_type": "markdown",
   "id": "13e8d5be",
   "metadata": {},
   "source": [
    "# Pass By Reference"
   ]
  },
  {
   "cell_type": "code",
   "execution_count": 51,
   "id": "4e6e39cd",
   "metadata": {},
   "outputs": [
    {
     "name": "stdout",
     "output_type": "stream",
     "text": [
      "I am Vedant and I am a Male.\n",
      "I am Vedant and I am a Male.\n",
      "Vaidehi\n",
      "Female\n"
     ]
    }
   ],
   "source": [
    "class person:\n",
    "    def __init__(self, name, gender):\n",
    "        self.name = name\n",
    "        self.gender = gender\n",
    "\n",
    "#function outside the class\n",
    "def greet(person_details):\n",
    "    print(f\"I am {p.name} and I am a {p.gender}.\")\n",
    "    p1 = person('Vaidehi', \"Female\")\n",
    "    return p1\n",
    "\n",
    "#We passing the object as a input parameter in a function.\n",
    "p = person(\"Vedant\", \"Male\")\n",
    "greet(p)\n",
    "\n",
    "#Taking object values as output from the function.\n",
    "x = greet(p)\n",
    "print(x.name)\n",
    "print(x.gender)"
   ]
  },
  {
   "cell_type": "code",
   "execution_count": 57,
   "id": "e7f30144",
   "metadata": {},
   "outputs": [
    {
     "name": "stdout",
     "output_type": "stream",
     "text": [
      "1793933592992\n",
      "I am Vedant and I am a Male.\n",
      "1793933592992\n",
      "Ved\n",
      "m\n"
     ]
    }
   ],
   "source": [
    "class person:\n",
    "    def __init__(self, name, gender):\n",
    "        self.name = name\n",
    "        self.gender = gender\n",
    "\n",
    "#function outside the class\n",
    "def greet(person_details):\n",
    "    print(id(person_details))\n",
    "    print(f\"I am {p.name} and I am a {p.gender}.\")\n",
    "    p1 = person(\"Ved\", \"m\")\n",
    "    return p1        #Taking object as an output from the function\n",
    "    \n",
    "#We passing the object as a input parameter in a function.\n",
    "p = person(\"Vedant\", \"Male\")\n",
    "x = greet(p)\n",
    "print(id(p))\n",
    "print(x.name)\n",
    "print(x.gender)"
   ]
  },
  {
   "cell_type": "markdown",
   "id": "2e4445bb",
   "metadata": {},
   "source": [
    "# Encapsulation\n",
    "\n",
    "1. Encapsulation is a method of making the attributes or methods of the class private or public.\n",
    "2. for making private use '__'(double underscore)  before the atrribute or method."
   ]
  },
  {
   "cell_type": "code",
   "execution_count": 58,
   "id": "eb247105",
   "metadata": {},
   "outputs": [],
   "source": [
    "# Instance Variable -> Instance variable are those which has different or multiple values depending on different objects.\n",
    "\n",
    "class Person:\n",
    "    \n",
    "    def __init__(self,name_input,country_input):\n",
    "        self.name = name_input\n",
    "        self.country = country_input\n",
    "\n",
    "p1 = Person('Vedant','India')\n",
    "p2 = Person('Vaidehi', 'Dubai')"
   ]
  },
  {
   "cell_type": "code",
   "execution_count": 59,
   "id": "0afcfabd",
   "metadata": {},
   "outputs": [
    {
     "name": "stdout",
     "output_type": "stream",
     "text": [
      "Vedant\n",
      "Vaidehi\n"
     ]
    }
   ],
   "source": [
    "print(p1.name)\n",
    "print(p2.name)"
   ]
  },
  {
   "cell_type": "code",
   "execution_count": 60,
   "id": "feb5d621",
   "metadata": {},
   "outputs": [],
   "source": [
    "class Atm:\n",
    "\n",
    "    #Constructor(Special Function.): This function called automatically whenever the object is created for this class.\n",
    "    def __init__(self):\n",
    "        \n",
    "        self.pin = ''\n",
    "        self.__balance = ''\n",
    "        print(\"I am Executed.\")\n",
    "#         self.menu()\n",
    "\n",
    "    def get_balance(self):\n",
    "         return self.__balance\n",
    "        \n",
    "    def set_balance(self, new_value):\n",
    "        if type(new_value) == int:\n",
    "            self.__balance = new_value\n",
    "        else:\n",
    "            print(\"betaa..tumse na ho payega.\")\n",
    "            \n",
    "    #Creating a function menu()\n",
    "    def menu(self):\n",
    "        user_input = input(\"\"\"\n",
    "        Hi! How can I help you?\n",
    "        1. Press 1 to create pin.\n",
    "        2. Press 2 to change pin.\n",
    "        3. Press 3 to check balance.\n",
    "        4. Press 4 to withdraw.\n",
    "        5. Press Anything to exit.\n",
    "        \"\"\")\n",
    "        \n",
    "        if user_input == '1':\n",
    "            #create pin\n",
    "            self.create_pin()\n",
    "            \n",
    "        elif user_input == '2':\n",
    "            #change pin\n",
    "            self.change_pin()\n",
    "            \n",
    "        elif user_input == '3':\n",
    "            #check balance\n",
    "            self.check_balance()\n",
    "            \n",
    "        elif user_input == '4':\n",
    "            #withdraw\n",
    "            self.withdraw()\n",
    "        \n",
    "        else:\n",
    "            #exit\n",
    "            pass\n",
    "            \n",
    "    def create_pin(self):\n",
    "        user_pin = input(\"Enter your pin:\")\n",
    "        self.pin = user_pin\n",
    "        \n",
    "        user_balance = int(input(\"Enter your balance:\"))\n",
    "        self.__balance = user_balance\n",
    "        \n",
    "        print(\"Pin created successfully.\")\n",
    "        self.menu()\n",
    "        \n",
    "    def change_pin(self):\n",
    "        old_pin = input(\"Enter Old pin:\")\n",
    "        \n",
    "        if old_pin == self.pin:\n",
    "            #let him change the pin.\n",
    "            new_pin = input(\"Enter new pin\")\n",
    "            self.pin = new_pin\n",
    "            print(\"Pin changed successfully.\")\n",
    "            self.menu()\n",
    "        else:\n",
    "            print(\"hum pe to nao bhai..\")\n",
    "            self.menu()\n",
    "    \n",
    "    def check_balance(self):\n",
    "        user_pin = input(\"Enter pin:\")\n",
    "        \n",
    "        if user_pin == self.pin:\n",
    "            print(\"Your balance is \",self.__balance)\n",
    "            self.menu()\n",
    "        else:\n",
    "            print(\"hum pe to nao bhai..\")\n",
    "            self.menu()\n",
    "            \n",
    "    def withdraw(self):\n",
    "        user_pin = input(\"Enter pin:\")\n",
    "        if user_pin == self.pin:\n",
    "            #withdraw\n",
    "            amount = int(input(\"Enter the amount.:\"))\n",
    "            if amount <= self.__balance:\n",
    "                self.__balance = self.__balance - amount\n",
    "                print(\"Withdrawl Successfull.Balance is \", self.__balance)\n",
    "            else:\n",
    "                print(\"hum pe to nao bhai..\")\n",
    "        else:\n",
    "            print(\"hum pe to nao bhai..\")\n",
    "        self.menu()"
   ]
  },
  {
   "cell_type": "code",
   "execution_count": 61,
   "id": "b1934a1b",
   "metadata": {},
   "outputs": [
    {
     "name": "stdout",
     "output_type": "stream",
     "text": [
      "I am Executed.\n"
     ]
    }
   ],
   "source": [
    "obj = Atm()"
   ]
  },
  {
   "cell_type": "code",
   "execution_count": 62,
   "id": "62f737ab",
   "metadata": {},
   "outputs": [
    {
     "name": "stdout",
     "output_type": "stream",
     "text": [
      "<bound method Atm.get_balance of <__main__.Atm object at 0x000001A1AEB8EE90>>\n"
     ]
    }
   ],
   "source": [
    "print(obj.get_balance)"
   ]
  },
  {
   "cell_type": "code",
   "execution_count": 63,
   "id": "bd93b767",
   "metadata": {},
   "outputs": [],
   "source": [
    "obj.set_balance(1000)"
   ]
  },
  {
   "cell_type": "code",
   "execution_count": 64,
   "id": "f15ac6c9",
   "metadata": {},
   "outputs": [
    {
     "name": "stdout",
     "output_type": "stream",
     "text": [
      "betaa..tumse na ho payega.\n"
     ]
    }
   ],
   "source": [
    "obj.set_balance('hehehe')"
   ]
  },
  {
   "cell_type": "markdown",
   "id": "bd450773",
   "metadata": {},
   "source": [
    "# Collection of Objects"
   ]
  },
  {
   "cell_type": "code",
   "execution_count": 65,
   "id": "6115b9c6",
   "metadata": {},
   "outputs": [
    {
     "name": "stdout",
     "output_type": "stream",
     "text": [
      "Vedant Male\n",
      "Vaidehi Male\n",
      "Ankita Female\n"
     ]
    }
   ],
   "source": [
    "#List of objects.\n",
    "class Person:\n",
    "    \n",
    "    def __init__(self,name_input,gender):\n",
    "        self.name = name_input\n",
    "        self.gender = gender\n",
    "\n",
    "p1 = Person('Vedant','Male')\n",
    "p2 = Person('Vaidehi', 'Male')\n",
    "p3 = Person('Ankita', 'Female')\n",
    "\n",
    "l = [p1,p2,p3]\n",
    "for i in l:\n",
    "    print(i.name, i.gender)"
   ]
  },
  {
   "cell_type": "code",
   "execution_count": 66,
   "id": "d22a31b9",
   "metadata": {},
   "outputs": [
    {
     "name": "stdout",
     "output_type": "stream",
     "text": [
      "Vedant Male\n",
      "Vaidehi Male\n",
      "Ankita Female\n"
     ]
    }
   ],
   "source": [
    "# Dictionary of objects\n",
    "class Person:\n",
    "    \n",
    "    def __init__(self,name_input,gender):\n",
    "        self.name = name_input\n",
    "        self.gender = gender\n",
    "\n",
    "p1 = Person('Vedant','Male')\n",
    "p2 = Person('Vaidehi', 'Male')\n",
    "p3 = Person('Ankita', 'Female')\n",
    "\n",
    "dict = {'p1':p1 , 'p2': p2, 'p3': p3}\n",
    "\n",
    "for i in dict:\n",
    "    print(dict[i].name, dict[i].gender)"
   ]
  },
  {
   "cell_type": "markdown",
   "id": "395d80bc",
   "metadata": {},
   "source": [
    "# Static Variable\n",
    "\n",
    "1. Instance Variables are used for object whereas static variables are used for class.\n",
    "2. Instance variables are those have different values and static variables has a common value.\n",
    "3. obj_name.attribute -> instance ; class_name.attribute -> Static\n",
    "4. static variable are declared inside the class outside all the methods."
   ]
  },
  {
   "cell_type": "code",
   "execution_count": 67,
   "id": "c5ddc276",
   "metadata": {},
   "outputs": [],
   "source": [
    "class Atm:\n",
    "    \n",
    "    #static variable\n",
    "    __counter = 1\n",
    "\n",
    "    #Constructor(Special Function.): This function called automatically whenever the object is created for this class.\n",
    "    def __init__(self):\n",
    "        \n",
    "        self.pin = ''\n",
    "        self.__balance = ''\n",
    "        self.cid = Atm.__counter\n",
    "        Atm.__counter = Atm.__counter + 1    #value will increase from 1 to 2, 2 to 3, and so on.. for all the upcoming objects.\n",
    "#         self.menu()\n",
    "    \n",
    "    @staticmethod\n",
    "    def get_counter():\n",
    "        return Atm.__counter  #because there is no parameter passed inside the method we use class name instead of self. This are known as static method.\n",
    "    \n",
    "    def get_balance(self):\n",
    "         return self.__balance\n",
    "        \n",
    "    def set_balance(self, new_value):\n",
    "        if type(new_value) == int:\n",
    "            self.__balance = new_value\n",
    "        else:\n",
    "            print(\"betaa..tumse na ho payega.\")\n",
    "            \n",
    "    #Creating a function menu()\n",
    "    def menu(self):\n",
    "        user_input = input(\"\"\"\n",
    "        Hi! How can I help you?\n",
    "        1. Press 1 to create pin.\n",
    "        2. Press 2 to change pin.\n",
    "        3. Press 3 to check balance.\n",
    "        4. Press 4 to withdraw.\n",
    "        5. Press Anything to exit.\n",
    "        \"\"\")\n",
    "        \n",
    "        if user_input == '1':\n",
    "            #create pin\n",
    "            self.create_pin()\n",
    "            \n",
    "        elif user_input == '2':\n",
    "            #change pin\n",
    "            self.change_pin()\n",
    "            \n",
    "        elif user_input == '3':\n",
    "            #check balance\n",
    "            self.check_balance()\n",
    "            \n",
    "        elif user_input == '4':\n",
    "            #withdraw\n",
    "            self.withdraw()\n",
    "        \n",
    "        else:\n",
    "            #exit\n",
    "            pass\n",
    "            \n",
    "    def create_pin(self):\n",
    "        user_pin = input(\"Enter your pin:\")\n",
    "        self.pin = user_pin\n",
    "        \n",
    "        user_balance = int(input(\"Enter your balance:\"))\n",
    "        self.__balance = user_balance\n",
    "        \n",
    "        print(\"Pin created successfully.\")\n",
    "        self.menu()\n",
    "        \n",
    "    def change_pin(self):\n",
    "        old_pin = input(\"Enter Old pin:\")\n",
    "        \n",
    "        if old_pin == self.pin:\n",
    "            #let him change the pin.\n",
    "            new_pin = input(\"Enter new pin\")\n",
    "            self.pin = new_pin\n",
    "            print(\"Pin changed successfully.\")\n",
    "            self.menu()\n",
    "        else:\n",
    "            print(\"hum pe to nao bhai..\")\n",
    "            self.menu()\n",
    "    \n",
    "    def check_balance(self):\n",
    "        user_pin = input(\"Enter pin:\")\n",
    "        \n",
    "        if user_pin == self.pin:\n",
    "            print(\"Your balance is \",self.__balance)\n",
    "            self.menu()\n",
    "        else:\n",
    "            print(\"hum pe to nao bhai..\")\n",
    "            self.menu()\n",
    "            \n",
    "    def withdraw(self):\n",
    "        user_pin = input(\"Enter pin:\")\n",
    "        if user_pin == self.pin:\n",
    "            #withdraw\n",
    "            amount = int(input(\"Enter the amount.:\"))\n",
    "            if amount <= self.__balance:\n",
    "                self.__balance = self.__balance - amount\n",
    "                print(\"Withdrawl Successfull.Balance is \", self.__balance)\n",
    "            else:\n",
    "                print(\"hum pe to nao bhai..\")\n",
    "        else:\n",
    "            print(\"hum pe to nao bhai..\")\n",
    "        self.menu()"
   ]
  },
  {
   "cell_type": "code",
   "execution_count": 68,
   "id": "4c865298",
   "metadata": {},
   "outputs": [],
   "source": [
    "c1 = Atm()"
   ]
  },
  {
   "cell_type": "code",
   "execution_count": 69,
   "id": "d61c6ed5",
   "metadata": {},
   "outputs": [],
   "source": [
    "c2 = Atm()"
   ]
  },
  {
   "cell_type": "code",
   "execution_count": 70,
   "id": "5747e4b8",
   "metadata": {},
   "outputs": [],
   "source": [
    "c3 = Atm()"
   ]
  },
  {
   "cell_type": "code",
   "execution_count": 71,
   "id": "3c51e69c",
   "metadata": {},
   "outputs": [
    {
     "data": {
      "text/plain": [
       "1"
      ]
     },
     "execution_count": 71,
     "metadata": {},
     "output_type": "execute_result"
    }
   ],
   "source": [
    "c1.cid"
   ]
  },
  {
   "cell_type": "code",
   "execution_count": 72,
   "id": "697ba5c9",
   "metadata": {},
   "outputs": [
    {
     "data": {
      "text/plain": [
       "2"
      ]
     },
     "execution_count": 72,
     "metadata": {},
     "output_type": "execute_result"
    }
   ],
   "source": [
    "c2.cid"
   ]
  },
  {
   "cell_type": "code",
   "execution_count": 73,
   "id": "96d881c2",
   "metadata": {},
   "outputs": [
    {
     "data": {
      "text/plain": [
       "3"
      ]
     },
     "execution_count": 73,
     "metadata": {},
     "output_type": "execute_result"
    }
   ],
   "source": [
    "c3.cid"
   ]
  },
  {
   "cell_type": "code",
   "execution_count": 74,
   "id": "f343f46b",
   "metadata": {},
   "outputs": [
    {
     "data": {
      "text/plain": [
       "4"
      ]
     },
     "execution_count": 74,
     "metadata": {},
     "output_type": "execute_result"
    }
   ],
   "source": [
    "Atm.get_counter()"
   ]
  },
  {
   "cell_type": "markdown",
   "id": "0baac91a",
   "metadata": {},
   "source": [
    "# Class Relationships\n",
    "\n",
    "1. Aggregation \n",
    "2. Inheritance"
   ]
  },
  {
   "cell_type": "markdown",
   "id": "c40bd525",
   "metadata": {},
   "source": [
    "# Aggregation"
   ]
  },
  {
   "cell_type": "code",
   "execution_count": 75,
   "id": "f6cb45f8",
   "metadata": {},
   "outputs": [],
   "source": [
    "#Has a relationship b/w the classes.\n",
    "#One class owns the other class.\n",
    "#E.g Customer class and address class. Here, customer has an address.\n",
    "#While performing aggregation we can not access private attributes."
   ]
  },
  {
   "cell_type": "code",
   "execution_count": 76,
   "id": "7dddd648",
   "metadata": {},
   "outputs": [
    {
     "name": "stdout",
     "output_type": "stream",
     "text": [
      "Nagpur 440002 Maharashtra\n",
      "Pune 440330 Delhi\n"
     ]
    }
   ],
   "source": [
    "#Example:\n",
    "class Customer:\n",
    "    \n",
    "    def __init__(self,name,gender,address):\n",
    "        self.name = name\n",
    "        self.gender = gender\n",
    "        self.address = address\n",
    "        \n",
    "    def print_address(self):\n",
    "        print(self.address.city, self.address.pincode, self.address.state)\n",
    "        \n",
    "    def edit_profile(self,new_name,new_city, new_pincode, new_state):\n",
    "        self.name = new_name\n",
    "        self.address.edit_address(new_city, new_pincode, new_state)\n",
    "        \n",
    "class Address:\n",
    "    \n",
    "    def __init__(self,city,pincode,state):\n",
    "        self.city = city\n",
    "        self.pincode = pincode\n",
    "        self.state = state\n",
    "        \n",
    "    def edit_address(self, new_city, new_pincode, new_state):\n",
    "        self.city = new_city\n",
    "        self.pincode = new_pincode\n",
    "        self.state = new_state\n",
    "        \n",
    "        \n",
    "add1 = Address('Nagpur', 440002,'Maharashtra')\n",
    "cust = Customer('vedant', 'male', add1)\n",
    "\n",
    "cust.print_address()\n",
    "cust.edit_profile('Vaidehi','Pune', 440330,'Delhi')\n",
    "cust.print_address()"
   ]
  },
  {
   "cell_type": "code",
   "execution_count": null,
   "id": "2b3527d5",
   "metadata": {},
   "outputs": [],
   "source": []
  },
  {
   "cell_type": "markdown",
   "id": "8b197e9e",
   "metadata": {},
   "source": [
    "# Inheritance"
   ]
  },
  {
   "cell_type": "code",
   "execution_count": 77,
   "id": "c909a228",
   "metadata": {},
   "outputs": [],
   "source": [
    "#Concept of code reusabilty.\n",
    "#child class can own the code of parent class.\n",
    "#def child_class(parent_class)"
   ]
  },
  {
   "cell_type": "code",
   "execution_count": 78,
   "id": "8abb7564",
   "metadata": {},
   "outputs": [
    {
     "name": "stdout",
     "output_type": "stream",
     "text": [
      "Vedant\n",
      "login\n",
      "enroll into the course.\n"
     ]
    }
   ],
   "source": [
    "#Example.\n",
    "\n",
    "#parent class\n",
    "class user:\n",
    "    \n",
    "    def __init__(self):\n",
    "        self.name = 'Vedant'\n",
    "    \n",
    "    def login(self):\n",
    "        print('login')\n",
    "        \n",
    "#child\n",
    "class student(user):\n",
    "\n",
    "    def enroll(self):\n",
    "        print(\"enroll into the course.\")\n",
    "        \n",
    "u = user()\n",
    "s = student()\n",
    "\n",
    "print(s.name)\n",
    "s.login()\n",
    "s.enroll()"
   ]
  },
  {
   "cell_type": "markdown",
   "id": "271ff7c7",
   "metadata": {},
   "source": [
    "What gets Inherited ?\n",
    "\n",
    "1. Constructor\n",
    "2. Non private attribute\n",
    "3. Non private Methods"
   ]
  },
  {
   "cell_type": "code",
   "execution_count": 79,
   "id": "d9f3182a",
   "metadata": {},
   "outputs": [
    {
     "name": "stdout",
     "output_type": "stream",
     "text": [
      "inside phone constructor.\n",
      "Buying the phone.\n"
     ]
    }
   ],
   "source": [
    "#Constructor\n",
    "#if child has its own contructor then parent constructor will not be call.\n",
    "#child class can not access private attributes and methods of parent class.\n",
    "\n",
    "class phone:\n",
    "    def __init__(self,price,brand,camera):\n",
    "        print(\"inside phone constructor.\")\n",
    "        self.price = price\n",
    "        self.brand = brand\n",
    "        self.camera = camera\n",
    "    \n",
    "    def buy(self):\n",
    "        print(\"Buying the phone.\")\n",
    "\n",
    "class smart_phone(phone):\n",
    "    pass\n",
    "\n",
    "s = smart_phone(10000,'samsung',180)\n",
    "\n",
    "s.price\n",
    "s.brand\n",
    "s.camera\n",
    "s.buy()"
   ]
  },
  {
   "cell_type": "code",
   "execution_count": 80,
   "id": "6510c855",
   "metadata": {},
   "outputs": [
    {
     "name": "stdout",
     "output_type": "stream",
     "text": [
      "inside phone constructor.\n",
      "Buying the smartphone.\n"
     ]
    }
   ],
   "source": [
    "#Method Overriding\n",
    "\n",
    "class phone:\n",
    "    def __init__(self,price,brand,camera):\n",
    "        print(\"inside phone constructor.\")\n",
    "        self.price = price\n",
    "        self.brand = brand\n",
    "        self.camera = camera\n",
    "    \n",
    "    def buy(self):\n",
    "        print(\"Buying the phone.\")\n",
    "\n",
    "class smart_phone(phone):\n",
    "    def buy(self):\n",
    "        print(\"Buying the smartphone.\")\n",
    "\n",
    "s = smart_phone(10000,'samsung',180)\n",
    "s.buy()"
   ]
  },
  {
   "cell_type": "markdown",
   "id": "8990e84c",
   "metadata": {},
   "source": [
    "# Super Keyword"
   ]
  },
  {
   "cell_type": "code",
   "execution_count": 81,
   "id": "1c6f2329",
   "metadata": {},
   "outputs": [
    {
     "name": "stdout",
     "output_type": "stream",
     "text": [
      "inside phone constructor.\n",
      "Buying the smartphone.\n",
      "Buying the phone.\n"
     ]
    }
   ],
   "source": [
    "class phone:\n",
    "    def __init__(self,price,brand,camera):\n",
    "        print(\"inside phone constructor.\")\n",
    "        self.price = price\n",
    "        self.brand = brand\n",
    "        self.camera = camera\n",
    "    \n",
    "    def buy(self):\n",
    "        print(\"Buying the phone.\")\n",
    "\n",
    "class smart_phone(phone):\n",
    "    def buy(self):\n",
    "        print(\"Buying the smartphone.\")\n",
    "        #syntac to call parents buy() method.\n",
    "        super().buy()\n",
    "\n",
    "s = smart_phone(10000,'samsung',180)\n",
    "s.buy()"
   ]
  },
  {
   "cell_type": "code",
   "execution_count": 82,
   "id": "8739414f",
   "metadata": {},
   "outputs": [
    {
     "name": "stdout",
     "output_type": "stream",
     "text": [
      "inside smartphone constructor.\n",
      "inside phone constructor.\n",
      "inside smartphone constructor.\n",
      "Android\n",
      "12\n"
     ]
    }
   ],
   "source": [
    "#calling parent class constructor using super() keyword.\n",
    "#1) super cannot access variables/attributes 2) super cannot be used outside the class 3) super() is used in child class\n",
    "\n",
    "class phone:\n",
    "    def __init__(self,price,brand,camera):\n",
    "        print(\"inside phone constructor.\")\n",
    "        self.price = price\n",
    "        self.brand = brand\n",
    "        self.camera = camera\n",
    "    \n",
    "    def buy(self):\n",
    "        print(\"Buying the phone.\")\n",
    "\n",
    "class smart_phone(phone):\n",
    "    \n",
    "    def __init__(self,price,brand,camera,os,ram):\n",
    "        print(\"inside smartphone constructor.\")\n",
    "        super().__init__(price,brand,camera)\n",
    "        self.os = os\n",
    "        self.ram = ram\n",
    "        print(\"inside smartphone constructor.\")\n",
    "\n",
    "s = smart_phone(10000,'samsung',180, 'Android', 12)\n",
    "\n",
    "print(s.os)\n",
    "print(s.ram)"
   ]
  },
  {
   "cell_type": "markdown",
   "id": "48fb326a",
   "metadata": {},
   "source": [
    "# Types of Inheritance\n",
    "\n",
    "1. Single\n",
    "2. Multilevel\n",
    "3. Hierarchical\n",
    "4. Multiple\n",
    "5. Hybrid"
   ]
  },
  {
   "cell_type": "markdown",
   "id": "d42d5eb9",
   "metadata": {},
   "source": [
    "Multilevel:\n",
    "\n",
    "1. class product\n",
    "2. class phone(product)\n",
    "3. class smartphone(phone)\n"
   ]
  },
  {
   "cell_type": "markdown",
   "id": "59165f76",
   "metadata": {},
   "source": [
    "Hierarchical:\n",
    "\n",
    "1. class phone\n",
    "2. class smartphone(phone)\n",
    "3. class featurephone(phone)"
   ]
  },
  {
   "cell_type": "markdown",
   "id": "92f1c3ec",
   "metadata": {},
   "source": [
    "Multiple:\n",
    "\n",
    "1. class phone\n",
    "2. class product \n",
    "3. class smartphone(phone, product)"
   ]
  },
  {
   "cell_type": "code",
   "execution_count": 83,
   "id": "014ea8c5",
   "metadata": {},
   "outputs": [],
   "source": [
    "# THE diamond problem in oop"
   ]
  },
  {
   "cell_type": "markdown",
   "id": "e1e1b8bf",
   "metadata": {},
   "source": [
    "# Polymorphism\n",
    "\n",
    "1. Method  overriding\n",
    "2. Method "
   ]
  },
  {
   "cell_type": "markdown",
   "id": "7f2f4139",
   "metadata": {},
   "source": [
    "# Abstraction"
   ]
  },
  {
   "cell_type": "code",
   "execution_count": null,
   "id": "7de1fce8",
   "metadata": {},
   "outputs": [],
   "source": []
  }
 ],
 "metadata": {
  "kernelspec": {
   "display_name": "Python 3 (ipykernel)",
   "language": "python",
   "name": "python3"
  },
  "language_info": {
   "codemirror_mode": {
    "name": "ipython",
    "version": 3
   },
   "file_extension": ".py",
   "mimetype": "text/x-python",
   "name": "python",
   "nbconvert_exporter": "python",
   "pygments_lexer": "ipython3",
   "version": "3.10.2"
  }
 },
 "nbformat": 4,
 "nbformat_minor": 5
}
