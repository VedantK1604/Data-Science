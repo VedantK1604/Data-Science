{
 "cells": [
  {
   "cell_type": "markdown",
   "id": "d83778cf",
   "metadata": {},
   "source": [
    "# Some Theory"
   ]
  },
  {
   "cell_type": "code",
   "execution_count": 1,
   "id": "6da41409",
   "metadata": {},
   "outputs": [],
   "source": [
    "# In python, every string is a unicode character"
   ]
  },
  {
   "cell_type": "markdown",
   "id": "a1c2c8a2",
   "metadata": {},
   "source": [
    "### Types of data used for I/O:\n",
    "\n",
    "- Text: '12345' as a sequence of unicode character.\n",
    "- Binary: 12345 as a squence of bytes of its binary equivalent.\n",
    "    \n",
    "Hence are 2 types to deal with:\n",
    "\n",
    "- Text files: All program files are text files.\n",
    "- Binary Files: images,music,vedios, etc."
   ]
  },
  {
   "cell_type": "markdown",
   "id": "76cc90a5",
   "metadata": {},
   "source": [
    "### How file I/O is done with most programming language\n",
    "\n",
    "1. Open a file\n",
    "2. Read/Write to a file\n",
    "3. Close to a file"
   ]
  },
  {
   "cell_type": "markdown",
   "id": "e718e9a6",
   "metadata": {},
   "source": [
    "## Writing to a File:"
   ]
  },
  {
   "cell_type": "code",
   "execution_count": 2,
   "id": "4da15ae2",
   "metadata": {},
   "outputs": [],
   "source": [
    "# Case 1: If the file is not present\n",
    "#Hence can be created by writing a code:\n",
    "\n",
    "f = open(\"sample.txt\", \"w\") #..'w' shows that we want to write into the file\n",
    "f.write(\"Hello world\")      # write: what we have to write inside this file\n",
    "f.close()                   # close: Once the file is closed we can't write or read anything from the file"
   ]
  },
  {
   "cell_type": "code",
   "execution_count": 3,
   "id": "5b7b7ef0",
   "metadata": {},
   "outputs": [],
   "source": [
    "# Writing multiline string:\n",
    "\n",
    "f = open(\"sample1.txt\",\"w\")\n",
    "f.write(\"Hello world\")\n",
    "f.write(\"\\nHow are you?\") #Added '\\n' before string for multiline string.\n",
    "f.close()"
   ]
  },
  {
   "cell_type": "code",
   "execution_count": 4,
   "id": "505b3453",
   "metadata": {},
   "outputs": [],
   "source": [
    "# Case 2: If the file is already present.\n",
    "# In this case, the file is already present. So when we open that file in the write mode and write some data into it, it will\n",
    "# replace the old content with the new one.\n",
    "\n",
    "f = open(\"sample.txt\", 'w')\n",
    "f.write(\"virat kohli\")\n",
    "f.close()"
   ]
  },
  {
   "cell_type": "code",
   "execution_count": 5,
   "id": "c70a5b84",
   "metadata": {},
   "outputs": [],
   "source": [
    "# Problem with 'w' mode:\n",
    "# when we open that file in the write mode and write some data into it, it will replace the old content with the new one.\n",
    "# so the solution for this is 'a'(append) mode."
   ]
  },
  {
   "cell_type": "code",
   "execution_count": 6,
   "id": "0f0c4a20",
   "metadata": {},
   "outputs": [],
   "source": [
    "# Append mode:\n",
    "# using append mode we add the content to the file without deleting previous content.\n",
    "\n",
    "f = open(\"sample.txt\",'a')\n",
    "f.write('hi! how are you ?')\n",
    "f.close()"
   ]
  },
  {
   "cell_type": "code",
   "execution_count": 7,
   "id": "928859a0",
   "metadata": {},
   "outputs": [],
   "source": [
    "# Write lines:\n",
    "# when we have to add multiple lines at once, we can use just one method of write lines.\n",
    "\n",
    "l = ['hi\\n', 'how are you\\n', 'I am file']\n",
    "\n",
    "f = open(\"sample1.txt\", 'w')\n",
    "f.writelines(l)\n",
    "f.close()"
   ]
  },
  {
   "cell_type": "markdown",
   "id": "86b8c17a",
   "metadata": {},
   "source": [
    "## Reading from a file"
   ]
  },
  {
   "cell_type": "code",
   "execution_count": 8,
   "id": "ca853614",
   "metadata": {},
   "outputs": [
    {
     "name": "stdout",
     "output_type": "stream",
     "text": [
      "hi\n",
      "how are you\n",
      "I am file\n"
     ]
    }
   ],
   "source": [
    "# Using -> read():\n",
    "\n",
    "f = open(\"sample1.txt\",'r') #Using 'r'(reading) mode for reading the file.\n",
    "s = f.read()                # must store after reading from the file, because it will create an object.\n",
    "print(s)\n",
    "f.close()"
   ]
  },
  {
   "cell_type": "code",
   "execution_count": 9,
   "id": "a9a16d1b",
   "metadata": {},
   "outputs": [
    {
     "name": "stdout",
     "output_type": "stream",
     "text": [
      "hi\n",
      "how are\n"
     ]
    }
   ],
   "source": [
    "# reading upto n character:\n",
    "\n",
    "f = open(\"sample1.txt\",'r')\n",
    "s = f.read(10)             # reads first 10 characters from the file\n",
    "print(s)\n",
    "f.close()"
   ]
  },
  {
   "cell_type": "code",
   "execution_count": 10,
   "id": "7196944e",
   "metadata": {},
   "outputs": [
    {
     "name": "stdout",
     "output_type": "stream",
     "text": [
      "hi\n",
      "how are you\n"
     ]
    }
   ],
   "source": [
    "# readline() -> to read line by line\n",
    "\n",
    "f = open(\"sample1.txt\",'r')\n",
    "print(f.readline(),end=\"\")\n",
    "print(f.readline(),end=\"\")\n",
    "f.close()"
   ]
  },
  {
   "cell_type": "code",
   "execution_count": 11,
   "id": "99e75fe8",
   "metadata": {},
   "outputs": [
    {
     "name": "stdout",
     "output_type": "stream",
     "text": [
      "hi\n",
      "how are you\n",
      "I am file"
     ]
    }
   ],
   "source": [
    "# reading entire content using readlines:\n",
    "\n",
    "f = open(\"sample1.txt\",'r')\n",
    "while True:\n",
    "    data = f.readline()\n",
    "    \n",
    "    if data == \"\":\n",
    "        break\n",
    "    else:\n",
    "        print(data,end=\"\")\n",
    "\n",
    "f.close()"
   ]
  },
  {
   "cell_type": "markdown",
   "id": "da80b17d",
   "metadata": {},
   "source": [
    "## Using Context Manager (with)\n",
    "\n",
    "- 'with' is a replacement of f.close.\n",
    "- we don't need to write f.close after opening the file because it will automatically close the file after the usage."
   ]
  },
  {
   "cell_type": "code",
   "execution_count": 12,
   "id": "f61d9f28",
   "metadata": {},
   "outputs": [],
   "source": [
    "with open('sample.txt', 'w') as f:\n",
    "    f.write(\"selemon bhoii..!!\")"
   ]
  },
  {
   "cell_type": "code",
   "execution_count": 13,
   "id": "3a2cf247",
   "metadata": {},
   "outputs": [
    {
     "name": "stdout",
     "output_type": "stream",
     "text": [
      "selemon bhoii..!!\n"
     ]
    }
   ],
   "source": [
    "#using read():\n",
    "with open('sample.txt', 'r') as f:\n",
    "    print(f.readline())"
   ]
  },
  {
   "cell_type": "code",
   "execution_count": 15,
   "id": "42164685",
   "metadata": {},
   "outputs": [
    {
     "name": "stdout",
     "output_type": "stream",
     "text": [
      "hi\n",
      "how are\n",
      " you\n",
      "I am \n"
     ]
    }
   ],
   "source": [
    "# moving within a file -> first 10 characters then next 10 characters:\n",
    "with open('sample1.txt', 'r') as f:\n",
    "    print(f.read(10))\n",
    "    print(f.read(10))"
   ]
  },
  {
   "cell_type": "markdown",
   "id": "9ef411dd",
   "metadata": {},
   "source": [
    "### Seek and tell function"
   ]
  },
  {
   "cell_type": "code",
   "execution_count": 17,
   "id": "92ab2fec",
   "metadata": {},
   "outputs": [
    {
     "name": "stdout",
     "output_type": "stream",
     "text": [
      "hi\n",
      "how are\n",
      "11\n"
     ]
    }
   ],
   "source": [
    "#tell(): it tells us how many characters are printed till the time and on whihch position no the pointer is pointing now.\n",
    "with open('sample1.txt', 'r') as f:\n",
    "    print(f.read(10))\n",
    "    print(f.tell())"
   ]
  },
  {
   "cell_type": "code",
   "execution_count": 21,
   "id": "bf7daa94",
   "metadata": {},
   "outputs": [
    {
     "name": "stdout",
     "output_type": "stream",
     "text": [
      "hi\n",
      "how are\n",
      "11\n",
      "hi\n",
      "how are\n"
     ]
    }
   ],
   "source": [
    "#Seek(): by using seek function we can jump on any position/character in the file.\n",
    "with open('sample1.txt', 'r') as f:\n",
    "    print(f.read(10))\n",
    "    print(f.tell())\n",
    "    \n",
    "    f.seek(0)\n",
    "    print(f.read(10))"
   ]
  },
  {
   "cell_type": "code",
   "execution_count": 1,
   "id": "e4c2e1e0",
   "metadata": {},
   "outputs": [],
   "source": [
    "#Seek during write:\n",
    "\n",
    "with open(\"sample.txt\", 'w') as f:\n",
    "    f.write(\"Hello\")\n",
    "    f.seek(0)\n",
    "    f.write('Xa')"
   ]
  },
  {
   "cell_type": "markdown",
   "id": "3d262d87",
   "metadata": {},
   "source": [
    "## Problems in working with text files:\n",
    "\n",
    "- cant's works with binary files like images.\n",
    "- not good for other data types like float/tuple/int/list."
   ]
  },
  {
   "cell_type": "markdown",
   "id": "2ddb0079",
   "metadata": {},
   "source": [
    "### Working with binary files (images)"
   ]
  },
  {
   "cell_type": "code",
   "execution_count": 23,
   "id": "d140d01a",
   "metadata": {},
   "outputs": [],
   "source": [
    "with open(\"example.png\", 'rb') as f:           # 'rb' (read binary) while working with binary files\n",
    "    with open(\"example_copy.png\", 'wb') as wf: # 'wb' (write binary)\n",
    "        wf.write(f.read())"
   ]
  },
  {
   "cell_type": "markdown",
   "id": "613f87cc",
   "metadata": {},
   "source": [
    "### Working with integer data type"
   ]
  },
  {
   "cell_type": "code",
   "execution_count": 24,
   "id": "dd3b50b0",
   "metadata": {},
   "outputs": [],
   "source": [
    "# As we know, file handling only works with string data type it does not support any other data type. In this case, we have to\n",
    "# do type conversion for working with integers.\n",
    "\n",
    "with open(\"sample.txt\", 'w') as f:\n",
    "    f.write('5')  #type conversion: int -> str ('5')"
   ]
  },
  {
   "cell_type": "code",
   "execution_count": 29,
   "id": "67e2dccb",
   "metadata": {},
   "outputs": [
    {
     "name": "stdout",
     "output_type": "stream",
     "text": [
      "10\n"
     ]
    }
   ],
   "source": [
    "with open(\"sample.txt\", 'r') as f:\n",
    "    print(int(f.read()) + 5) # str-> int for doing addition"
   ]
  },
  {
   "cell_type": "markdown",
   "id": "b8f11b30",
   "metadata": {},
   "source": [
    "# Serialization and Deserialization\n",
    "\n",
    "This concept is used because in simple file handling, we can't work with complex data types like list/dict/tuple/set. This concept helps to overcome this problem with the help json.\n",
    "\n",
    "- Serialization: Process of converting python data types to JSON format.\n",
    "- Deserialization: Process of converting Json to python data type."
   ]
  },
  {
   "cell_type": "code",
   "execution_count": 30,
   "id": "23abe868",
   "metadata": {},
   "outputs": [],
   "source": [
    "# Serialization using Json module.\n",
    "# 1. List:\n",
    "\n",
    "import json\n",
    "\n",
    "L = [1,2,3,4]\n",
    "\n",
    "with open('demo.json','w') as f:\n",
    "    json.dump(L,f)             # dump works like write."
   ]
  },
  {
   "cell_type": "code",
   "execution_count": 31,
   "id": "b3d2a072",
   "metadata": {},
   "outputs": [],
   "source": [
    "# 2. dict:\n",
    "d = {\n",
    "    'name': 'vedant',\n",
    "    'age': 19,\n",
    "    'gender': 'male'\n",
    "}\n",
    "\n",
    "with open('demo.json','w') as f:\n",
    "    json.dump(d,f,indent=4)   "
   ]
  },
  {
   "cell_type": "code",
   "execution_count": 33,
   "id": "750cedbf",
   "metadata": {},
   "outputs": [
    {
     "name": "stdout",
     "output_type": "stream",
     "text": [
      "{'name': 'vedant', 'age': 19, 'gender': 'male'}\n"
     ]
    }
   ],
   "source": [
    "# Deserialization:\n",
    "\n",
    "import json\n",
    "\n",
    "with open('demo.json','r') as f:\n",
    "    d = json.load(f)            # here load acts like read from file\n",
    "    print(d)"
   ]
  },
  {
   "cell_type": "markdown",
   "id": "bbf33e79",
   "metadata": {},
   "source": [
    "## Serializing and Deserializing custom objects"
   ]
  },
  {
   "cell_type": "code",
   "execution_count": 2,
   "id": "9c96a383",
   "metadata": {},
   "outputs": [],
   "source": [
    "class Person:\n",
    "\n",
    "  def __init__(self,fname,lname,age,gender):\n",
    "    self.fname = fname\n",
    "    self.lname = lname\n",
    "    self.age = age\n",
    "    self.gender = gender\n",
    "\n",
    "# format to printed in\n",
    "# -> Nitish Singh age -> 33 gender -> male"
   ]
  },
  {
   "cell_type": "code",
   "execution_count": 3,
   "id": "e8b0375b",
   "metadata": {},
   "outputs": [],
   "source": [
    "person = Person('Nitish','Singh',33,'male')"
   ]
  },
  {
   "cell_type": "code",
   "execution_count": 4,
   "id": "95e5258a",
   "metadata": {},
   "outputs": [],
   "source": [
    "# As a string\n",
    "import json\n",
    "\n",
    "def show_object(person):\n",
    "  if isinstance(person,Person):\n",
    "    return \"{} {} age -> {} gender -> {}\".format(person.fname,person.lname,person.age,person.gender)\n",
    "\n",
    "with open('demo.json','w') as f:\n",
    "  json.dump(person,f,default=show_object)"
   ]
  },
  {
   "cell_type": "code",
   "execution_count": 39,
   "id": "e1d2841f",
   "metadata": {},
   "outputs": [],
   "source": [
    "# As a dict\n",
    "import json\n",
    "\n",
    "def show_object(person):\n",
    "  if isinstance(person,Person):\n",
    "    return {'name':person.fname + ' ' + person.lname,'age':person.age,'gender':person.gender}\n",
    "\n",
    "with open('demo.json','w') as f:\n",
    "  json.dump(person,f,default=show_object,indent=4)"
   ]
  },
  {
   "cell_type": "code",
   "execution_count": 5,
   "id": "f5896576",
   "metadata": {},
   "outputs": [
    {
     "name": "stdout",
     "output_type": "stream",
     "text": [
      "Nitish Singh age -> 33 gender -> male\n",
      "<class 'str'>\n"
     ]
    }
   ],
   "source": [
    "# deserializing\n",
    "import json\n",
    "\n",
    "with open('demo.json','r') as f:\n",
    "  d = json.load(f)\n",
    "  print(d)\n",
    "  print(type(d))"
   ]
  },
  {
   "cell_type": "markdown",
   "id": "5aaac6cc",
   "metadata": {},
   "source": [
    "## Pickling\n",
    "\n",
    "- `Pickling` is the process whereby a Python object hierarchy is converted into a byte stream, and `unpickling` is the inverse operation, whereby a byte stream (from a binary file or bytes-like object) is converted back into an object hierarchy.\n",
    "- In easy words, when an object of a class is created, it has access of all the elements in that class. During pickling, the object is converted into binary and moved to the another file, still it has access to the elements of the class. And similarly, unpickling, that object binary file is converted into original object.\n",
    "\n",
    "Note:- The object can be converted into binary, then it is tranferable from one file to another."
   ]
  },
  {
   "cell_type": "code",
   "execution_count": 41,
   "id": "9943a2ee",
   "metadata": {},
   "outputs": [],
   "source": [
    "class Person:\n",
    "\n",
    "  def __init__(self,name,age):\n",
    "    self.name = name\n",
    "    self.age = age\n",
    "\n",
    "  def display_info(self):\n",
    "    print('Hi my name is',self.name,'and I am ',self.age,'years old')"
   ]
  },
  {
   "cell_type": "code",
   "execution_count": 42,
   "id": "57690b76",
   "metadata": {},
   "outputs": [],
   "source": [
    "p = Person('nitish',33)"
   ]
  },
  {
   "cell_type": "code",
   "execution_count": 43,
   "id": "3e28b451",
   "metadata": {},
   "outputs": [],
   "source": [
    "# pickle dump (serialization)\n",
    "import pickle\n",
    "with open('person.pkl','wb') as f:   #'wb' beacuse it converts the object to binary format and send it to the another file\n",
    "  pickle.dump(p,f)"
   ]
  },
  {
   "cell_type": "code",
   "execution_count": 44,
   "id": "32c85d9f",
   "metadata": {},
   "outputs": [
    {
     "name": "stdout",
     "output_type": "stream",
     "text": [
      "Hi my name is nitish and I am  33 years old\n"
     ]
    }
   ],
   "source": [
    "# pickle load (Deserialization)\n",
    "import pickle\n",
    "with open('person.pkl','rb') as f:\n",
    "  p = pickle.load(f)\n",
    "\n",
    "p.display_info()"
   ]
  },
  {
   "cell_type": "markdown",
   "id": "db7bb145",
   "metadata": {},
   "source": [
    "### Pickle Vs Json\n",
    "\n",
    "- Pickle lets the user to store data in binary format. JSON lets the user store data in a human-readable text format.\n",
    "- Pickle is used when we have to retain the data and json is used when we have to show the text data to the user."
   ]
  },
  {
   "cell_type": "code",
   "execution_count": null,
   "id": "f6ecb50f",
   "metadata": {},
   "outputs": [],
   "source": []
  }
 ],
 "metadata": {
  "kernelspec": {
   "display_name": "Python 3 (ipykernel)",
   "language": "python",
   "name": "python3"
  },
  "language_info": {
   "codemirror_mode": {
    "name": "ipython",
    "version": 3
   },
   "file_extension": ".py",
   "mimetype": "text/x-python",
   "name": "python",
   "nbconvert_exporter": "python",
   "pygments_lexer": "ipython3",
   "version": "3.10.2"
  }
 },
 "nbformat": 4,
 "nbformat_minor": 5
}
