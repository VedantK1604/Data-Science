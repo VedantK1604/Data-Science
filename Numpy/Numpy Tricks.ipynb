{
 "cells": [
  {
   "cell_type": "markdown",
   "id": "26a21789",
   "metadata": {},
   "source": [
    "# np.sort "
   ]
  },
  {
   "cell_type": "code",
   "execution_count": 2,
   "id": "f04f52c5",
   "metadata": {},
   "outputs": [
    {
     "data": {
      "text/plain": [
       "array([61, 40, 73, 85, 86, 74, 54, 40, 14, 51,  7, 80, 57, 51, 84])"
      ]
     },
     "execution_count": 2,
     "metadata": {},
     "output_type": "execute_result"
    }
   ],
   "source": [
    "#Returns the sorted copy of an array.\n",
    "import numpy as np\n",
    "a = np.random.randint(1,100,15)\n",
    "a"
   ]
  },
  {
   "cell_type": "code",
   "execution_count": 3,
   "id": "4237e1ba",
   "metadata": {},
   "outputs": [
    {
     "data": {
      "text/plain": [
       "array([[12, 58, 64, 21],\n",
       "       [48, 75, 75, 99],\n",
       "       [95, 99, 26, 15],\n",
       "       [17, 31,  5,  6],\n",
       "       [20, 31,  9, 40],\n",
       "       [28, 12, 63, 10]])"
      ]
     },
     "execution_count": 3,
     "metadata": {},
     "output_type": "execute_result"
    }
   ],
   "source": [
    "b = np.random.randint(1,100,24).reshape(6,4)\n",
    "b"
   ]
  },
  {
   "cell_type": "code",
   "execution_count": 5,
   "id": "d4829473",
   "metadata": {},
   "outputs": [
    {
     "data": {
      "text/plain": [
       "array([21, 24, 31, 37, 37, 43, 44, 48, 52, 54, 58, 65, 68, 87, 96])"
      ]
     },
     "execution_count": 5,
     "metadata": {},
     "output_type": "execute_result"
    }
   ],
   "source": [
    "#Sort:\n",
    "np.sort(a)"
   ]
  },
  {
   "cell_type": "code",
   "execution_count": 4,
   "id": "780ad19e",
   "metadata": {},
   "outputs": [
    {
     "data": {
      "text/plain": [
       "array([99, 90, 78, 76, 73, 68, 65, 64, 48, 45, 40, 40, 39, 28, 27])"
      ]
     },
     "execution_count": 4,
     "metadata": {},
     "output_type": "execute_result"
    }
   ],
   "source": [
    "np.sort(a)[::-1] #sorts in descending order, or reverse the list."
   ]
  },
  {
   "cell_type": "code",
   "execution_count": 5,
   "id": "886df6fc",
   "metadata": {},
   "outputs": [
    {
     "data": {
      "text/plain": [
       "array([[ 7, 57, 69, 85],\n",
       "       [23, 43, 58, 63],\n",
       "       [23, 37, 55, 71],\n",
       "       [22, 30, 72, 76],\n",
       "       [ 3, 63, 64, 88],\n",
       "       [13, 61, 78, 93]])"
      ]
     },
     "execution_count": 5,
     "metadata": {},
     "output_type": "execute_result"
    }
   ],
   "source": [
    "np.sort(b)  #Row wise sorting of a 2D array."
   ]
  },
  {
   "cell_type": "code",
   "execution_count": 6,
   "id": "9e55db6d",
   "metadata": {},
   "outputs": [
    {
     "data": {
      "text/plain": [
       "array([[23, 23,  7,  3],\n",
       "       [57, 30, 22, 13],\n",
       "       [63, 61, 37, 55],\n",
       "       [64, 69, 43, 58],\n",
       "       [76, 71, 63, 72],\n",
       "       [78, 88, 93, 85]])"
      ]
     },
     "execution_count": 6,
     "metadata": {},
     "output_type": "execute_result"
    }
   ],
   "source": [
    "np.sort(b, axis = 0)   #Column wise sorting."
   ]
  },
  {
   "cell_type": "markdown",
   "id": "09dbdf3e",
   "metadata": {},
   "source": [
    "# np.append()"
   ]
  },
  {
   "cell_type": "code",
   "execution_count": 7,
   "id": "fed08359",
   "metadata": {},
   "outputs": [
    {
     "data": {
      "text/plain": [
       "array([ 90,  78,  73,  99,  28,  40,  27,  40,  48,  39,  65,  76,  45,\n",
       "        68,  64, 200])"
      ]
     },
     "execution_count": 7,
     "metadata": {},
     "output_type": "execute_result"
    }
   ],
   "source": [
    "#appends the value along the mentioned axis at the end of the array.\n",
    "np.append(a,200)"
   ]
  },
  {
   "cell_type": "code",
   "execution_count": 8,
   "id": "a5ab7fe9",
   "metadata": {},
   "outputs": [
    {
     "data": {
      "text/plain": [
       "array([[57.        , 69.        ,  7.        , 85.        ,  0.78445636],\n",
       "       [63.        , 23.        , 43.        , 58.        ,  0.81472975],\n",
       "       [23.        , 71.        , 37.        , 55.        ,  0.73222935],\n",
       "       [76.        , 30.        , 22.        , 72.        ,  0.51062359],\n",
       "       [64.        , 88.        , 63.        ,  3.        ,  0.49077433],\n",
       "       [78.        , 61.        , 93.        , 13.        ,  0.23883234]])"
      ]
     },
     "execution_count": 8,
     "metadata": {},
     "output_type": "execute_result"
    }
   ],
   "source": [
    "#To add a column in a existing 2d numpy array.\n",
    "np.append(b,np.random.random((b.shape[0],1)), axis=1)"
   ]
  },
  {
   "cell_type": "code",
   "execution_count": 9,
   "id": "5d97e77e",
   "metadata": {},
   "outputs": [
    {
     "data": {
      "text/plain": [
       "array([[57., 69.,  7., 85.,  1.],\n",
       "       [63., 23., 43., 58.,  1.],\n",
       "       [23., 71., 37., 55.,  1.],\n",
       "       [76., 30., 22., 72.,  1.],\n",
       "       [64., 88., 63.,  3.,  1.],\n",
       "       [78., 61., 93., 13.,  1.]])"
      ]
     },
     "execution_count": 9,
     "metadata": {},
     "output_type": "execute_result"
    }
   ],
   "source": [
    "np.append(b,np.ones((b.shape[0],1)), axis=1)"
   ]
  },
  {
   "cell_type": "markdown",
   "id": "24542eb5",
   "metadata": {},
   "source": [
    "# np.concatenate"
   ]
  },
  {
   "cell_type": "code",
   "execution_count": 10,
   "id": "5ff92bfb",
   "metadata": {},
   "outputs": [
    {
     "name": "stdout",
     "output_type": "stream",
     "text": [
      "[[0 1 2]\n",
      " [3 4 5]]\n",
      "[[ 6  7  8]\n",
      " [ 9 10 11]]\n"
     ]
    }
   ],
   "source": [
    "c = np.arange(6).reshape(2,3)\n",
    "d = np.arange(6,12).reshape(2,3)\n",
    "print(c)\n",
    "print(d)"
   ]
  },
  {
   "cell_type": "code",
   "execution_count": 11,
   "id": "624187ba",
   "metadata": {},
   "outputs": [
    {
     "data": {
      "text/plain": [
       "array([[ 0,  1,  2],\n",
       "       [ 3,  4,  5],\n",
       "       [ 6,  7,  8],\n",
       "       [ 9, 10, 11]])"
      ]
     },
     "execution_count": 11,
     "metadata": {},
     "output_type": "execute_result"
    }
   ],
   "source": [
    "np.concatenate((c,d), axis=0) #row wise concatenation, similar to horizontal stacking."
   ]
  },
  {
   "cell_type": "code",
   "execution_count": 12,
   "id": "7e406053",
   "metadata": {},
   "outputs": [
    {
     "data": {
      "text/plain": [
       "array([[ 0,  1,  2,  6,  7,  8],\n",
       "       [ 3,  4,  5,  9, 10, 11]])"
      ]
     },
     "execution_count": 12,
     "metadata": {},
     "output_type": "execute_result"
    }
   ],
   "source": [
    "np.concatenate((c,d), axis=1) ##column wise concatenation, similar to vertical stacking. "
   ]
  },
  {
   "cell_type": "markdown",
   "id": "143cedbb",
   "metadata": {},
   "source": [
    "# np.unique()"
   ]
  },
  {
   "cell_type": "code",
   "execution_count": 4,
   "id": "606bc8d4",
   "metadata": {},
   "outputs": [],
   "source": [
    "#With the help of unique(), we can get the unique values from an array.\n",
    "e = np.array([1,1,2,2,3,3,4,4,5,5,6,6,7,7])\n",
    "f = np.array([[1,2,3,1],[1,2,3,2]])"
   ]
  },
  {
   "cell_type": "code",
   "execution_count": 14,
   "id": "9f70f792",
   "metadata": {},
   "outputs": [
    {
     "data": {
      "text/plain": [
       "array([1, 1, 2, 2, 3, 3, 4, 4, 5, 5, 6, 6, 7, 7])"
      ]
     },
     "execution_count": 14,
     "metadata": {},
     "output_type": "execute_result"
    }
   ],
   "source": [
    "e"
   ]
  },
  {
   "cell_type": "code",
   "execution_count": 6,
   "id": "9bda10ae",
   "metadata": {},
   "outputs": [
    {
     "data": {
      "text/plain": [
       "array([[1, 2, 3, 1],\n",
       "       [1, 2, 3, 2]])"
      ]
     },
     "execution_count": 6,
     "metadata": {},
     "output_type": "execute_result"
    }
   ],
   "source": [
    "np.unique(f,axis=0)  #gives the unique items from the array."
   ]
  },
  {
   "cell_type": "markdown",
   "id": "ea98b08e",
   "metadata": {},
   "source": [
    "# np.expand_dims()"
   ]
  },
  {
   "cell_type": "code",
   "execution_count": 16,
   "id": "ef60786b",
   "metadata": {},
   "outputs": [
    {
     "data": {
      "text/plain": [
       "array([90, 78, 73, 99, 28, 40, 27, 40, 48, 39, 65, 76, 45, 68, 64])"
      ]
     },
     "execution_count": 16,
     "metadata": {},
     "output_type": "execute_result"
    }
   ],
   "source": [
    "#With the help of this function we can get the expanded dimensions of an array.\n",
    "a"
   ]
  },
  {
   "cell_type": "code",
   "execution_count": 17,
   "id": "1a0430c5",
   "metadata": {},
   "outputs": [
    {
     "data": {
      "text/plain": [
       "(15,)"
      ]
     },
     "execution_count": 17,
     "metadata": {},
     "output_type": "execute_result"
    }
   ],
   "source": [
    "a.shape"
   ]
  },
  {
   "cell_type": "code",
   "execution_count": 18,
   "id": "a0903743",
   "metadata": {},
   "outputs": [
    {
     "data": {
      "text/plain": [
       "array([[90, 78, 73, 99, 28, 40, 27, 40, 48, 39, 65, 76, 45, 68, 64]])"
      ]
     },
     "execution_count": 18,
     "metadata": {},
     "output_type": "execute_result"
    }
   ],
   "source": [
    "#after using the function it add the dimension or expand the dimension from 1D to 2D.\n",
    "a_a = np.expand_dims(a, axis=0)\n",
    "a_a"
   ]
  },
  {
   "cell_type": "code",
   "execution_count": 19,
   "id": "1cd74062",
   "metadata": {},
   "outputs": [
    {
     "data": {
      "text/plain": [
       "(1, 15)"
      ]
     },
     "execution_count": 19,
     "metadata": {},
     "output_type": "execute_result"
    }
   ],
   "source": [
    "a_a.shape"
   ]
  },
  {
   "cell_type": "code",
   "execution_count": 20,
   "id": "31d4cc6f",
   "metadata": {},
   "outputs": [
    {
     "name": "stdout",
     "output_type": "stream",
     "text": [
      "(15, 1)\n"
     ]
    }
   ],
   "source": [
    "a_a = np.expand_dims(a, axis=1)\n",
    "a_a\n",
    "print(a_a.shape)"
   ]
  },
  {
   "cell_type": "markdown",
   "id": "87ed71fc",
   "metadata": {},
   "source": [
    "# np.where()"
   ]
  },
  {
   "cell_type": "code",
   "execution_count": 21,
   "id": "d34c28d6",
   "metadata": {},
   "outputs": [
    {
     "data": {
      "text/plain": [
       "array([90, 78, 73, 99, 28, 40, 27, 40, 48, 39, 65, 76, 45, 68, 64])"
      ]
     },
     "execution_count": 21,
     "metadata": {},
     "output_type": "execute_result"
    }
   ],
   "source": [
    "#Returns the indices of elements in an array where the given conditions is satisfied.\n",
    "a"
   ]
  },
  {
   "cell_type": "code",
   "execution_count": 22,
   "id": "ab217482",
   "metadata": {},
   "outputs": [
    {
     "data": {
      "text/plain": [
       "(array([ 0,  1,  2,  3, 10, 11, 13, 14], dtype=int64),)"
      ]
     },
     "execution_count": 22,
     "metadata": {},
     "output_type": "execute_result"
    }
   ],
   "source": [
    "#Find the index position of values greater than 50.\n",
    "np.where(a>50)"
   ]
  },
  {
   "cell_type": "code",
   "execution_count": 23,
   "id": "8c808214",
   "metadata": {},
   "outputs": [
    {
     "data": {
      "text/plain": [
       "array([ 0,  0,  0,  0, 28, 40, 27, 40, 48, 39,  0,  0, 45,  0,  0])"
      ]
     },
     "execution_count": 23,
     "metadata": {},
     "output_type": "execute_result"
    }
   ],
   "source": [
    "#Replace all values >50 with 0.\n",
    "#np.where(condition,True, false)\n",
    "np.where(a>50, 0, a)"
   ]
  },
  {
   "cell_type": "code",
   "execution_count": 24,
   "id": "ff51b652",
   "metadata": {},
   "outputs": [
    {
     "data": {
      "text/plain": [
       "array([ 0,  0, 73, 99,  0,  0, 27,  0,  0, 39, 65,  0, 45,  0,  0])"
      ]
     },
     "execution_count": 24,
     "metadata": {},
     "output_type": "execute_result"
    }
   ],
   "source": [
    "#Replace all even numbers with zeros.\n",
    "np.where(a%2==0, 0,a)"
   ]
  },
  {
   "cell_type": "markdown",
   "id": "f08656ad",
   "metadata": {},
   "source": [
    "# np.argmax()"
   ]
  },
  {
   "cell_type": "code",
   "execution_count": 25,
   "id": "c1b80b55",
   "metadata": {},
   "outputs": [
    {
     "data": {
      "text/plain": [
       "array([90, 78, 73, 99, 28, 40, 27, 40, 48, 39, 65, 76, 45, 68, 64])"
      ]
     },
     "execution_count": 25,
     "metadata": {},
     "output_type": "execute_result"
    }
   ],
   "source": [
    "#returns the index position of max element of the array in a particular axis.\n",
    "a"
   ]
  },
  {
   "cell_type": "code",
   "execution_count": 26,
   "id": "002f77b5",
   "metadata": {},
   "outputs": [
    {
     "data": {
      "text/plain": [
       "3"
      ]
     },
     "execution_count": 26,
     "metadata": {},
     "output_type": "execute_result"
    }
   ],
   "source": [
    "np.argmax(a)  "
   ]
  },
  {
   "cell_type": "code",
   "execution_count": 27,
   "id": "03dfd9c5",
   "metadata": {},
   "outputs": [
    {
     "data": {
      "text/plain": [
       "array([[57, 69,  7, 85],\n",
       "       [63, 23, 43, 58],\n",
       "       [23, 71, 37, 55],\n",
       "       [76, 30, 22, 72],\n",
       "       [64, 88, 63,  3],\n",
       "       [78, 61, 93, 13]])"
      ]
     },
     "execution_count": 27,
     "metadata": {},
     "output_type": "execute_result"
    }
   ],
   "source": [
    "b"
   ]
  },
  {
   "cell_type": "code",
   "execution_count": 28,
   "id": "a0208820",
   "metadata": {},
   "outputs": [
    {
     "data": {
      "text/plain": [
       "array([5, 4, 5, 0], dtype=int64)"
      ]
     },
     "execution_count": 28,
     "metadata": {},
     "output_type": "execute_result"
    }
   ],
   "source": [
    "np.argmax(b, axis=0)  #Gives column wise index of max number."
   ]
  },
  {
   "cell_type": "code",
   "execution_count": 29,
   "id": "ecfe2c11",
   "metadata": {},
   "outputs": [
    {
     "data": {
      "text/plain": [
       "array([3, 0, 1, 0, 1, 2], dtype=int64)"
      ]
     },
     "execution_count": 29,
     "metadata": {},
     "output_type": "execute_result"
    }
   ],
   "source": [
    "np.argmax(b, axis=1)  #Gives row wise index of max number."
   ]
  },
  {
   "cell_type": "markdown",
   "id": "cc60b83b",
   "metadata": {},
   "source": [
    "# np.argmin()"
   ]
  },
  {
   "cell_type": "code",
   "execution_count": 30,
   "id": "6ac2109f",
   "metadata": {},
   "outputs": [
    {
     "data": {
      "text/plain": [
       "6"
      ]
     },
     "execution_count": 30,
     "metadata": {},
     "output_type": "execute_result"
    }
   ],
   "source": [
    "#opposite of argmax().\n",
    "np.argmin(a)"
   ]
  },
  {
   "cell_type": "markdown",
   "id": "c06413aa",
   "metadata": {},
   "source": [
    "# np.cumsum()"
   ]
  },
  {
   "cell_type": "code",
   "execution_count": 31,
   "id": "37b74991",
   "metadata": {},
   "outputs": [
    {
     "data": {
      "text/plain": [
       "array([90, 78, 73, 99, 28, 40, 27, 40, 48, 39, 65, 76, 45, 68, 64])"
      ]
     },
     "execution_count": 31,
     "metadata": {},
     "output_type": "execute_result"
    }
   ],
   "source": [
    "#adding the previous sum to the next values and so on..\n",
    "#This function gives the cummulative sum of an array over a given axis.\n",
    "a"
   ]
  },
  {
   "cell_type": "code",
   "execution_count": 32,
   "id": "4b7dfc88",
   "metadata": {},
   "outputs": [
    {
     "data": {
      "text/plain": [
       "array([ 90, 168, 241, 340, 368, 408, 435, 475, 523, 562, 627, 703, 748,\n",
       "       816, 880])"
      ]
     },
     "execution_count": 32,
     "metadata": {},
     "output_type": "execute_result"
    }
   ],
   "source": [
    "np.cumsum(a)"
   ]
  },
  {
   "cell_type": "code",
   "execution_count": 33,
   "id": "722b4cc6",
   "metadata": {},
   "outputs": [
    {
     "data": {
      "text/plain": [
       "array([[57, 69,  7, 85],\n",
       "       [63, 23, 43, 58],\n",
       "       [23, 71, 37, 55],\n",
       "       [76, 30, 22, 72],\n",
       "       [64, 88, 63,  3],\n",
       "       [78, 61, 93, 13]])"
      ]
     },
     "execution_count": 33,
     "metadata": {},
     "output_type": "execute_result"
    }
   ],
   "source": [
    "b"
   ]
  },
  {
   "cell_type": "code",
   "execution_count": 34,
   "id": "7559a39b",
   "metadata": {},
   "outputs": [
    {
     "data": {
      "text/plain": [
       "array([[ 57,  69,   7,  85],\n",
       "       [120,  92,  50, 143],\n",
       "       [143, 163,  87, 198],\n",
       "       [219, 193, 109, 270],\n",
       "       [283, 281, 172, 273],\n",
       "       [361, 342, 265, 286]])"
      ]
     },
     "execution_count": 34,
     "metadata": {},
     "output_type": "execute_result"
    }
   ],
   "source": [
    "np.cumsum(b, axis=0)  #If axis is not given, it will convert the 2D to 1D and then gives the sum"
   ]
  },
  {
   "cell_type": "code",
   "execution_count": 35,
   "id": "8efab141",
   "metadata": {},
   "outputs": [
    {
     "data": {
      "text/plain": [
       "array([[ 57, 126, 133, 218],\n",
       "       [ 63,  86, 129, 187],\n",
       "       [ 23,  94, 131, 186],\n",
       "       [ 76, 106, 128, 200],\n",
       "       [ 64, 152, 215, 218],\n",
       "       [ 78, 139, 232, 245]])"
      ]
     },
     "execution_count": 35,
     "metadata": {},
     "output_type": "execute_result"
    }
   ],
   "source": [
    "np.cumsum(b, axis=1)"
   ]
  },
  {
   "cell_type": "markdown",
   "id": "f8251f69",
   "metadata": {},
   "source": [
    "# np.cumprod()"
   ]
  },
  {
   "cell_type": "code",
   "execution_count": 36,
   "id": "d5110384",
   "metadata": {},
   "outputs": [
    {
     "data": {
      "text/plain": [
       "array([90, 78, 73, 99, 28, 40, 27, 40, 48, 39, 65, 76, 45, 68, 64])"
      ]
     },
     "execution_count": 36,
     "metadata": {},
     "output_type": "execute_result"
    }
   ],
   "source": [
    "#This function gives the cummulative product.\n",
    "a"
   ]
  },
  {
   "cell_type": "code",
   "execution_count": 37,
   "id": "f218fe49",
   "metadata": {},
   "outputs": [
    {
     "data": {
      "text/plain": [
       "array([         90,        7020,      512460,    50733540,  1420539120,\n",
       "         986989952,   878924928,   797258752,  -386285568,  2114732032,\n",
       "          18628608,  1415774208,  -714670080, -1352925184,  -687865856])"
      ]
     },
     "execution_count": 37,
     "metadata": {},
     "output_type": "execute_result"
    }
   ],
   "source": [
    "np.cumprod(a)"
   ]
  },
  {
   "cell_type": "markdown",
   "id": "f26cf7b3",
   "metadata": {},
   "source": [
    "# np.product()"
   ]
  },
  {
   "cell_type": "code",
   "execution_count": 38,
   "id": "1d2eec50",
   "metadata": {},
   "outputs": [
    {
     "data": {
      "text/plain": [
       "array([90, 78, 73, 99, 28, 40, 27, 40, 48, 39, 65, 76, 45, 68, 64])"
      ]
     },
     "execution_count": 38,
     "metadata": {},
     "output_type": "execute_result"
    }
   ],
   "source": [
    "#Used to compute the nth percentile of the given array.\n",
    "a"
   ]
  },
  {
   "cell_type": "code",
   "execution_count": 39,
   "id": "a285717b",
   "metadata": {},
   "outputs": [
    {
     "data": {
      "text/plain": [
       "99.0"
      ]
     },
     "execution_count": 39,
     "metadata": {},
     "output_type": "execute_result"
    }
   ],
   "source": [
    "np.percentile(a,100) #100 per.-> max., 0 per.-> min."
   ]
  },
  {
   "cell_type": "code",
   "execution_count": 40,
   "id": "348f0ca4",
   "metadata": {
    "scrolled": true
   },
   "outputs": [
    {
     "data": {
      "text/plain": [
       "27.0"
      ]
     },
     "execution_count": 40,
     "metadata": {},
     "output_type": "execute_result"
    }
   ],
   "source": [
    "np.percentile(a,0)"
   ]
  },
  {
   "cell_type": "code",
   "execution_count": 41,
   "id": "22c717e8",
   "metadata": {},
   "outputs": [
    {
     "data": {
      "text/plain": [
       "64.0"
      ]
     },
     "execution_count": 41,
     "metadata": {},
     "output_type": "execute_result"
    }
   ],
   "source": [
    "np.percentile(a,50)"
   ]
  },
  {
   "cell_type": "markdown",
   "id": "24878406",
   "metadata": {},
   "source": [
    "# np.percentile"
   ]
  },
  {
   "cell_type": "code",
   "execution_count": 42,
   "id": "040a7538",
   "metadata": {},
   "outputs": [
    {
     "data": {
      "text/plain": [
       "array([90, 78, 73, 99, 28, 40, 27, 40, 48, 39, 65, 76, 45, 68, 64])"
      ]
     },
     "execution_count": 42,
     "metadata": {},
     "output_type": "execute_result"
    }
   ],
   "source": [
    "a"
   ]
  },
  {
   "cell_type": "code",
   "execution_count": 71,
   "id": "4c4312ad",
   "metadata": {},
   "outputs": [
    {
     "data": {
      "text/plain": [
       "64.0"
      ]
     },
     "execution_count": 71,
     "metadata": {},
     "output_type": "execute_result"
    }
   ],
   "source": [
    "np.percentile(a,50)"
   ]
  },
  {
   "cell_type": "code",
   "execution_count": 77,
   "id": "e6d7f8d1",
   "metadata": {},
   "outputs": [
    {
     "data": {
      "text/plain": [
       "80.60000000000002"
      ]
     },
     "execution_count": 77,
     "metadata": {},
     "output_type": "execute_result"
    }
   ],
   "source": [
    "np.percentile(a,80)"
   ]
  },
  {
   "cell_type": "markdown",
   "id": "b8587884",
   "metadata": {},
   "source": [
    "# np.histogram()"
   ]
  },
  {
   "cell_type": "code",
   "execution_count": 43,
   "id": "48e94db8",
   "metadata": {},
   "outputs": [
    {
     "data": {
      "text/plain": [
       "array([90, 78, 73, 99, 28, 40, 27, 40, 48, 39, 65, 76, 45, 68, 64])"
      ]
     },
     "execution_count": 43,
     "metadata": {},
     "output_type": "execute_result"
    }
   ],
   "source": [
    "#gives the number of items lying b/w the given range or called as bins.\n",
    "a"
   ]
  },
  {
   "cell_type": "code",
   "execution_count": 44,
   "id": "e8592786",
   "metadata": {},
   "outputs": [
    {
     "data": {
      "text/plain": [
       "(array([0, 0, 2, 1, 4, 0, 3, 3, 0, 2], dtype=int64),\n",
       " array([  0,  10,  20,  30,  40,  50,  60,  70,  80,  90, 100]))"
      ]
     },
     "execution_count": 44,
     "metadata": {},
     "output_type": "execute_result"
    }
   ],
   "source": [
    "np.histogram(a, bins=[0,10,20,30,40,50,60,70,80,90,100])"
   ]
  },
  {
   "cell_type": "code",
   "execution_count": 45,
   "id": "2d211fc6",
   "metadata": {},
   "outputs": [
    {
     "data": {
      "text/plain": [
       "(array([7, 8], dtype=int64), array([  0,  50, 100]))"
      ]
     },
     "execution_count": 45,
     "metadata": {},
     "output_type": "execute_result"
    }
   ],
   "source": [
    "np.histogram(a, bins=[0,50,100])"
   ]
  },
  {
   "cell_type": "markdown",
   "id": "8fe845a3",
   "metadata": {},
   "source": [
    "# np.corrcoef()"
   ]
  },
  {
   "cell_type": "code",
   "execution_count": 46,
   "id": "c7b32ac2",
   "metadata": {},
   "outputs": [
    {
     "data": {
      "text/plain": [
       "array([[1.        , 0.25344572],\n",
       "       [0.25344572, 1.        ]])"
      ]
     },
     "execution_count": 46,
     "metadata": {},
     "output_type": "execute_result"
    }
   ],
   "source": [
    "#Returns the correlation coefficient b/w two arrays.\n",
    "salary = np.array([20000,40000,25000,35000,60000])\n",
    "experience = np.array([1,3,2,4,2])\n",
    "\n",
    "np.corrcoef(salary, experience)  #coefficient lies b/w -1 to 1."
   ]
  },
  {
   "cell_type": "markdown",
   "id": "11f33fff",
   "metadata": {},
   "source": [
    "# np.isin()"
   ]
  },
  {
   "cell_type": "code",
   "execution_count": 47,
   "id": "ca46ef99",
   "metadata": {},
   "outputs": [
    {
     "data": {
      "text/plain": [
       "array([90, 78, 73, 99, 28, 40, 27, 40, 48, 39, 65, 76, 45, 68, 64])"
      ]
     },
     "execution_count": 47,
     "metadata": {},
     "output_type": "execute_result"
    }
   ],
   "source": [
    "#We can see that one array having values are checked in different numpy arrays having different elements and differents sizes.\n",
    "#Used to search multiple items in one time.\n",
    "a"
   ]
  },
  {
   "cell_type": "code",
   "execution_count": 48,
   "id": "01c4b054",
   "metadata": {},
   "outputs": [
    {
     "data": {
      "text/plain": [
       "array([ True, False, False, False, False,  True, False,  True, False,\n",
       "       False, False, False, False, False, False])"
      ]
     },
     "execution_count": 48,
     "metadata": {},
     "output_type": "execute_result"
    }
   ],
   "source": [
    "items = [10,20,30,40,50,60,70,80,90,100]\n",
    "\n",
    "np.isin(a, items)"
   ]
  },
  {
   "cell_type": "code",
   "execution_count": 49,
   "id": "dddffc6a",
   "metadata": {},
   "outputs": [
    {
     "data": {
      "text/plain": [
       "array([90, 40, 40])"
      ]
     },
     "execution_count": 49,
     "metadata": {},
     "output_type": "execute_result"
    }
   ],
   "source": [
    "a[np.isin(a, items)]"
   ]
  },
  {
   "cell_type": "markdown",
   "id": "82000a1f",
   "metadata": {},
   "source": [
    "# np.flip "
   ]
  },
  {
   "cell_type": "code",
   "execution_count": 50,
   "id": "2ba9226f",
   "metadata": {},
   "outputs": [
    {
     "data": {
      "text/plain": [
       "array([90, 78, 73, 99, 28, 40, 27, 40, 48, 39, 65, 76, 45, 68, 64])"
      ]
     },
     "execution_count": 50,
     "metadata": {},
     "output_type": "execute_result"
    }
   ],
   "source": [
    "#Flips the array or reverse the array or makes the mirror image of an array.\n",
    "a"
   ]
  },
  {
   "cell_type": "code",
   "execution_count": 51,
   "id": "352a0b8d",
   "metadata": {},
   "outputs": [
    {
     "data": {
      "text/plain": [
       "array([64, 68, 45, 76, 65, 39, 48, 40, 27, 40, 28, 99, 73, 78, 90])"
      ]
     },
     "execution_count": 51,
     "metadata": {},
     "output_type": "execute_result"
    }
   ],
   "source": [
    "np.flip(a)"
   ]
  },
  {
   "cell_type": "code",
   "execution_count": 52,
   "id": "024e21a1",
   "metadata": {},
   "outputs": [
    {
     "data": {
      "text/plain": [
       "array([[57, 69,  7, 85],\n",
       "       [63, 23, 43, 58],\n",
       "       [23, 71, 37, 55],\n",
       "       [76, 30, 22, 72],\n",
       "       [64, 88, 63,  3],\n",
       "       [78, 61, 93, 13]])"
      ]
     },
     "execution_count": 52,
     "metadata": {},
     "output_type": "execute_result"
    }
   ],
   "source": [
    "b"
   ]
  },
  {
   "cell_type": "code",
   "execution_count": 53,
   "id": "b0ef4896",
   "metadata": {},
   "outputs": [
    {
     "data": {
      "text/plain": [
       "array([[13, 93, 61, 78],\n",
       "       [ 3, 63, 88, 64],\n",
       "       [72, 22, 30, 76],\n",
       "       [55, 37, 71, 23],\n",
       "       [58, 43, 23, 63],\n",
       "       [85,  7, 69, 57]])"
      ]
     },
     "execution_count": 53,
     "metadata": {},
     "output_type": "execute_result"
    }
   ],
   "source": [
    "np.flip(b)   #Two types of flipping occurs, first flips column wise and then flips the row wise."
   ]
  },
  {
   "cell_type": "code",
   "execution_count": 54,
   "id": "9884e011",
   "metadata": {},
   "outputs": [
    {
     "data": {
      "text/plain": [
       "array([[78, 61, 93, 13],\n",
       "       [64, 88, 63,  3],\n",
       "       [76, 30, 22, 72],\n",
       "       [23, 71, 37, 55],\n",
       "       [63, 23, 43, 58],\n",
       "       [57, 69,  7, 85]])"
      ]
     },
     "execution_count": 54,
     "metadata": {},
     "output_type": "execute_result"
    }
   ],
   "source": [
    "np.flip(b,axis=0) #column flipping"
   ]
  },
  {
   "cell_type": "code",
   "execution_count": 55,
   "id": "adbd79ad",
   "metadata": {},
   "outputs": [
    {
     "data": {
      "text/plain": [
       "array([[85,  7, 69, 57],\n",
       "       [58, 43, 23, 63],\n",
       "       [55, 37, 71, 23],\n",
       "       [72, 22, 30, 76],\n",
       "       [ 3, 63, 88, 64],\n",
       "       [13, 93, 61, 78]])"
      ]
     },
     "execution_count": 55,
     "metadata": {},
     "output_type": "execute_result"
    }
   ],
   "source": [
    "np.flip(b,axis=1)  #row flipping"
   ]
  },
  {
   "cell_type": "markdown",
   "id": "4157390f",
   "metadata": {},
   "source": [
    "# np.put()"
   ]
  },
  {
   "cell_type": "code",
   "execution_count": 56,
   "id": "64592b67",
   "metadata": {},
   "outputs": [
    {
     "data": {
      "text/plain": [
       "array([90, 78, 73, 99, 28, 40, 27, 40, 48, 39, 65, 76, 45, 68, 64])"
      ]
     },
     "execution_count": 56,
     "metadata": {},
     "output_type": "execute_result"
    }
   ],
   "source": [
    "#This function replaces the index values in the array permanentally. \n",
    "#Can change multiple value at a same time\n",
    "a"
   ]
  },
  {
   "cell_type": "code",
   "execution_count": 57,
   "id": "cab34436",
   "metadata": {},
   "outputs": [
    {
     "data": {
      "text/plain": [
       "array([110, 530,  73,  99,  28,  40,  27,  40,  48,  39,  65,  76,  45,\n",
       "        68,  64])"
      ]
     },
     "execution_count": 57,
     "metadata": {},
     "output_type": "execute_result"
    }
   ],
   "source": [
    "#np.put(array_name,[index_positions],[new_index_values])\n",
    "np.put(a, [0,1],[110,530])\n",
    "a"
   ]
  },
  {
   "cell_type": "markdown",
   "id": "362c1046",
   "metadata": {},
   "source": [
    "# np.delete()"
   ]
  },
  {
   "cell_type": "code",
   "execution_count": 58,
   "id": "cb8db702",
   "metadata": {},
   "outputs": [
    {
     "data": {
      "text/plain": [
       "array([110, 530,  73,  99,  28,  40,  27,  40,  48,  39,  65,  76,  45,\n",
       "        68,  64])"
      ]
     },
     "execution_count": 58,
     "metadata": {},
     "output_type": "execute_result"
    }
   ],
   "source": [
    "#Returns the new array with the deletion of sub-arrays along with the mentioned axis.\n",
    "#This is temporary deletion.\n",
    "a"
   ]
  },
  {
   "cell_type": "code",
   "execution_count": 59,
   "id": "20246070",
   "metadata": {},
   "outputs": [
    {
     "data": {
      "text/plain": [
       "array([530,  99,  40,  27,  40,  48,  39,  65,  76,  45,  68,  64])"
      ]
     },
     "execution_count": 59,
     "metadata": {},
     "output_type": "execute_result"
    }
   ],
   "source": [
    "#np.delete(array_name, index_positions_to_be_deleted)\n",
    "np.delete(a,[0,2,4])"
   ]
  },
  {
   "cell_type": "markdown",
   "id": "c6f4c51b",
   "metadata": {},
   "source": [
    "# Set Functions"
   ]
  },
  {
   "cell_type": "code",
   "execution_count": 60,
   "id": "cea8525d",
   "metadata": {},
   "outputs": [],
   "source": [
    "m = np.array([1,2,3,4,5])\n",
    "n = np.array([3,4,5,6,7])"
   ]
  },
  {
   "cell_type": "code",
   "execution_count": 61,
   "id": "82c3b2c3",
   "metadata": {},
   "outputs": [
    {
     "data": {
      "text/plain": [
       "array([1, 2, 3, 4, 5, 6, 7])"
      ]
     },
     "execution_count": 61,
     "metadata": {},
     "output_type": "execute_result"
    }
   ],
   "source": [
    "#np.uninon1d(m,n)\n",
    "np.union1d(m,n)  #Gives the union of two arrays but does not convert it to a set{}."
   ]
  },
  {
   "cell_type": "code",
   "execution_count": 62,
   "id": "03e3c818",
   "metadata": {
    "scrolled": true
   },
   "outputs": [
    {
     "data": {
      "text/plain": [
       "array([3, 4, 5])"
      ]
     },
     "execution_count": 62,
     "metadata": {},
     "output_type": "execute_result"
    }
   ],
   "source": [
    "#np.intersect1d()\n",
    "np.intersect1d(m,n)"
   ]
  },
  {
   "cell_type": "code",
   "execution_count": 63,
   "id": "b1ff010d",
   "metadata": {},
   "outputs": [
    {
     "data": {
      "text/plain": [
       "array([1, 2])"
      ]
     },
     "execution_count": 63,
     "metadata": {},
     "output_type": "execute_result"
    }
   ],
   "source": [
    "#np.setdiff1d()\n",
    "np.setdiff1d(m,n) #Gives the value which present in 'm' but not in 'n'."
   ]
  },
  {
   "cell_type": "code",
   "execution_count": 64,
   "id": "3de23335",
   "metadata": {},
   "outputs": [
    {
     "data": {
      "text/plain": [
       "array([6, 7])"
      ]
     },
     "execution_count": 64,
     "metadata": {},
     "output_type": "execute_result"
    }
   ],
   "source": [
    "np.setdiff1d(n,m)"
   ]
  },
  {
   "cell_type": "code",
   "execution_count": 65,
   "id": "40385ba2",
   "metadata": {},
   "outputs": [
    {
     "data": {
      "text/plain": [
       "array([1, 2, 6, 7])"
      ]
     },
     "execution_count": 65,
     "metadata": {},
     "output_type": "execute_result"
    }
   ],
   "source": [
    "#np.setxor1d()\n",
    "#removes the common values b/1 m and n.\n",
    "np.setxor1d(m,n)"
   ]
  },
  {
   "cell_type": "code",
   "execution_count": 66,
   "id": "aae7a262",
   "metadata": {},
   "outputs": [
    {
     "data": {
      "text/plain": [
       "array([ True, False, False, False, False])"
      ]
     },
     "execution_count": 66,
     "metadata": {},
     "output_type": "execute_result"
    }
   ],
   "source": [
    "#np.in1d()\n",
    "#shows that the value in present in the array.\n",
    "np.in1d(m,1)"
   ]
  },
  {
   "cell_type": "code",
   "execution_count": 67,
   "id": "33a832fc",
   "metadata": {},
   "outputs": [
    {
     "data": {
      "text/plain": [
       "array([1])"
      ]
     },
     "execution_count": 67,
     "metadata": {},
     "output_type": "execute_result"
    }
   ],
   "source": [
    "\n",
    "\n",
    "\n",
    "m[np.in1d(m,1)]"
   ]
  },
  {
   "cell_type": "code",
   "execution_count": 68,
   "id": "d25c29b9",
   "metadata": {},
   "outputs": [
    {
     "data": {
      "text/plain": [
       "array([False, False, False, False, False])"
      ]
     },
     "execution_count": 68,
     "metadata": {},
     "output_type": "execute_result"
    }
   ],
   "source": [
    "np.in1d(m,10)"
   ]
  },
  {
   "cell_type": "markdown",
   "id": "7672c104",
   "metadata": {},
   "source": [
    "# np.clip"
   ]
  },
  {
   "cell_type": "code",
   "execution_count": 69,
   "id": "17094378",
   "metadata": {},
   "outputs": [
    {
     "data": {
      "text/plain": [
       "array([110, 530,  73,  99,  28,  40,  27,  40,  48,  39,  65,  76,  45,\n",
       "        68,  64])"
      ]
     },
     "execution_count": 69,
     "metadata": {},
     "output_type": "execute_result"
    }
   ],
   "source": [
    "#This function is used to limit the values in the array.\n",
    "a"
   ]
  },
  {
   "cell_type": "code",
   "execution_count": 70,
   "id": "b637cf68",
   "metadata": {},
   "outputs": [
    {
     "data": {
      "text/plain": [
       "array([75, 75, 73, 75, 28, 40, 27, 40, 48, 39, 65, 75, 45, 68, 64])"
      ]
     },
     "execution_count": 70,
     "metadata": {},
     "output_type": "execute_result"
    }
   ],
   "source": [
    "np.clip(a,a_min=25, a_max=75)"
   ]
  },
  {
   "cell_type": "markdown",
   "id": "1729f0e9",
   "metadata": {},
   "source": [
    "##### np.sort(arr, axis=None):- Flatten the array and then sort it.\n",
    "\n",
    "-array([ 6, 15, 48, 60, 63, 70, 74, 90, 92, 93, 93, 96])"
   ]
  },
  {
   "cell_type": "code",
   "execution_count": null,
   "id": "fae1b2cb",
   "metadata": {},
   "outputs": [],
   "source": []
  }
 ],
 "metadata": {
  "kernelspec": {
   "display_name": "Python 3 (ipykernel)",
   "language": "python",
   "name": "python3"
  },
  "language_info": {
   "codemirror_mode": {
    "name": "ipython",
    "version": 3
   },
   "file_extension": ".py",
   "mimetype": "text/x-python",
   "name": "python",
   "nbconvert_exporter": "python",
   "pygments_lexer": "ipython3",
   "version": "3.10.2"
  }
 },
 "nbformat": 4,
 "nbformat_minor": 5
}
