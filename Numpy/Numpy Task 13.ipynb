{
 "cells": [
  {
   "cell_type": "code",
   "execution_count": 5,
   "id": "b9370128",
   "metadata": {},
   "outputs": [],
   "source": [
    "import numpy as np"
   ]
  },
  {
   "cell_type": "markdown",
   "id": "74d5258a",
   "metadata": {},
   "source": [
    "Task 13"
   ]
  },
  {
   "cell_type": "markdown",
   "id": "d3b30abd",
   "metadata": {},
   "source": [
    "Q-1 Create a null vector of size 10 but the fifth value which is 1."
   ]
  },
  {
   "cell_type": "code",
   "execution_count": 9,
   "id": "685d986a",
   "metadata": {},
   "outputs": [
    {
     "data": {
      "text/plain": [
       "array([nan, nan, nan, nan,  1., nan, nan, nan, nan, nan])"
      ]
     },
     "execution_count": 9,
     "metadata": {},
     "output_type": "execute_result"
    }
   ],
   "source": [
    "a = np.nan*np.empty(10)  #np.empty(10) use to multipy with 'nan' value create a 10 'nan' values.\n",
    "a[4]=1\n",
    "a"
   ]
  },
  {
   "cell_type": "markdown",
   "id": "86ca88b9",
   "metadata": {},
   "source": [
    "Q-2` Ask user to input two numbers a, b. Write a program to generate a random array of shape (a, b) and print the array and avg of the array."
   ]
  },
  {
   "cell_type": "code",
   "execution_count": 4,
   "id": "8a1fff24",
   "metadata": {},
   "outputs": [
    {
     "name": "stdout",
     "output_type": "stream",
     "text": [
      "3\n",
      "4\n",
      "[[0.95270888 0.87162243 0.69304245 0.56327342]\n",
      " [0.30255937 0.99512188 0.51374298 0.05164527]\n",
      " [0.14033497 0.50090201 0.75421858 0.7300472 ]]\n"
     ]
    },
    {
     "data": {
      "text/plain": [
       "0.5891016198424591"
      ]
     },
     "execution_count": 4,
     "metadata": {},
     "output_type": "execute_result"
    }
   ],
   "source": [
    "a = int(input())\n",
    "b = int(input())\n",
    "c = np.random.random((a,b))\n",
    "print(c)\n",
    "c.mean()"
   ]
  },
  {
   "cell_type": "markdown",
   "id": "ae1abf47",
   "metadata": {},
   "source": [
    "Q-3Write a function to create a 2d array with 1 on the border and 0 inside. Take 2-D array shape as (a,b) as parameter to function.\n",
    "Eg.-\n",
    "\n",
    "[[1,1,1,1],\n",
    "[1,0,0,1],\n",
    "[1,0,0,1],\n",
    "[1,1,1,1]]"
   ]
  },
  {
   "cell_type": "code",
   "execution_count": null,
   "id": "538230a2",
   "metadata": {
    "scrolled": true
   },
   "outputs": [],
   "source": [
    "def create_array(a,b):\n",
    "    a = np.ones((a,b))\n",
    "    a[1:3,1:3] = 0\n",
    "    return a\n",
    "\n",
    "create_array(4,4)"
   ]
  },
  {
   "cell_type": "markdown",
   "id": "5064d0cc",
   "metadata": {},
   "source": [
    "Q-4 Create a vector of size 10 with values ranging from 0 to 1, both excluded."
   ]
  },
  {
   "cell_type": "code",
   "execution_count": null,
   "id": "d399633e",
   "metadata": {},
   "outputs": [],
   "source": [
    "np.linspace(0,1,12)[1:11]"
   ]
  },
  {
   "cell_type": "markdown",
   "id": "39ae40db",
   "metadata": {},
   "source": [
    "Q-5 Can you create a identity mattrix of shape (3,4). If yes write code for it."
   ]
  },
  {
   "cell_type": "code",
   "execution_count": null,
   "id": "669fda9b",
   "metadata": {},
   "outputs": [],
   "source": [
    "np.identity(3)\n",
    "np.identity(4)"
   ]
  },
  {
   "cell_type": "markdown",
   "id": "6b58d1ea",
   "metadata": {},
   "source": [
    "Q-6: Create a 5x5 matrix with row values ranging from 0 to 4."
   ]
  },
  {
   "cell_type": "code",
   "execution_count": null,
   "id": "ff658651",
   "metadata": {},
   "outputs": [],
   "source": [
    "a = np.zeros((5,5))\n",
    "a += np.arange(5)\n",
    "a"
   ]
  },
  {
   "cell_type": "markdown",
   "id": "350b425b",
   "metadata": {},
   "source": [
    "Q-7: Consider a random integer (in range 1 to 100) vector with shape (10,2) representing coordinates, and coordinates of a point as array is given. Create an array of distance of each point in the random vectros from the given point. Distance array should be interger type.\n",
    "\n",
    "point = np.array([2,3]) "
   ]
  },
  {
   "cell_type": "code",
   "execution_count": null,
   "id": "05da39ee",
   "metadata": {},
   "outputs": [],
   "source": [
    "np.random.randint(1,100,(10,2))\n"
   ]
  },
  {
   "cell_type": "markdown",
   "id": "028d9e18",
   "metadata": {},
   "source": [
    "Q-8: Consider a (6,7,8) shape array, what is the index (x,y,z) of the 100th element?"
   ]
  },
  {
   "cell_type": "code",
   "execution_count": null,
   "id": "5c09def7",
   "metadata": {},
   "outputs": [],
   "source": [
    "np.unravel_index(100, (6,7,8))"
   ]
  },
  {
   "cell_type": "markdown",
   "id": "5bcc8ef9",
   "metadata": {},
   "source": [
    "### `Q-9:` Arrays\n",
    "\n",
    "You are given a space separated list of numbers. Your task is to print a reversed NumPy array with the element type float.\n",
    "\n",
    "\n",
    "\n",
    "**Input Format:**\n",
    "\n",
    "A single line of input containing space separated numbers.\n",
    "\n",
    "**Output Format:**\n",
    "\n",
    "Print the reverse NumPy array with type float.\n",
    "\n",
    "**Example 1:**\n",
    "\n",
    "Input:\n",
    "\n",
    "```bash\n",
    "1 2 3 4 -8 -10\n",
    "```\n",
    "\n",
    "Output:\n",
    "\n",
    "```bash\n",
    "[-10.  -8.   4.   3.   2.   1.]\n",
    "```"
   ]
  },
  {
   "cell_type": "code",
   "execution_count": null,
   "id": "2ad110fc",
   "metadata": {},
   "outputs": [],
   "source": [
    "a = input().strip().split()\n",
    "np.array(a[::-1],dtype=float)"
   ]
  },
  {
   "cell_type": "code",
   "execution_count": null,
   "id": "d26893b3",
   "metadata": {},
   "outputs": [],
   "source": []
  }
 ],
 "metadata": {
  "kernelspec": {
   "display_name": "Python 3 (ipykernel)",
   "language": "python",
   "name": "python3"
  },
  "language_info": {
   "codemirror_mode": {
    "name": "ipython",
    "version": 3
   },
   "file_extension": ".py",
   "mimetype": "text/x-python",
   "name": "python",
   "nbconvert_exporter": "python",
   "pygments_lexer": "ipython3",
   "version": "3.10.9"
  }
 },
 "nbformat": 4,
 "nbformat_minor": 5
}
