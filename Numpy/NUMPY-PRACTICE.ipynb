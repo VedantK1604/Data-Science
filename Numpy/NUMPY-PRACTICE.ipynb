{
 "cells": [
  {
   "cell_type": "code",
   "execution_count": 2,
   "id": "956e2188",
   "metadata": {},
   "outputs": [],
   "source": [
    "import numpy as np"
   ]
  },
  {
   "cell_type": "code",
   "execution_count": 3,
   "id": "7e9d8026",
   "metadata": {},
   "outputs": [
    {
     "data": {
      "text/plain": [
       "array([1, 2, 3, 4])"
      ]
     },
     "execution_count": 3,
     "metadata": {},
     "output_type": "execute_result"
    }
   ],
   "source": [
    "np.array([1,2,3,4])"
   ]
  },
  {
   "cell_type": "code",
   "execution_count": 14,
   "id": "43e27265",
   "metadata": {},
   "outputs": [
    {
     "data": {
      "text/plain": [
       "array([[1., 2., 3., 4.],\n",
       "       [1., 3., 4., 5.],\n",
       "       [2., 2., 4., 4.]])"
      ]
     },
     "execution_count": 14,
     "metadata": {},
     "output_type": "execute_result"
    }
   ],
   "source": [
    "np.array([[1,2,3,4],[1,3,4,5],[2,2,4,4]],dtype=float)"
   ]
  },
  {
   "cell_type": "code",
   "execution_count": 32,
   "id": "7e1fcd89",
   "metadata": {},
   "outputs": [
    {
     "data": {
      "text/plain": [
       "array([[10., 12., 14., 16.],\n",
       "       [18., 20., 22., 24.],\n",
       "       [26., 28., 30., 32.],\n",
       "       [34., 36., 38., 40.]])"
      ]
     },
     "execution_count": 32,
     "metadata": {},
     "output_type": "execute_result"
    }
   ],
   "source": [
    "np.arange(10,41,2,dtype=float).reshape(4,4)"
   ]
  },
  {
   "cell_type": "code",
   "execution_count": 31,
   "id": "f70791e0",
   "metadata": {},
   "outputs": [
    {
     "data": {
      "text/plain": [
       "array([[[[10., 12.],\n",
       "         [14., 16.]],\n",
       "\n",
       "        [[18., 20.],\n",
       "         [22., 24.]]],\n",
       "\n",
       "\n",
       "       [[[26., 28.],\n",
       "         [30., 32.]],\n",
       "\n",
       "        [[34., 36.],\n",
       "         [38., 40.]]]])"
      ]
     },
     "execution_count": 31,
     "metadata": {},
     "output_type": "execute_result"
    }
   ],
   "source": [
    "np.arange(10,41,2,dtype=float).reshape(2,2,2,2)"
   ]
  },
  {
   "cell_type": "code",
   "execution_count": 35,
   "id": "33e38a81",
   "metadata": {},
   "outputs": [
    {
     "data": {
      "text/plain": [
       "array([[1., 1., 1., 1.],\n",
       "       [1., 1., 1., 1.],\n",
       "       [1., 1., 1., 1.]])"
      ]
     },
     "execution_count": 35,
     "metadata": {},
     "output_type": "execute_result"
    }
   ],
   "source": [
    "np.ones((3,4))"
   ]
  },
  {
   "cell_type": "code",
   "execution_count": 37,
   "id": "bf489914",
   "metadata": {},
   "outputs": [
    {
     "data": {
      "text/plain": [
       "array([[0., 0., 0.],\n",
       "       [0., 0., 0.]])"
      ]
     },
     "execution_count": 37,
     "metadata": {},
     "output_type": "execute_result"
    }
   ],
   "source": [
    "np.zeros((2,3))"
   ]
  },
  {
   "cell_type": "code",
   "execution_count": 40,
   "id": "82179329",
   "metadata": {},
   "outputs": [
    {
     "data": {
      "text/plain": [
       "array([[0.69019848, 0.74226284, 0.13011119, 0.55230159],\n",
       "       [0.36363343, 0.23910585, 0.79799683, 0.36296062],\n",
       "       [0.90127928, 0.69458945, 0.30201159, 0.36060136]])"
      ]
     },
     "execution_count": 40,
     "metadata": {},
     "output_type": "execute_result"
    }
   ],
   "source": [
    "np.random.random((3,4))"
   ]
  },
  {
   "cell_type": "code",
   "execution_count": 44,
   "id": "a15a3297",
   "metadata": {},
   "outputs": [
    {
     "data": {
      "text/plain": [
       "array([[[0.48741352, 0.62748847, 0.96740554, 0.39174488, 0.144166  ],\n",
       "        [0.21732223, 0.1439289 , 0.26446287, 0.04108821, 0.94470871],\n",
       "        [0.73342754, 0.35075022, 0.62651775, 0.14339556, 0.36810511],\n",
       "        [0.7746308 , 0.30592293, 0.07134547, 0.55793196, 0.26968321]],\n",
       "\n",
       "       [[0.26887799, 0.24117136, 0.04914496, 0.41266468, 0.92103489],\n",
       "        [0.53156167, 0.40176988, 0.14852043, 0.87583414, 0.51512469],\n",
       "        [0.31320444, 0.06639395, 0.59540061, 0.45421647, 0.92110911],\n",
       "        [0.5575937 , 0.73461189, 0.97797314, 0.37431807, 0.28462816]],\n",
       "\n",
       "       [[0.25914649, 0.05374045, 0.37268964, 0.2140986 , 0.96707316],\n",
       "        [0.10775668, 0.90375319, 0.36322011, 0.94079135, 0.56702916],\n",
       "        [0.07968041, 0.52864195, 0.03693675, 0.9676031 , 0.67033024],\n",
       "        [0.67923791, 0.22822944, 0.91195727, 0.66351699, 0.48028155]]])"
      ]
     },
     "execution_count": 44,
     "metadata": {},
     "output_type": "execute_result"
    }
   ],
   "source": [
    "np.random.random((3,4,5))"
   ]
  },
  {
   "cell_type": "code",
   "execution_count": 47,
   "id": "c2057591",
   "metadata": {},
   "outputs": [
    {
     "data": {
      "text/plain": [
       "array([ 10.        ,   7.14285714,   4.28571429,   1.42857143,\n",
       "        -1.42857143,  -4.28571429,  -7.14285714, -10.        ])"
      ]
     },
     "execution_count": 47,
     "metadata": {},
     "output_type": "execute_result"
    }
   ],
   "source": [
    "np.linspace(10,-10,8)"
   ]
  },
  {
   "cell_type": "code",
   "execution_count": 53,
   "id": "7218e688",
   "metadata": {},
   "outputs": [
    {
     "data": {
      "text/plain": [
       "array([[1., 0., 0., 0., 0., 0., 0., 0., 0., 0.],\n",
       "       [0., 1., 0., 0., 0., 0., 0., 0., 0., 0.],\n",
       "       [0., 0., 1., 0., 0., 0., 0., 0., 0., 0.],\n",
       "       [0., 0., 0., 1., 0., 0., 0., 0., 0., 0.],\n",
       "       [0., 0., 0., 0., 1., 0., 0., 0., 0., 0.],\n",
       "       [0., 0., 0., 0., 0., 1., 0., 0., 0., 0.],\n",
       "       [0., 0., 0., 0., 0., 0., 1., 0., 0., 0.],\n",
       "       [0., 0., 0., 0., 0., 0., 0., 1., 0., 0.],\n",
       "       [0., 0., 0., 0., 0., 0., 0., 0., 1., 0.],\n",
       "       [0., 0., 0., 0., 0., 0., 0., 0., 0., 1.]])"
      ]
     },
     "execution_count": 53,
     "metadata": {},
     "output_type": "execute_result"
    }
   ],
   "source": [
    "np.identity(10)"
   ]
  },
  {
   "cell_type": "code",
   "execution_count": 61,
   "id": "b5ec83a4",
   "metadata": {},
   "outputs": [],
   "source": [
    "a1 = np.arange(10).reshape(5,2)"
   ]
  },
  {
   "cell_type": "code",
   "execution_count": 62,
   "id": "d9f270ba",
   "metadata": {},
   "outputs": [
    {
     "data": {
      "text/plain": [
       "(5, 2)"
      ]
     },
     "execution_count": 62,
     "metadata": {},
     "output_type": "execute_result"
    }
   ],
   "source": [
    "a1.shape"
   ]
  },
  {
   "cell_type": "code",
   "execution_count": null,
   "id": "a74ec06e",
   "metadata": {},
   "outputs": [],
   "source": []
  }
 ],
 "metadata": {
  "kernelspec": {
   "display_name": "Python 3 (ipykernel)",
   "language": "python",
   "name": "python3"
  },
  "language_info": {
   "codemirror_mode": {
    "name": "ipython",
    "version": 3
   },
   "file_extension": ".py",
   "mimetype": "text/x-python",
   "name": "python",
   "nbconvert_exporter": "python",
   "pygments_lexer": "ipython3",
   "version": "3.10.2"
  }
 },
 "nbformat": 4,
 "nbformat_minor": 5
}
