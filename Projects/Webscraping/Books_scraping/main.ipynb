{
 "cells": [
  {
   "cell_type": "code",
   "execution_count": 2,
   "id": "e3e6aac7",
   "metadata": {},
   "outputs": [],
   "source": [
    "from selenium import webdriver\n",
    "from selenium.webdriver.chrome.service import Service\n",
    "from selenium.webdriver.common.by import By\n",
    "from selenium.webdriver.common.keys import Keys\n",
    "import pandas as pd\n",
    "import requests\n",
    "from bs4 import BeautifulSoup\n",
    "import numpy as np\n",
    "import time"
   ]
  },
  {
   "cell_type": "code",
   "execution_count": null,
   "id": "ee5887b0",
   "metadata": {},
   "outputs": [],
   "source": [
    "#path to chrome Driver\n",
    "s = Service(\"F:\\chromedriver-win64\\chromedriver.exe\")\n",
    "driver = webdriver.Chrome(service=s)\n",
    "\n",
    "headers={'User-Agent':'Mozilla/5.0 (Windows NT 6.3; Win 64 ; x64) Apple WeKit /537.36(KHTML , like Gecko) Chrome/80.0.3987.162 Safari/537.36'}\n",
    "\n",
    "driver.get(\"https://www.bookchor.com/category/1/fiction\")\n",
    "\n",
    "\n",
    "link1 = driver.find_element(by=By.XPATH,value='/html/body/div[3]/div/div[2]/div[2]/div[1]/div[2]/h3/a')\n",
    "link1.click()\n",
    "current_url = driver.current_url\n",
    "\n",
    "webpage=requests.get(current_url,headers=headers).text\n",
    "soup=BeautifulSoup(webpage,'lxml')\n",
    "print('url Fetched')\n",
    "driver.back()\n",
    "\n",
    "while True:\n",
    "    pass"
   ]
  },
  {
   "cell_type": "code",
   "execution_count": null,
   "id": "38f459d9",
   "metadata": {},
   "outputs": [],
   "source": []
  }
 ],
 "metadata": {
  "kernelspec": {
   "display_name": "Python 3 (ipykernel)",
   "language": "python",
   "name": "python3"
  },
  "language_info": {
   "codemirror_mode": {
    "name": "ipython",
    "version": 3
   },
   "file_extension": ".py",
   "mimetype": "text/x-python",
   "name": "python",
   "nbconvert_exporter": "python",
   "pygments_lexer": "ipython3",
   "version": "3.10.2"
  }
 },
 "nbformat": 4,
 "nbformat_minor": 5
}
